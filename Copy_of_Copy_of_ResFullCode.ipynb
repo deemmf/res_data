{
  "cells": [
    {
      "cell_type": "markdown",
      "metadata": {
        "id": "view-in-github",
        "colab_type": "text"
      },
      "source": [
        "<a href=\"https://colab.research.google.com/github/deemmf/res_data/blob/main/Copy_of_Copy_of_ResFullCode.ipynb\" target=\"_parent\"><img src=\"https://colab.research.google.com/assets/colab-badge.svg\" alt=\"Open In Colab\"/></a>"
      ]
    },
    {
      "cell_type": "markdown",
      "metadata": {
        "id": "dbkQSOfVoP_s"
      },
      "source": [
        "#**Installing required libraries**"
      ]
    },
    {
      "cell_type": "code",
      "execution_count": 1,
      "metadata": {
        "colab": {
          "base_uri": "https://localhost:8080/"
        },
        "id": "JxyFH1gGoP_u",
        "outputId": "a5e21468-db17-41cc-9934-b7efecb5dc90"
      },
      "outputs": [
        {
          "output_type": "stream",
          "name": "stdout",
          "text": [
            "Looking in indexes: https://pypi.org/simple, https://us-python.pkg.dev/colab-wheels/public/simple/\n",
            "Requirement already satisfied: pandas in /usr/local/lib/python3.7/dist-packages (1.3.5)\n",
            "Requirement already satisfied: python-dateutil>=2.7.3 in /usr/local/lib/python3.7/dist-packages (from pandas) (2.8.2)\n",
            "Requirement already satisfied: numpy>=1.17.3 in /usr/local/lib/python3.7/dist-packages (from pandas) (1.21.6)\n",
            "Requirement already satisfied: pytz>=2017.3 in /usr/local/lib/python3.7/dist-packages (from pandas) (2022.1)\n",
            "Requirement already satisfied: six>=1.5 in /usr/local/lib/python3.7/dist-packages (from python-dateutil>=2.7.3->pandas) (1.15.0)\n",
            "Looking in indexes: https://pypi.org/simple, https://us-python.pkg.dev/colab-wheels/public/simple/\n",
            "Collecting unidecode\n",
            "  Downloading Unidecode-1.3.4-py3-none-any.whl (235 kB)\n",
            "\u001b[K     |████████████████████████████████| 235 kB 6.8 MB/s \n",
            "\u001b[?25hInstalling collected packages: unidecode\n",
            "Successfully installed unidecode-1.3.4\n",
            "Looking in indexes: https://pypi.org/simple, https://us-python.pkg.dev/colab-wheels/public/simple/\n",
            "Collecting pyarabic\n",
            "  Downloading PyArabic-0.6.15-py3-none-any.whl (126 kB)\n",
            "\u001b[K     |████████████████████████████████| 126 kB 6.9 MB/s \n",
            "\u001b[?25hRequirement already satisfied: six>=1.14.0 in /usr/local/lib/python3.7/dist-packages (from pyarabic) (1.15.0)\n",
            "Installing collected packages: pyarabic\n",
            "Successfully installed pyarabic-0.6.15\n",
            "Looking in indexes: https://pypi.org/simple, https://us-python.pkg.dev/colab-wheels/public/simple/\n",
            "Requirement already satisfied: numpy in /usr/local/lib/python3.7/dist-packages (1.21.6)\n",
            "Looking in indexes: https://pypi.org/simple, https://us-python.pkg.dev/colab-wheels/public/simple/\n",
            "Requirement already satisfied: nltk in /usr/local/lib/python3.7/dist-packages (3.7)\n",
            "Requirement already satisfied: regex>=2021.8.3 in /usr/local/lib/python3.7/dist-packages (from nltk) (2022.6.2)\n",
            "Requirement already satisfied: joblib in /usr/local/lib/python3.7/dist-packages (from nltk) (1.1.0)\n",
            "Requirement already satisfied: click in /usr/local/lib/python3.7/dist-packages (from nltk) (7.1.2)\n",
            "Requirement already satisfied: tqdm in /usr/local/lib/python3.7/dist-packages (from nltk) (4.64.0)\n",
            "Looking in indexes: https://pypi.org/simple, https://us-python.pkg.dev/colab-wheels/public/simple/\n",
            "Requirement already satisfied: pyarabic in /usr/local/lib/python3.7/dist-packages (0.6.15)\n",
            "Requirement already satisfied: six>=1.14.0 in /usr/local/lib/python3.7/dist-packages (from pyarabic) (1.15.0)\n",
            "Looking in indexes: https://pypi.org/simple, https://us-python.pkg.dev/colab-wheels/public/simple/\n",
            "Requirement already satisfied: matplotlib in /usr/local/lib/python3.7/dist-packages (3.2.2)\n",
            "Requirement already satisfied: pyparsing!=2.0.4,!=2.1.2,!=2.1.6,>=2.0.1 in /usr/local/lib/python3.7/dist-packages (from matplotlib) (3.0.9)\n",
            "Requirement already satisfied: numpy>=1.11 in /usr/local/lib/python3.7/dist-packages (from matplotlib) (1.21.6)\n",
            "Requirement already satisfied: python-dateutil>=2.1 in /usr/local/lib/python3.7/dist-packages (from matplotlib) (2.8.2)\n",
            "Requirement already satisfied: kiwisolver>=1.0.1 in /usr/local/lib/python3.7/dist-packages (from matplotlib) (1.4.4)\n",
            "Requirement already satisfied: cycler>=0.10 in /usr/local/lib/python3.7/dist-packages (from matplotlib) (0.11.0)\n",
            "Requirement already satisfied: typing-extensions in /usr/local/lib/python3.7/dist-packages (from kiwisolver>=1.0.1->matplotlib) (4.1.1)\n",
            "Requirement already satisfied: six>=1.5 in /usr/local/lib/python3.7/dist-packages (from python-dateutil>=2.1->matplotlib) (1.15.0)\n",
            "Looking in indexes: https://pypi.org/simple, https://us-python.pkg.dev/colab-wheels/public/simple/\n",
            "Requirement already satisfied: sklearn in /usr/local/lib/python3.7/dist-packages (0.0)\n",
            "Requirement already satisfied: scikit-learn in /usr/local/lib/python3.7/dist-packages (from sklearn) (1.0.2)\n",
            "Requirement already satisfied: scipy>=1.1.0 in /usr/local/lib/python3.7/dist-packages (from scikit-learn->sklearn) (1.7.3)\n",
            "Requirement already satisfied: joblib>=0.11 in /usr/local/lib/python3.7/dist-packages (from scikit-learn->sklearn) (1.1.0)\n",
            "Requirement already satisfied: threadpoolctl>=2.0.0 in /usr/local/lib/python3.7/dist-packages (from scikit-learn->sklearn) (3.1.0)\n",
            "Requirement already satisfied: numpy>=1.14.6 in /usr/local/lib/python3.7/dist-packages (from scikit-learn->sklearn) (1.21.6)\n",
            "Looking in indexes: https://pypi.org/simple, https://us-python.pkg.dev/colab-wheels/public/simple/\n",
            "Requirement already satisfied: plotly in /usr/local/lib/python3.7/dist-packages (5.5.0)\n",
            "Requirement already satisfied: tenacity>=6.2.0 in /usr/local/lib/python3.7/dist-packages (from plotly) (8.0.1)\n",
            "Requirement already satisfied: six in /usr/local/lib/python3.7/dist-packages (from plotly) (1.15.0)\n",
            "Looking in indexes: https://pypi.org/simple, https://us-python.pkg.dev/colab-wheels/public/simple/\n",
            "Requirement already satisfied: seaborn in /usr/local/lib/python3.7/dist-packages (0.11.2)\n",
            "Requirement already satisfied: pandas>=0.23 in /usr/local/lib/python3.7/dist-packages (from seaborn) (1.3.5)\n",
            "Requirement already satisfied: scipy>=1.0 in /usr/local/lib/python3.7/dist-packages (from seaborn) (1.7.3)\n",
            "Requirement already satisfied: numpy>=1.15 in /usr/local/lib/python3.7/dist-packages (from seaborn) (1.21.6)\n",
            "Requirement already satisfied: matplotlib>=2.2 in /usr/local/lib/python3.7/dist-packages (from seaborn) (3.2.2)\n",
            "Requirement already satisfied: python-dateutil>=2.1 in /usr/local/lib/python3.7/dist-packages (from matplotlib>=2.2->seaborn) (2.8.2)\n",
            "Requirement already satisfied: pyparsing!=2.0.4,!=2.1.2,!=2.1.6,>=2.0.1 in /usr/local/lib/python3.7/dist-packages (from matplotlib>=2.2->seaborn) (3.0.9)\n",
            "Requirement already satisfied: kiwisolver>=1.0.1 in /usr/local/lib/python3.7/dist-packages (from matplotlib>=2.2->seaborn) (1.4.4)\n",
            "Requirement already satisfied: cycler>=0.10 in /usr/local/lib/python3.7/dist-packages (from matplotlib>=2.2->seaborn) (0.11.0)\n",
            "Requirement already satisfied: typing-extensions in /usr/local/lib/python3.7/dist-packages (from kiwisolver>=1.0.1->matplotlib>=2.2->seaborn) (4.1.1)\n",
            "Requirement already satisfied: pytz>=2017.3 in /usr/local/lib/python3.7/dist-packages (from pandas>=0.23->seaborn) (2022.1)\n",
            "Requirement already satisfied: six>=1.5 in /usr/local/lib/python3.7/dist-packages (from python-dateutil>=2.1->matplotlib>=2.2->seaborn) (1.15.0)\n",
            "Looking in indexes: https://pypi.org/simple, https://us-python.pkg.dev/colab-wheels/public/simple/\n",
            "Requirement already satisfied: WordCloud in /usr/local/lib/python3.7/dist-packages (1.8.2.2)\n",
            "Requirement already satisfied: numpy>=1.6.1 in /usr/local/lib/python3.7/dist-packages (from WordCloud) (1.21.6)\n",
            "Requirement already satisfied: matplotlib in /usr/local/lib/python3.7/dist-packages (from WordCloud) (3.2.2)\n",
            "Requirement already satisfied: pillow in /usr/local/lib/python3.7/dist-packages (from WordCloud) (7.1.2)\n",
            "Requirement already satisfied: pyparsing!=2.0.4,!=2.1.2,!=2.1.6,>=2.0.1 in /usr/local/lib/python3.7/dist-packages (from matplotlib->WordCloud) (3.0.9)\n",
            "Requirement already satisfied: python-dateutil>=2.1 in /usr/local/lib/python3.7/dist-packages (from matplotlib->WordCloud) (2.8.2)\n",
            "Requirement already satisfied: kiwisolver>=1.0.1 in /usr/local/lib/python3.7/dist-packages (from matplotlib->WordCloud) (1.4.4)\n",
            "Requirement already satisfied: cycler>=0.10 in /usr/local/lib/python3.7/dist-packages (from matplotlib->WordCloud) (0.11.0)\n",
            "Requirement already satisfied: typing-extensions in /usr/local/lib/python3.7/dist-packages (from kiwisolver>=1.0.1->matplotlib->WordCloud) (4.1.1)\n",
            "Requirement already satisfied: six>=1.5 in /usr/local/lib/python3.7/dist-packages (from python-dateutil>=2.1->matplotlib->WordCloud) (1.15.0)\n",
            "Looking in indexes: https://pypi.org/simple, https://us-python.pkg.dev/colab-wheels/public/simple/\n",
            "Requirement already satisfied: TextBlob in /usr/local/lib/python3.7/dist-packages (0.15.3)\n",
            "Requirement already satisfied: nltk>=3.1 in /usr/local/lib/python3.7/dist-packages (from TextBlob) (3.7)\n",
            "Requirement already satisfied: regex>=2021.8.3 in /usr/local/lib/python3.7/dist-packages (from nltk>=3.1->TextBlob) (2022.6.2)\n",
            "Requirement already satisfied: tqdm in /usr/local/lib/python3.7/dist-packages (from nltk>=3.1->TextBlob) (4.64.0)\n",
            "Requirement already satisfied: click in /usr/local/lib/python3.7/dist-packages (from nltk>=3.1->TextBlob) (7.1.2)\n",
            "Requirement already satisfied: joblib in /usr/local/lib/python3.7/dist-packages (from nltk>=3.1->TextBlob) (1.1.0)\n",
            "Looking in indexes: https://pypi.org/simple, https://us-python.pkg.dev/colab-wheels/public/simple/\n",
            "Collecting arabic-reshaper\n",
            "  Downloading arabic_reshaper-2.1.3-py3-none-any.whl (20 kB)\n",
            "Requirement already satisfied: future in /usr/local/lib/python3.7/dist-packages (from arabic-reshaper) (0.16.0)\n",
            "Requirement already satisfied: setuptools in /usr/local/lib/python3.7/dist-packages (from arabic-reshaper) (57.4.0)\n",
            "Installing collected packages: arabic-reshaper\n",
            "Successfully installed arabic-reshaper-2.1.3\n",
            "Looking in indexes: https://pypi.org/simple, https://us-python.pkg.dev/colab-wheels/public/simple/\n",
            "Collecting python-bidi\n",
            "  Downloading python_bidi-0.4.2-py2.py3-none-any.whl (30 kB)\n",
            "Requirement already satisfied: six in /usr/local/lib/python3.7/dist-packages (from python-bidi) (1.15.0)\n",
            "Installing collected packages: python-bidi\n",
            "Successfully installed python-bidi-0.4.2\n",
            "Looking in indexes: https://pypi.org/simple, https://us-python.pkg.dev/colab-wheels/public/simple/\n",
            "Requirement already satisfied: arabic-reshaper in /usr/local/lib/python3.7/dist-packages (2.1.3)\n",
            "Requirement already satisfied: setuptools in /usr/local/lib/python3.7/dist-packages (from arabic-reshaper) (57.4.0)\n",
            "Requirement already satisfied: future in /usr/local/lib/python3.7/dist-packages (from arabic-reshaper) (0.16.0)\n",
            "[nltk_data] Downloading package brown to /root/nltk_data...\n",
            "[nltk_data]   Unzipping corpora/brown.zip.\n",
            "[nltk_data] Downloading package punkt to /root/nltk_data...\n",
            "[nltk_data]   Unzipping tokenizers/punkt.zip.\n",
            "[nltk_data] Downloading package wordnet to /root/nltk_data...\n",
            "[nltk_data] Downloading package averaged_perceptron_tagger to\n",
            "[nltk_data]     /root/nltk_data...\n",
            "[nltk_data]   Unzipping taggers/averaged_perceptron_tagger.zip.\n",
            "[nltk_data] Downloading package conll2000 to /root/nltk_data...\n",
            "[nltk_data]   Unzipping corpora/conll2000.zip.\n",
            "[nltk_data] Downloading package movie_reviews to /root/nltk_data...\n",
            "[nltk_data]   Unzipping corpora/movie_reviews.zip.\n",
            "Finished.\n"
          ]
        }
      ],
      "source": [
        "import sys\n",
        "!{sys.executable} -m pip install pandas\n",
        "!{sys.executable} -m pip install unidecode\n",
        "!{sys.executable} -m pip install pyarabic\n",
        "!{sys.executable} -m pip install numpy\n",
        "!{sys.executable} -m pip install nltk\n",
        "!{sys.executable} -m pip install pyarabic\n",
        "!{sys.executable} -m pip install matplotlib\n",
        "!{sys.executable} -m pip install sklearn\n",
        "!{sys.executable} -m pip install plotly\n",
        "!{sys.executable} -m pip install seaborn\n",
        "!{sys.executable} -m pip install WordCloud\n",
        "!{sys.executable} -m pip install TextBlob\n",
        "!{sys.executable} -m pip install arabic-reshaper\n",
        "!{sys.executable} -m pip install python-bidi\n",
        "!pip install --upgrade arabic-reshaper\n",
        "!python -m textblob.download_corpora\n"
      ]
    },
    {
      "cell_type": "markdown",
      "metadata": {
        "id": "RCSbIsEL0BJR"
      },
      "source": [
        "# **Import important libraries**"
      ]
    },
    {
      "cell_type": "code",
      "execution_count": 2,
      "metadata": {
        "colab": {
          "base_uri": "https://localhost:8080/"
        },
        "id": "_Y0I36pjNS1n",
        "outputId": "61bd590f-52b5-42cb-9be0-86b49b7948d4"
      },
      "outputs": [
        {
          "output_type": "stream",
          "name": "stderr",
          "text": [
            "[nltk_data] Downloading package stopwords to /root/nltk_data...\n",
            "[nltk_data]   Unzipping corpora/stopwords.zip.\n"
          ]
        }
      ],
      "source": [
        "#utilities\n",
        "import unidecode\n",
        "import pandas as pd\n",
        "import numpy as np\n",
        "import matplotlib.pyplot as plt\n",
        "import seaborn as sns\n",
        "import pyarabic.araby as araby\n",
        "import csv\n",
        "import string\n",
        "from datetime import datetime\n",
        "import arabic_reshaper\n",
        "from bidi.algorithm import get_display\n",
        "from collections import Counter\n",
        "#text processing & sentiment analysis\n",
        "import re\n",
        "from nltk.stem import WordNetLemmatizer\n",
        "from nltk.tokenize import RegexpTokenizer # devide the words \n",
        "from collections import Counter #count the number of word for each list \n",
        "import nltk\n",
        "from nltk.corpus import stopwords\n",
        "nltk.download('stopwords')\n",
        "from wordcloud import WordCloud\n",
        "import unicodedata as ud\n",
        "from nltk.stem.isri import ISRIStemmer\n",
        "import time\n",
        "#model\n",
        "from textblob import TextBlob\n",
        "from sklearn.metrics import classification_report, accuracy_score\n",
        "\n",
        "%matplotlib inline\n"
      ]
    },
    {
      "cell_type": "code",
      "execution_count": 3,
      "metadata": {
        "colab": {
          "base_uri": "https://localhost:8080/"
        },
        "id": "ZOjmlcbdoP_1",
        "outputId": "dafc30fb-ca66-4a76-b4e6-36b87009a93d"
      },
      "outputs": [
        {
          "output_type": "stream",
          "name": "stderr",
          "text": [
            "/usr/local/lib/python3.7/dist-packages/ipykernel_launcher.py:4: FutureWarning: Passing a negative integer is deprecated in version 1.0 and will not be supported in future version. Instead, use None to not limit the column width.\n",
            "  after removing the cwd from sys.path.\n"
          ]
        }
      ],
      "source": [
        "# change the setting of the cells to show the entire content of coulmn ( expand the size of coulmn)\n",
        "pd.set_option('display.max_columns', None)\n",
        "pd.set_option('display.max_rows', None)\n",
        "pd.set_option('display.max_colwidth', -1)\n",
        "pd.set_option('display.float_format', lambda x: '%.5f' % x)"
      ]
    },
    {
      "cell_type": "code",
      "execution_count": 4,
      "metadata": {
        "colab": {
          "base_uri": "https://localhost:8080/"
        },
        "id": "pdLcQsDR-fRM",
        "outputId": "07199598-21b9-44eb-ddff-99d7e04d8e18"
      },
      "outputs": [
        {
          "output_type": "stream",
          "name": "stdout",
          "text": [
            "Mounted at /content/gdrive\n"
          ]
        }
      ],
      "source": [
        "# Mounting Google Drive\n",
        "from google.colab import drive  # to mount Google Drive to Colab notebook\n",
        "drive.mount('/content/gdrive')\n",
        "path='./gdrive/My Drive/Group1/Data_and_Code/'\n",
        "\n",
        "# don't change this path\n",
        "#path ='/content/gdrive/MyDrive/Data_and_Code/'"
      ]
    },
    {
      "cell_type": "code",
      "execution_count": 5,
      "metadata": {
        "colab": {
          "base_uri": "https://localhost:8080/"
        },
        "id": "bQ3Ul-s6_-1D",
        "outputId": "d5b0a29e-f6f8-40af-ca2f-06b0eb52ed09"
      },
      "outputs": [
        {
          "output_type": "stream",
          "name": "stdout",
          "text": [
            "/content\n"
          ]
        }
      ],
      "source": [
        "!pwd"
      ]
    },
    {
      "cell_type": "code",
      "execution_count": 6,
      "metadata": {
        "id": "v3ZQVBA6oP_3"
      },
      "outputs": [],
      "source": [
        "# read csv file and save it in a data frame\n",
        "data_df=pd.read_csv(path+'G1Dataset.csv') \n",
        "#data_df=pd.read_excel(path+'G1Dataset.xlsx') \n"
      ]
    },
    {
      "cell_type": "markdown",
      "metadata": {
        "id": "U2APQqWC1TiZ"
      },
      "source": [
        "# **Exploring data before Preprocessing**"
      ]
    },
    {
      "cell_type": "code",
      "execution_count": 7,
      "metadata": {
        "colab": {
          "base_uri": "https://localhost:8080/"
        },
        "id": "ij889xM7oP_6",
        "outputId": "0cd80042-3ce8-4db4-a3ba-55732f11d2c8"
      },
      "outputs": [
        {
          "output_type": "execute_result",
          "data": {
            "text/plain": [
              "10970"
            ]
          },
          "metadata": {},
          "execution_count": 7
        }
      ],
      "source": [
        "# how much data do I have?\n",
        "len(data_df)"
      ]
    },
    {
      "cell_type": "code",
      "execution_count": 8,
      "metadata": {
        "colab": {
          "base_uri": "https://localhost:8080/"
        },
        "id": "A3ETqj8216Il",
        "outputId": "587c4ce5-800a-43c5-d40e-0a24253d5940"
      },
      "outputs": [
        {
          "output_type": "execute_result",
          "data": {
            "text/plain": [
              "Text         10970\n",
              "Sentiment    10970\n",
              "dtype: int64"
            ]
          },
          "metadata": {},
          "execution_count": 8
        }
      ],
      "source": [
        "# number of non-NA values\n",
        "data_df.count()"
      ]
    },
    {
      "cell_type": "code",
      "execution_count": 9,
      "metadata": {
        "colab": {
          "base_uri": "https://localhost:8080/"
        },
        "id": "AGeVtEv52j4C",
        "outputId": "e6d5eee0-2eca-4dda-9b9b-ea27c2bbc984"
      },
      "outputs": [
        {
          "output_type": "stream",
          "name": "stdout",
          "text": [
            "<class 'pandas.core.frame.DataFrame'>\n",
            "RangeIndex: 10970 entries, 0 to 10969\n",
            "Data columns (total 2 columns):\n",
            " #   Column     Non-Null Count  Dtype \n",
            "---  ------     --------------  ----- \n",
            " 0   Text       10970 non-null  object\n",
            " 1   Sentiment  10970 non-null  object\n",
            "dtypes: object(2)\n",
            "memory usage: 171.5+ KB\n"
          ]
        }
      ],
      "source": [
        "# Print a concise summary of a DataFrame\n",
        "data_df.info()"
      ]
    },
    {
      "cell_type": "code",
      "execution_count": 10,
      "metadata": {
        "colab": {
          "base_uri": "https://localhost:8080/",
          "height": 238
        },
        "id": "bnxZ9rqJ2nXg",
        "outputId": "4b624790-85fe-465a-e079-fecad93ce030"
      },
      "outputs": [
        {
          "output_type": "execute_result",
          "data": {
            "text/plain": [
              "         Text  Sentiment\n",
              "count   10970  10970    \n",
              "unique  10940  4        \n",
              "top     لذيذ   Positive \n",
              "freq    7      7117     "
            ],
            "text/html": [
              "\n",
              "  <div id=\"df-ba26af85-2e0a-4e33-b471-1d1cc1b776a0\">\n",
              "    <div class=\"colab-df-container\">\n",
              "      <div>\n",
              "<style scoped>\n",
              "    .dataframe tbody tr th:only-of-type {\n",
              "        vertical-align: middle;\n",
              "    }\n",
              "\n",
              "    .dataframe tbody tr th {\n",
              "        vertical-align: top;\n",
              "    }\n",
              "\n",
              "    .dataframe thead th {\n",
              "        text-align: right;\n",
              "    }\n",
              "</style>\n",
              "<table border=\"1\" class=\"dataframe\">\n",
              "  <thead>\n",
              "    <tr style=\"text-align: right;\">\n",
              "      <th></th>\n",
              "      <th>Text</th>\n",
              "      <th>Sentiment</th>\n",
              "    </tr>\n",
              "  </thead>\n",
              "  <tbody>\n",
              "    <tr>\n",
              "      <th>count</th>\n",
              "      <td>10970</td>\n",
              "      <td>10970</td>\n",
              "    </tr>\n",
              "    <tr>\n",
              "      <th>unique</th>\n",
              "      <td>10940</td>\n",
              "      <td>4</td>\n",
              "    </tr>\n",
              "    <tr>\n",
              "      <th>top</th>\n",
              "      <td>لذيذ</td>\n",
              "      <td>Positive</td>\n",
              "    </tr>\n",
              "    <tr>\n",
              "      <th>freq</th>\n",
              "      <td>7</td>\n",
              "      <td>7117</td>\n",
              "    </tr>\n",
              "  </tbody>\n",
              "</table>\n",
              "</div>\n",
              "      <button class=\"colab-df-convert\" onclick=\"convertToInteractive('df-ba26af85-2e0a-4e33-b471-1d1cc1b776a0')\"\n",
              "              title=\"Convert this dataframe to an interactive table.\"\n",
              "              style=\"display:none;\">\n",
              "        \n",
              "  <svg xmlns=\"http://www.w3.org/2000/svg\" height=\"24px\"viewBox=\"0 0 24 24\"\n",
              "       width=\"24px\">\n",
              "    <path d=\"M0 0h24v24H0V0z\" fill=\"none\"/>\n",
              "    <path d=\"M18.56 5.44l.94 2.06.94-2.06 2.06-.94-2.06-.94-.94-2.06-.94 2.06-2.06.94zm-11 1L8.5 8.5l.94-2.06 2.06-.94-2.06-.94L8.5 2.5l-.94 2.06-2.06.94zm10 10l.94 2.06.94-2.06 2.06-.94-2.06-.94-.94-2.06-.94 2.06-2.06.94z\"/><path d=\"M17.41 7.96l-1.37-1.37c-.4-.4-.92-.59-1.43-.59-.52 0-1.04.2-1.43.59L10.3 9.45l-7.72 7.72c-.78.78-.78 2.05 0 2.83L4 21.41c.39.39.9.59 1.41.59.51 0 1.02-.2 1.41-.59l7.78-7.78 2.81-2.81c.8-.78.8-2.07 0-2.86zM5.41 20L4 18.59l7.72-7.72 1.47 1.35L5.41 20z\"/>\n",
              "  </svg>\n",
              "      </button>\n",
              "      \n",
              "  <style>\n",
              "    .colab-df-container {\n",
              "      display:flex;\n",
              "      flex-wrap:wrap;\n",
              "      gap: 12px;\n",
              "    }\n",
              "\n",
              "    .colab-df-convert {\n",
              "      background-color: #E8F0FE;\n",
              "      border: none;\n",
              "      border-radius: 50%;\n",
              "      cursor: pointer;\n",
              "      display: none;\n",
              "      fill: #1967D2;\n",
              "      height: 32px;\n",
              "      padding: 0 0 0 0;\n",
              "      width: 32px;\n",
              "    }\n",
              "\n",
              "    .colab-df-convert:hover {\n",
              "      background-color: #E2EBFA;\n",
              "      box-shadow: 0px 1px 2px rgba(60, 64, 67, 0.3), 0px 1px 3px 1px rgba(60, 64, 67, 0.15);\n",
              "      fill: #174EA6;\n",
              "    }\n",
              "\n",
              "    [theme=dark] .colab-df-convert {\n",
              "      background-color: #3B4455;\n",
              "      fill: #D2E3FC;\n",
              "    }\n",
              "\n",
              "    [theme=dark] .colab-df-convert:hover {\n",
              "      background-color: #434B5C;\n",
              "      box-shadow: 0px 1px 3px 1px rgba(0, 0, 0, 0.15);\n",
              "      filter: drop-shadow(0px 1px 2px rgba(0, 0, 0, 0.3));\n",
              "      fill: #FFFFFF;\n",
              "    }\n",
              "  </style>\n",
              "\n",
              "      <script>\n",
              "        const buttonEl =\n",
              "          document.querySelector('#df-ba26af85-2e0a-4e33-b471-1d1cc1b776a0 button.colab-df-convert');\n",
              "        buttonEl.style.display =\n",
              "          google.colab.kernel.accessAllowed ? 'block' : 'none';\n",
              "\n",
              "        async function convertToInteractive(key) {\n",
              "          const element = document.querySelector('#df-ba26af85-2e0a-4e33-b471-1d1cc1b776a0');\n",
              "          const dataTable =\n",
              "            await google.colab.kernel.invokeFunction('convertToInteractive',\n",
              "                                                     [key], {});\n",
              "          if (!dataTable) return;\n",
              "\n",
              "          const docLinkHtml = 'Like what you see? Visit the ' +\n",
              "            '<a target=\"_blank\" href=https://colab.research.google.com/notebooks/data_table.ipynb>data table notebook</a>'\n",
              "            + ' to learn more about interactive tables.';\n",
              "          element.innerHTML = '';\n",
              "          dataTable['output_type'] = 'display_data';\n",
              "          await google.colab.output.renderOutput(dataTable, element);\n",
              "          const docLink = document.createElement('div');\n",
              "          docLink.innerHTML = docLinkHtml;\n",
              "          element.appendChild(docLink);\n",
              "        }\n",
              "      </script>\n",
              "    </div>\n",
              "  </div>\n",
              "  "
            ]
          },
          "metadata": {},
          "execution_count": 10
        }
      ],
      "source": [
        "#Generates descriptive statistics or Summary Statistic of the numeric columns\n",
        "data_df.describe()"
      ]
    },
    {
      "cell_type": "code",
      "execution_count": 11,
      "metadata": {
        "colab": {
          "base_uri": "https://localhost:8080/"
        },
        "id": "NXLYXTMp2sEd",
        "outputId": "2e70aee1-cb12-4f22-b632-aed170d00158"
      },
      "outputs": [
        {
          "output_type": "execute_result",
          "data": {
            "text/plain": [
              "Index(['Text', 'Sentiment'], dtype='object')"
            ]
          },
          "metadata": {},
          "execution_count": 11
        }
      ],
      "source": [
        "# Retrieve list of columns\n",
        "data_df.columns"
      ]
    },
    {
      "cell_type": "code",
      "execution_count": 12,
      "metadata": {
        "colab": {
          "base_uri": "https://localhost:8080/",
          "height": 1000
        },
        "id": "LOESD63K3FdB",
        "outputId": "dcc353d1-ae16-4bc7-a490-366aeba3e014"
      },
      "outputs": [
        {
          "output_type": "execute_result",
          "data": {
            "text/plain": [
              "                                                                                                                                                                                                                                                                                                                                                                                                                                                                                                                                                                                                                                                                                                                                   Text  \\\n",
              "0  Buona scelta gluten-free \\nIl ristorante \"Il Grissino\" è un onesto ristorante la famiglia, senza troppe pretese e, coerentemente, con costi contenuti; caratteristiche che ne fanno un buon locale d'appoggio se si vuole mangiare fuori per comodità ma non si sta cercando l'evento memorabile. Tutte le portate sono più che discrete, il servizio cortese e ragionevolmente rapido. Fra i luoghi che fanno pizza senza glutine a Milano, le loro proposte (basate su farina DS) sono da contarsi fra le migliori. Raccomandabile per una cena tranquilla senza impegno.\\n                                                                                                                                                          \n",
              "1  Da evitare anche quello in via Pier della Francesca! \\nSono stata all'Antica Focacceria in via Pier della Francesca 56 a Milano. Ho comprato arancini,caponata,sfincione. Li ho mangiati con un'amica. Risultato: ci è rimasto tutto sullo stomaco!! Una cosa tremenda!!! Siamo state malissimo! La caponata era immangiabile, veramente scadente. Gli arancini e lo sfincione non sembravano malvagi, ma evidentemente in questo locale non usano prodotti di qualità e non cambiano l'olio di cottura. Ci tengo a sottolineare che nè io nè la mia amica siamo dei tipi delicati, quindi non abbiamo problemi a mangiare fritti e cose del genere. Peccato perchè il locale (che tra l'altro non è a buon mercato) in sè è carino.   \n",
              "2  تناولت العشاء فيه \\nفندق قريب من المطار لكنه عادي في منطقه مزدحمة الطعام عادي اوبن بوفيه لكنه مقبول وكعادة اغلب الفنادق هنا الشيف كيني والاكل يغلب عليه الطابع الكيبني\\n                                                                                                                                                                                                                                                                                                                                                                                                                                                                                                                                                               \n",
              "3  مطعم مختلف عن الجو العام بجوبا \\nمطعم مختلف بسيط غير انيق ولكنه يقدم طعام مختلف يمكن تصنيفه بانه طعام هندي مقبول وهناك بعض الاصناف التي يمكن تناولها ولكن يغلب عليها البهار والحار والنكهه الهنديه الخدمه جيده ولكنه مزدحم وخاصة وقت العشاء\\n                                                                                                                                                                                                                                                                                                                                                                                                                                                                                          \n",
              "4  مطعم لطيف يغلب عليه الطابع اليوناني لان مالكه اظن يوناني ولكن الطعام هندي اغلبه \\nلطيف مزدحم دائما الطعام يتأخر نتيجه للزحام مفضل من الاجانب ولكنه كحال كل مطاعم جوبا مطعم بسيط وغالي جدا\\n                                                                                                                                                                                                                                                                                                                                                                                                                                                                                                                                            \n",
              "5  بيتزا ممتازة \\nالشربة البحرية جيدة .. المكرونة عادية جدا .. البيتزا جدا ممتازة الجلسة والخدمة ممتازة ايضا بشكل عام لا اعتقد انني اعيد التجربة به\\n                                                                                                                                                                                                                                                                                                                                                                                                                                                                                                                                                                                     \n",
              "6  Self service a mezzogiorno non eccezionale ma prezzi abbastanza contenuti \\nAbbiamo mangiato al self-service del ristorante. I prezzi sono medio-alti per un self service, ma i piatti sono mediamente più buoni. Magari non sono serviti sufficientemente caldi ma provano a servire piatti sfiziosi e abbastanza leggeri. La pizza è abbastanza buona. Non per pranzare tutti i giorni se si vuole risparmiare, per quello ci sono altri self-service in centro storico zona Via Indipendenza.\\n                                                                                                                                                                                                                                     \n",
              "7  مطعم جيد \\nالمطعم جيد يتسم بالطابع الدمشقي القديم الطعام مقبول الخدمه جيده والتنظيم جيد ولكن سعر الطعام غالي بعض الشيئ\\n                                                                                                                                                                                                                                                                                                                                                                                                                                                                                                                                                                                                               \n",
              "8  الليجر \\nجلسة هادئة ، خدمة متوسطة - الأكل جودتة فوق المتوسط - الشيشة جيدة\\nتأخر قليل في توفير الخدمة\\nالموسيقي والمطرب نوعا ما جيدة\\n                                                                                                                                                                                                                                                                                                                                                                                                                                                                                                                                                                                                  \n",
              "9  طعم مميز \\nتوباز يقدم ماكولات هندية كيرلا بطعم لذيذ\\nووجبات متعددة ، افضل ما عجبني فية الحبز البراتى الحار والخفيف\\nوالبرياني حيدر اباد\\nطريقة تقديمة للوجبات تقليدية\\nيعني ممكن ينسى بجيب معلقة او صحن\\nاو يحيك شايل كوب الشاي في ايدة من المطبخ\\nكذا بعني يبغالة اتكيت افضل\\nطبعا كل الماكولات تطبخ مثلجة مما قد يتسبب ببعض الاسهال الغير محمود\\n                                                                                                                                                                                                                                                                                                                                                                                    \n",
              "\n",
              "  Sentiment  \n",
              "0  Neutral   \n",
              "1  Neutral   \n",
              "2  Neutral   \n",
              "3  Neutral   \n",
              "4  Neutral   \n",
              "5  Neutral   \n",
              "6  Neutral   \n",
              "7  Neutral   \n",
              "8  Neutral   \n",
              "9  Neutral   "
            ],
            "text/html": [
              "\n",
              "  <div id=\"df-e7e399b9-c3ae-43c4-99f2-dcf13560fdcd\">\n",
              "    <div class=\"colab-df-container\">\n",
              "      <div>\n",
              "<style scoped>\n",
              "    .dataframe tbody tr th:only-of-type {\n",
              "        vertical-align: middle;\n",
              "    }\n",
              "\n",
              "    .dataframe tbody tr th {\n",
              "        vertical-align: top;\n",
              "    }\n",
              "\n",
              "    .dataframe thead th {\n",
              "        text-align: right;\n",
              "    }\n",
              "</style>\n",
              "<table border=\"1\" class=\"dataframe\">\n",
              "  <thead>\n",
              "    <tr style=\"text-align: right;\">\n",
              "      <th></th>\n",
              "      <th>Text</th>\n",
              "      <th>Sentiment</th>\n",
              "    </tr>\n",
              "  </thead>\n",
              "  <tbody>\n",
              "    <tr>\n",
              "      <th>0</th>\n",
              "      <td>Buona scelta gluten-free \\nIl ristorante \"Il Grissino\" è un onesto ristorante la famiglia, senza troppe pretese e, coerentemente, con costi contenuti; caratteristiche che ne fanno un buon locale d'appoggio se si vuole mangiare fuori per comodità ma non si sta cercando l'evento memorabile. Tutte le portate sono più che discrete, il servizio cortese e ragionevolmente rapido. Fra i luoghi che fanno pizza senza glutine a Milano, le loro proposte (basate su farina DS) sono da contarsi fra le migliori. Raccomandabile per una cena tranquilla senza impegno.\\n</td>\n",
              "      <td>Neutral</td>\n",
              "    </tr>\n",
              "    <tr>\n",
              "      <th>1</th>\n",
              "      <td>Da evitare anche quello in via Pier della Francesca! \\nSono stata all'Antica Focacceria in via Pier della Francesca 56 a Milano. Ho comprato arancini,caponata,sfincione. Li ho mangiati con un'amica. Risultato: ci è rimasto tutto sullo stomaco!! Una cosa tremenda!!! Siamo state malissimo! La caponata era immangiabile, veramente scadente. Gli arancini e lo sfincione non sembravano malvagi, ma evidentemente in questo locale non usano prodotti di qualità e non cambiano l'olio di cottura. Ci tengo a sottolineare che nè io nè la mia amica siamo dei tipi delicati, quindi non abbiamo problemi a mangiare fritti e cose del genere. Peccato perchè il locale (che tra l'altro non è a buon mercato) in sè è carino.</td>\n",
              "      <td>Neutral</td>\n",
              "    </tr>\n",
              "    <tr>\n",
              "      <th>2</th>\n",
              "      <td>تناولت العشاء فيه \\nفندق قريب من المطار لكنه عادي في منطقه مزدحمة الطعام عادي اوبن بوفيه لكنه مقبول وكعادة اغلب الفنادق هنا الشيف كيني والاكل يغلب عليه الطابع الكيبني\\n</td>\n",
              "      <td>Neutral</td>\n",
              "    </tr>\n",
              "    <tr>\n",
              "      <th>3</th>\n",
              "      <td>مطعم مختلف عن الجو العام بجوبا \\nمطعم مختلف بسيط غير انيق ولكنه يقدم طعام مختلف يمكن تصنيفه بانه طعام هندي مقبول وهناك بعض الاصناف التي يمكن تناولها ولكن يغلب عليها البهار والحار والنكهه الهنديه الخدمه جيده ولكنه مزدحم وخاصة وقت العشاء\\n</td>\n",
              "      <td>Neutral</td>\n",
              "    </tr>\n",
              "    <tr>\n",
              "      <th>4</th>\n",
              "      <td>مطعم لطيف يغلب عليه الطابع اليوناني لان مالكه اظن يوناني ولكن الطعام هندي اغلبه \\nلطيف مزدحم دائما الطعام يتأخر نتيجه للزحام مفضل من الاجانب ولكنه كحال كل مطاعم جوبا مطعم بسيط وغالي جدا\\n</td>\n",
              "      <td>Neutral</td>\n",
              "    </tr>\n",
              "    <tr>\n",
              "      <th>5</th>\n",
              "      <td>بيتزا ممتازة \\nالشربة البحرية جيدة .. المكرونة عادية جدا .. البيتزا جدا ممتازة الجلسة والخدمة ممتازة ايضا بشكل عام لا اعتقد انني اعيد التجربة به\\n</td>\n",
              "      <td>Neutral</td>\n",
              "    </tr>\n",
              "    <tr>\n",
              "      <th>6</th>\n",
              "      <td>Self service a mezzogiorno non eccezionale ma prezzi abbastanza contenuti \\nAbbiamo mangiato al self-service del ristorante. I prezzi sono medio-alti per un self service, ma i piatti sono mediamente più buoni. Magari non sono serviti sufficientemente caldi ma provano a servire piatti sfiziosi e abbastanza leggeri. La pizza è abbastanza buona. Non per pranzare tutti i giorni se si vuole risparmiare, per quello ci sono altri self-service in centro storico zona Via Indipendenza.\\n</td>\n",
              "      <td>Neutral</td>\n",
              "    </tr>\n",
              "    <tr>\n",
              "      <th>7</th>\n",
              "      <td>مطعم جيد \\nالمطعم جيد يتسم بالطابع الدمشقي القديم الطعام مقبول الخدمه جيده والتنظيم جيد ولكن سعر الطعام غالي بعض الشيئ\\n</td>\n",
              "      <td>Neutral</td>\n",
              "    </tr>\n",
              "    <tr>\n",
              "      <th>8</th>\n",
              "      <td>الليجر \\nجلسة هادئة ، خدمة متوسطة - الأكل جودتة فوق المتوسط - الشيشة جيدة\\nتأخر قليل في توفير الخدمة\\nالموسيقي والمطرب نوعا ما جيدة\\n</td>\n",
              "      <td>Neutral</td>\n",
              "    </tr>\n",
              "    <tr>\n",
              "      <th>9</th>\n",
              "      <td>طعم مميز \\nتوباز يقدم ماكولات هندية كيرلا بطعم لذيذ\\nووجبات متعددة ، افضل ما عجبني فية الحبز البراتى الحار والخفيف\\nوالبرياني حيدر اباد\\nطريقة تقديمة للوجبات تقليدية\\nيعني ممكن ينسى بجيب معلقة او صحن\\nاو يحيك شايل كوب الشاي في ايدة من المطبخ\\nكذا بعني يبغالة اتكيت افضل\\nطبعا كل الماكولات تطبخ مثلجة مما قد يتسبب ببعض الاسهال الغير محمود\\n</td>\n",
              "      <td>Neutral</td>\n",
              "    </tr>\n",
              "  </tbody>\n",
              "</table>\n",
              "</div>\n",
              "      <button class=\"colab-df-convert\" onclick=\"convertToInteractive('df-e7e399b9-c3ae-43c4-99f2-dcf13560fdcd')\"\n",
              "              title=\"Convert this dataframe to an interactive table.\"\n",
              "              style=\"display:none;\">\n",
              "        \n",
              "  <svg xmlns=\"http://www.w3.org/2000/svg\" height=\"24px\"viewBox=\"0 0 24 24\"\n",
              "       width=\"24px\">\n",
              "    <path d=\"M0 0h24v24H0V0z\" fill=\"none\"/>\n",
              "    <path d=\"M18.56 5.44l.94 2.06.94-2.06 2.06-.94-2.06-.94-.94-2.06-.94 2.06-2.06.94zm-11 1L8.5 8.5l.94-2.06 2.06-.94-2.06-.94L8.5 2.5l-.94 2.06-2.06.94zm10 10l.94 2.06.94-2.06 2.06-.94-2.06-.94-.94-2.06-.94 2.06-2.06.94z\"/><path d=\"M17.41 7.96l-1.37-1.37c-.4-.4-.92-.59-1.43-.59-.52 0-1.04.2-1.43.59L10.3 9.45l-7.72 7.72c-.78.78-.78 2.05 0 2.83L4 21.41c.39.39.9.59 1.41.59.51 0 1.02-.2 1.41-.59l7.78-7.78 2.81-2.81c.8-.78.8-2.07 0-2.86zM5.41 20L4 18.59l7.72-7.72 1.47 1.35L5.41 20z\"/>\n",
              "  </svg>\n",
              "      </button>\n",
              "      \n",
              "  <style>\n",
              "    .colab-df-container {\n",
              "      display:flex;\n",
              "      flex-wrap:wrap;\n",
              "      gap: 12px;\n",
              "    }\n",
              "\n",
              "    .colab-df-convert {\n",
              "      background-color: #E8F0FE;\n",
              "      border: none;\n",
              "      border-radius: 50%;\n",
              "      cursor: pointer;\n",
              "      display: none;\n",
              "      fill: #1967D2;\n",
              "      height: 32px;\n",
              "      padding: 0 0 0 0;\n",
              "      width: 32px;\n",
              "    }\n",
              "\n",
              "    .colab-df-convert:hover {\n",
              "      background-color: #E2EBFA;\n",
              "      box-shadow: 0px 1px 2px rgba(60, 64, 67, 0.3), 0px 1px 3px 1px rgba(60, 64, 67, 0.15);\n",
              "      fill: #174EA6;\n",
              "    }\n",
              "\n",
              "    [theme=dark] .colab-df-convert {\n",
              "      background-color: #3B4455;\n",
              "      fill: #D2E3FC;\n",
              "    }\n",
              "\n",
              "    [theme=dark] .colab-df-convert:hover {\n",
              "      background-color: #434B5C;\n",
              "      box-shadow: 0px 1px 3px 1px rgba(0, 0, 0, 0.15);\n",
              "      filter: drop-shadow(0px 1px 2px rgba(0, 0, 0, 0.3));\n",
              "      fill: #FFFFFF;\n",
              "    }\n",
              "  </style>\n",
              "\n",
              "      <script>\n",
              "        const buttonEl =\n",
              "          document.querySelector('#df-e7e399b9-c3ae-43c4-99f2-dcf13560fdcd button.colab-df-convert');\n",
              "        buttonEl.style.display =\n",
              "          google.colab.kernel.accessAllowed ? 'block' : 'none';\n",
              "\n",
              "        async function convertToInteractive(key) {\n",
              "          const element = document.querySelector('#df-e7e399b9-c3ae-43c4-99f2-dcf13560fdcd');\n",
              "          const dataTable =\n",
              "            await google.colab.kernel.invokeFunction('convertToInteractive',\n",
              "                                                     [key], {});\n",
              "          if (!dataTable) return;\n",
              "\n",
              "          const docLinkHtml = 'Like what you see? Visit the ' +\n",
              "            '<a target=\"_blank\" href=https://colab.research.google.com/notebooks/data_table.ipynb>data table notebook</a>'\n",
              "            + ' to learn more about interactive tables.';\n",
              "          element.innerHTML = '';\n",
              "          dataTable['output_type'] = 'display_data';\n",
              "          await google.colab.output.renderOutput(dataTable, element);\n",
              "          const docLink = document.createElement('div');\n",
              "          docLink.innerHTML = docLinkHtml;\n",
              "          element.appendChild(docLink);\n",
              "        }\n",
              "      </script>\n",
              "    </div>\n",
              "  </div>\n",
              "  "
            ]
          },
          "metadata": {},
          "execution_count": 12
        }
      ],
      "source": [
        "data_df.head(10)"
      ]
    },
    {
      "cell_type": "code",
      "execution_count": 13,
      "metadata": {
        "colab": {
          "base_uri": "https://localhost:8080/",
          "height": 797
        },
        "id": "ixDKDt633GMK",
        "outputId": "acfccfa0-aa6b-4ee5-b6b1-7483ca91e114"
      },
      "outputs": [
        {
          "output_type": "execute_result",
          "data": {
            "text/plain": [
              "                                                                                                                                                                                                                                                                                                                                 Text  \\\n",
              "10967  \"\"\"السلام عليكم ورحمة الله وبركاته \\n  \\n فرع الملك عبدالعزيز 100% \\n فرع خالد بن الوليد 90 % \\n  \\n هذا تقييمي له .. وهو من أفضل المطاعم اللي أكلت فيها كبسة. \\n أتمنى اللي يعرف مطاعم تطبخ بنفس طريقته يتحفنا فيها\"\"\"\\tPositive                                                                                                \n",
              "10968  والله ياعيال اكلت منه / \\n  \\n 1- همبرجر دجاج وكان جيد جدا .. \\n 2- جربت اللحم ونوعا ما اعجبني .. \\n 3- البطاطس بها نكهه ممتازه جدا .. \\n 4-الاسعار جيده مع ارتفاع .. \\n 5- الخدمه جيده جدا ما تطووول .. \\n 6-الموقع الي جيته  فى طريق الملك عبد الله فى مجمع التميمي الجديد \\n  \\n -- \\n  \\n فمان الكريم \\n Mohammed AL Jeaid   \n",
              "10969  المطعم في تراجع مستمر                                                                                                                                                                                                                                                                                                            \n",
              "\n",
              "       Sentiment  \n",
              "10967  Positive   \n",
              "10968  Neutral    \n",
              "10969  Negative   "
            ],
            "text/html": [
              "\n",
              "  <div id=\"df-f331faab-d211-4818-abf9-e9c9f42a321f\">\n",
              "    <div class=\"colab-df-container\">\n",
              "      <div>\n",
              "<style scoped>\n",
              "    .dataframe tbody tr th:only-of-type {\n",
              "        vertical-align: middle;\n",
              "    }\n",
              "\n",
              "    .dataframe tbody tr th {\n",
              "        vertical-align: top;\n",
              "    }\n",
              "\n",
              "    .dataframe thead th {\n",
              "        text-align: right;\n",
              "    }\n",
              "</style>\n",
              "<table border=\"1\" class=\"dataframe\">\n",
              "  <thead>\n",
              "    <tr style=\"text-align: right;\">\n",
              "      <th></th>\n",
              "      <th>Text</th>\n",
              "      <th>Sentiment</th>\n",
              "    </tr>\n",
              "  </thead>\n",
              "  <tbody>\n",
              "    <tr>\n",
              "      <th>10967</th>\n",
              "      <td>\"\"\"السلام عليكم ورحمة الله وبركاته \\n  \\n فرع الملك عبدالعزيز 100% \\n فرع خالد بن الوليد 90 % \\n  \\n هذا تقييمي له .. وهو من أفضل المطاعم اللي أكلت فيها كبسة. \\n أتمنى اللي يعرف مطاعم تطبخ بنفس طريقته يتحفنا فيها\"\"\"\\tPositive</td>\n",
              "      <td>Positive</td>\n",
              "    </tr>\n",
              "    <tr>\n",
              "      <th>10968</th>\n",
              "      <td>والله ياعيال اكلت منه / \\n  \\n 1- همبرجر دجاج وكان جيد جدا .. \\n 2- جربت اللحم ونوعا ما اعجبني .. \\n 3- البطاطس بها نكهه ممتازه جدا .. \\n 4-الاسعار جيده مع ارتفاع .. \\n 5- الخدمه جيده جدا ما تطووول .. \\n 6-الموقع الي جيته  فى طريق الملك عبد الله فى مجمع التميمي الجديد \\n  \\n -- \\n  \\n فمان الكريم \\n Mohammed AL Jeaid</td>\n",
              "      <td>Neutral</td>\n",
              "    </tr>\n",
              "    <tr>\n",
              "      <th>10969</th>\n",
              "      <td>المطعم في تراجع مستمر</td>\n",
              "      <td>Negative</td>\n",
              "    </tr>\n",
              "  </tbody>\n",
              "</table>\n",
              "</div>\n",
              "      <button class=\"colab-df-convert\" onclick=\"convertToInteractive('df-f331faab-d211-4818-abf9-e9c9f42a321f')\"\n",
              "              title=\"Convert this dataframe to an interactive table.\"\n",
              "              style=\"display:none;\">\n",
              "        \n",
              "  <svg xmlns=\"http://www.w3.org/2000/svg\" height=\"24px\"viewBox=\"0 0 24 24\"\n",
              "       width=\"24px\">\n",
              "    <path d=\"M0 0h24v24H0V0z\" fill=\"none\"/>\n",
              "    <path d=\"M18.56 5.44l.94 2.06.94-2.06 2.06-.94-2.06-.94-.94-2.06-.94 2.06-2.06.94zm-11 1L8.5 8.5l.94-2.06 2.06-.94-2.06-.94L8.5 2.5l-.94 2.06-2.06.94zm10 10l.94 2.06.94-2.06 2.06-.94-2.06-.94-.94-2.06-.94 2.06-2.06.94z\"/><path d=\"M17.41 7.96l-1.37-1.37c-.4-.4-.92-.59-1.43-.59-.52 0-1.04.2-1.43.59L10.3 9.45l-7.72 7.72c-.78.78-.78 2.05 0 2.83L4 21.41c.39.39.9.59 1.41.59.51 0 1.02-.2 1.41-.59l7.78-7.78 2.81-2.81c.8-.78.8-2.07 0-2.86zM5.41 20L4 18.59l7.72-7.72 1.47 1.35L5.41 20z\"/>\n",
              "  </svg>\n",
              "      </button>\n",
              "      \n",
              "  <style>\n",
              "    .colab-df-container {\n",
              "      display:flex;\n",
              "      flex-wrap:wrap;\n",
              "      gap: 12px;\n",
              "    }\n",
              "\n",
              "    .colab-df-convert {\n",
              "      background-color: #E8F0FE;\n",
              "      border: none;\n",
              "      border-radius: 50%;\n",
              "      cursor: pointer;\n",
              "      display: none;\n",
              "      fill: #1967D2;\n",
              "      height: 32px;\n",
              "      padding: 0 0 0 0;\n",
              "      width: 32px;\n",
              "    }\n",
              "\n",
              "    .colab-df-convert:hover {\n",
              "      background-color: #E2EBFA;\n",
              "      box-shadow: 0px 1px 2px rgba(60, 64, 67, 0.3), 0px 1px 3px 1px rgba(60, 64, 67, 0.15);\n",
              "      fill: #174EA6;\n",
              "    }\n",
              "\n",
              "    [theme=dark] .colab-df-convert {\n",
              "      background-color: #3B4455;\n",
              "      fill: #D2E3FC;\n",
              "    }\n",
              "\n",
              "    [theme=dark] .colab-df-convert:hover {\n",
              "      background-color: #434B5C;\n",
              "      box-shadow: 0px 1px 3px 1px rgba(0, 0, 0, 0.15);\n",
              "      filter: drop-shadow(0px 1px 2px rgba(0, 0, 0, 0.3));\n",
              "      fill: #FFFFFF;\n",
              "    }\n",
              "  </style>\n",
              "\n",
              "      <script>\n",
              "        const buttonEl =\n",
              "          document.querySelector('#df-f331faab-d211-4818-abf9-e9c9f42a321f button.colab-df-convert');\n",
              "        buttonEl.style.display =\n",
              "          google.colab.kernel.accessAllowed ? 'block' : 'none';\n",
              "\n",
              "        async function convertToInteractive(key) {\n",
              "          const element = document.querySelector('#df-f331faab-d211-4818-abf9-e9c9f42a321f');\n",
              "          const dataTable =\n",
              "            await google.colab.kernel.invokeFunction('convertToInteractive',\n",
              "                                                     [key], {});\n",
              "          if (!dataTable) return;\n",
              "\n",
              "          const docLinkHtml = 'Like what you see? Visit the ' +\n",
              "            '<a target=\"_blank\" href=https://colab.research.google.com/notebooks/data_table.ipynb>data table notebook</a>'\n",
              "            + ' to learn more about interactive tables.';\n",
              "          element.innerHTML = '';\n",
              "          dataTable['output_type'] = 'display_data';\n",
              "          await google.colab.output.renderOutput(dataTable, element);\n",
              "          const docLink = document.createElement('div');\n",
              "          docLink.innerHTML = docLinkHtml;\n",
              "          element.appendChild(docLink);\n",
              "        }\n",
              "      </script>\n",
              "    </div>\n",
              "  </div>\n",
              "  "
            ]
          },
          "metadata": {},
          "execution_count": 13
        }
      ],
      "source": [
        "data_df.tail(3)"
      ]
    },
    {
      "cell_type": "markdown",
      "metadata": {
        "id": "6zd3acEGoQA8"
      },
      "source": [
        "# **check if there is missing value**\n",
        "\n"
      ]
    },
    {
      "cell_type": "code",
      "execution_count": 14,
      "metadata": {
        "colab": {
          "base_uri": "https://localhost:8080/"
        },
        "id": "tPBuIOhvoQA9",
        "outputId": "f425e2a6-2a50-48bd-f134-78d619498361"
      },
      "outputs": [
        {
          "output_type": "execute_result",
          "data": {
            "text/plain": [
              "False"
            ]
          },
          "metadata": {},
          "execution_count": 14
        }
      ],
      "source": [
        "# Any missing values?\n",
        "data_df.isnull().values.any()"
      ]
    },
    {
      "cell_type": "code",
      "execution_count": 15,
      "metadata": {
        "colab": {
          "base_uri": "https://localhost:8080/"
        },
        "id": "tZt8bdrqoQA_",
        "outputId": "45c545da-b40f-427d-8c18-8f54d7d4ee5b"
      },
      "outputs": [
        {
          "output_type": "execute_result",
          "data": {
            "text/plain": [
              "Text         0\n",
              "Sentiment    0\n",
              "dtype: int64"
            ]
          },
          "metadata": {},
          "execution_count": 15
        }
      ],
      "source": [
        "# Total missing values for each feature\n",
        "data_df.isnull().sum()"
      ]
    },
    {
      "cell_type": "code",
      "execution_count": 16,
      "metadata": {
        "id": "A9IkwMfwoQBN"
      },
      "outputs": [],
      "source": [
        "Sentiment= data_df.groupby(['Sentiment'])"
      ]
    },
    {
      "cell_type": "code",
      "execution_count": 17,
      "metadata": {
        "colab": {
          "base_uri": "https://localhost:8080/",
          "height": 682
        },
        "id": "rVbzIgrVoQBO",
        "outputId": "feb4fa27-1844-4da1-e501-fde75ace28fb",
        "scrolled": true
      },
      "outputs": [
        {
          "output_type": "execute_result",
          "data": {
            "text/plain": [
              "            Text         \\\n",
              "           count unique   \n",
              "Sentiment                 \n",
              "Irrelevant  203   203     \n",
              "Negative    2591  2587    \n",
              "Neutral     1059  1057    \n",
              "Positive    7117  7097    \n",
              "\n",
              "                                                                                                                                                                  \\\n",
              "                                                                                                                                                             top   \n",
              "Sentiment                                                                                                                                                          \n",
              "Irrelevant  منعتني الحمية \\nللأسف لم أستطع التذوق من كنافة حبيبة مع أنني كنت أريد تجربيها و تجريب المدلوقة .... لكن للأسف الحمية كانت شديدة و لم أستطع التجربة\\n   \n",
              "Negative    لم يعجبني                                                                                                                                              \n",
              "Neutral     عادي جدا                                                                                                                                               \n",
              "Positive    لذيذ                                                                                                                                                   \n",
              "\n",
              "                 \n",
              "           freq  \n",
              "Sentiment        \n",
              "Irrelevant  1    \n",
              "Negative    4    \n",
              "Neutral     2    \n",
              "Positive    5    "
            ],
            "text/html": [
              "\n",
              "  <div id=\"df-61e889db-d9b6-461e-ad20-694559fdea3d\">\n",
              "    <div class=\"colab-df-container\">\n",
              "      <div>\n",
              "<style scoped>\n",
              "    .dataframe tbody tr th:only-of-type {\n",
              "        vertical-align: middle;\n",
              "    }\n",
              "\n",
              "    .dataframe tbody tr th {\n",
              "        vertical-align: top;\n",
              "    }\n",
              "\n",
              "    .dataframe thead tr th {\n",
              "        text-align: left;\n",
              "    }\n",
              "\n",
              "    .dataframe thead tr:last-of-type th {\n",
              "        text-align: right;\n",
              "    }\n",
              "</style>\n",
              "<table border=\"1\" class=\"dataframe\">\n",
              "  <thead>\n",
              "    <tr>\n",
              "      <th></th>\n",
              "      <th colspan=\"4\" halign=\"left\">Text</th>\n",
              "    </tr>\n",
              "    <tr>\n",
              "      <th></th>\n",
              "      <th>count</th>\n",
              "      <th>unique</th>\n",
              "      <th>top</th>\n",
              "      <th>freq</th>\n",
              "    </tr>\n",
              "    <tr>\n",
              "      <th>Sentiment</th>\n",
              "      <th></th>\n",
              "      <th></th>\n",
              "      <th></th>\n",
              "      <th></th>\n",
              "    </tr>\n",
              "  </thead>\n",
              "  <tbody>\n",
              "    <tr>\n",
              "      <th>Irrelevant</th>\n",
              "      <td>203</td>\n",
              "      <td>203</td>\n",
              "      <td>منعتني الحمية \\nللأسف لم أستطع التذوق من كنافة حبيبة مع أنني كنت أريد تجربيها و تجريب المدلوقة .... لكن للأسف الحمية كانت شديدة و لم أستطع التجربة\\n</td>\n",
              "      <td>1</td>\n",
              "    </tr>\n",
              "    <tr>\n",
              "      <th>Negative</th>\n",
              "      <td>2591</td>\n",
              "      <td>2587</td>\n",
              "      <td>لم يعجبني</td>\n",
              "      <td>4</td>\n",
              "    </tr>\n",
              "    <tr>\n",
              "      <th>Neutral</th>\n",
              "      <td>1059</td>\n",
              "      <td>1057</td>\n",
              "      <td>عادي جدا</td>\n",
              "      <td>2</td>\n",
              "    </tr>\n",
              "    <tr>\n",
              "      <th>Positive</th>\n",
              "      <td>7117</td>\n",
              "      <td>7097</td>\n",
              "      <td>لذيذ</td>\n",
              "      <td>5</td>\n",
              "    </tr>\n",
              "  </tbody>\n",
              "</table>\n",
              "</div>\n",
              "      <button class=\"colab-df-convert\" onclick=\"convertToInteractive('df-61e889db-d9b6-461e-ad20-694559fdea3d')\"\n",
              "              title=\"Convert this dataframe to an interactive table.\"\n",
              "              style=\"display:none;\">\n",
              "        \n",
              "  <svg xmlns=\"http://www.w3.org/2000/svg\" height=\"24px\"viewBox=\"0 0 24 24\"\n",
              "       width=\"24px\">\n",
              "    <path d=\"M0 0h24v24H0V0z\" fill=\"none\"/>\n",
              "    <path d=\"M18.56 5.44l.94 2.06.94-2.06 2.06-.94-2.06-.94-.94-2.06-.94 2.06-2.06.94zm-11 1L8.5 8.5l.94-2.06 2.06-.94-2.06-.94L8.5 2.5l-.94 2.06-2.06.94zm10 10l.94 2.06.94-2.06 2.06-.94-2.06-.94-.94-2.06-.94 2.06-2.06.94z\"/><path d=\"M17.41 7.96l-1.37-1.37c-.4-.4-.92-.59-1.43-.59-.52 0-1.04.2-1.43.59L10.3 9.45l-7.72 7.72c-.78.78-.78 2.05 0 2.83L4 21.41c.39.39.9.59 1.41.59.51 0 1.02-.2 1.41-.59l7.78-7.78 2.81-2.81c.8-.78.8-2.07 0-2.86zM5.41 20L4 18.59l7.72-7.72 1.47 1.35L5.41 20z\"/>\n",
              "  </svg>\n",
              "      </button>\n",
              "      \n",
              "  <style>\n",
              "    .colab-df-container {\n",
              "      display:flex;\n",
              "      flex-wrap:wrap;\n",
              "      gap: 12px;\n",
              "    }\n",
              "\n",
              "    .colab-df-convert {\n",
              "      background-color: #E8F0FE;\n",
              "      border: none;\n",
              "      border-radius: 50%;\n",
              "      cursor: pointer;\n",
              "      display: none;\n",
              "      fill: #1967D2;\n",
              "      height: 32px;\n",
              "      padding: 0 0 0 0;\n",
              "      width: 32px;\n",
              "    }\n",
              "\n",
              "    .colab-df-convert:hover {\n",
              "      background-color: #E2EBFA;\n",
              "      box-shadow: 0px 1px 2px rgba(60, 64, 67, 0.3), 0px 1px 3px 1px rgba(60, 64, 67, 0.15);\n",
              "      fill: #174EA6;\n",
              "    }\n",
              "\n",
              "    [theme=dark] .colab-df-convert {\n",
              "      background-color: #3B4455;\n",
              "      fill: #D2E3FC;\n",
              "    }\n",
              "\n",
              "    [theme=dark] .colab-df-convert:hover {\n",
              "      background-color: #434B5C;\n",
              "      box-shadow: 0px 1px 3px 1px rgba(0, 0, 0, 0.15);\n",
              "      filter: drop-shadow(0px 1px 2px rgba(0, 0, 0, 0.3));\n",
              "      fill: #FFFFFF;\n",
              "    }\n",
              "  </style>\n",
              "\n",
              "      <script>\n",
              "        const buttonEl =\n",
              "          document.querySelector('#df-61e889db-d9b6-461e-ad20-694559fdea3d button.colab-df-convert');\n",
              "        buttonEl.style.display =\n",
              "          google.colab.kernel.accessAllowed ? 'block' : 'none';\n",
              "\n",
              "        async function convertToInteractive(key) {\n",
              "          const element = document.querySelector('#df-61e889db-d9b6-461e-ad20-694559fdea3d');\n",
              "          const dataTable =\n",
              "            await google.colab.kernel.invokeFunction('convertToInteractive',\n",
              "                                                     [key], {});\n",
              "          if (!dataTable) return;\n",
              "\n",
              "          const docLinkHtml = 'Like what you see? Visit the ' +\n",
              "            '<a target=\"_blank\" href=https://colab.research.google.com/notebooks/data_table.ipynb>data table notebook</a>'\n",
              "            + ' to learn more about interactive tables.';\n",
              "          element.innerHTML = '';\n",
              "          dataTable['output_type'] = 'display_data';\n",
              "          await google.colab.output.renderOutput(dataTable, element);\n",
              "          const docLink = document.createElement('div');\n",
              "          docLink.innerHTML = docLinkHtml;\n",
              "          element.appendChild(docLink);\n",
              "        }\n",
              "      </script>\n",
              "    </div>\n",
              "  </div>\n",
              "  "
            ]
          },
          "metadata": {},
          "execution_count": 17
        }
      ],
      "source": [
        "Sentiment.describe()"
      ]
    },
    {
      "cell_type": "markdown",
      "metadata": {
        "id": "vzfC9T0poQBY"
      },
      "source": [
        "# **Preprocess the text**\n",
        "\n"
      ]
    },
    {
      "cell_type": "markdown",
      "metadata": {
        "id": "blN875Ly50cA"
      },
      "source": [
        "*issue 1: remove dublicate row (letters and records)*"
      ]
    },
    {
      "cell_type": "code",
      "execution_count": 18,
      "metadata": {
        "id": "U_Og0bLXoQBb"
      },
      "outputs": [],
      "source": [
        "# remove repeated letters\n",
        "def remove_repeating_char(Text):\n",
        "    return re.sub(r'(.)\\1+', r'\\1', Text)"
      ]
    },
    {
      "cell_type": "code",
      "execution_count": 19,
      "metadata": {
        "colab": {
          "base_uri": "https://localhost:8080/",
          "height": 285
        },
        "id": "hDGcSyQuXlcG",
        "outputId": "f362010d-5eaa-4029-f15e-e092c955c31d"
      },
      "outputs": [
        {
          "output_type": "execute_result",
          "data": {
            "text/plain": [
              "                                                                                                                                                                                                                                                                                                                                                                                                                                                           Text  \\\n",
              "2794  Tres Bonne creperie dans le Lot \\nOuverte toute l'année, cette creperie se double d'un bar à bières avec plus de 100 variétés.  Les crèpes sont copieuses, variées, les ingrédients de bonne qualité. Les prix sont extremements raisonnables. L'accueil est chaleureux. L'été, une terrasse très agréable permet de déjeuner ou diner sous la tonnelle. Seul bemol, il n'y a que des crèpes au froment (même les salées) et pas de galettes de sarrasin.   \n",
              "3308  احسن مطعم بيتزا عندي في العالم طعمه في البيتزا حلــــــــــــــــــــــــــــــــــــــــــــــــــــــــو                                                                                                                                                                                                                                                                                                                                                  \n",
              "4481  لذيذ                                                                                                                                                                                                                                                                                                                                                                                                                                                        \n",
              "4807  لذيذ                                                                                                                                                                                                                                                                                                                                                                                                                                                        \n",
              "5256  جيد                                                                                                                                                                                                                                                                                                                                                                                                                                                         \n",
              "\n",
              "      Sentiment  \n",
              "2794  Positive   \n",
              "3308  Positive   \n",
              "4481  Negative   \n",
              "4807  Neutral    \n",
              "5256  Negative   "
            ],
            "text/html": [
              "\n",
              "  <div id=\"df-1f4f9c53-eaf4-4e76-bdab-ff1aa2c11842\">\n",
              "    <div class=\"colab-df-container\">\n",
              "      <div>\n",
              "<style scoped>\n",
              "    .dataframe tbody tr th:only-of-type {\n",
              "        vertical-align: middle;\n",
              "    }\n",
              "\n",
              "    .dataframe tbody tr th {\n",
              "        vertical-align: top;\n",
              "    }\n",
              "\n",
              "    .dataframe thead th {\n",
              "        text-align: right;\n",
              "    }\n",
              "</style>\n",
              "<table border=\"1\" class=\"dataframe\">\n",
              "  <thead>\n",
              "    <tr style=\"text-align: right;\">\n",
              "      <th></th>\n",
              "      <th>Text</th>\n",
              "      <th>Sentiment</th>\n",
              "    </tr>\n",
              "  </thead>\n",
              "  <tbody>\n",
              "    <tr>\n",
              "      <th>2794</th>\n",
              "      <td>Tres Bonne creperie dans le Lot \\nOuverte toute l'année, cette creperie se double d'un bar à bières avec plus de 100 variétés.  Les crèpes sont copieuses, variées, les ingrédients de bonne qualité. Les prix sont extremements raisonnables. L'accueil est chaleureux. L'été, une terrasse très agréable permet de déjeuner ou diner sous la tonnelle. Seul bemol, il n'y a que des crèpes au froment (même les salées) et pas de galettes de sarrasin.</td>\n",
              "      <td>Positive</td>\n",
              "    </tr>\n",
              "    <tr>\n",
              "      <th>3308</th>\n",
              "      <td>احسن مطعم بيتزا عندي في العالم طعمه في البيتزا حلــــــــــــــــــــــــــــــــــــــــــــــــــــــــو</td>\n",
              "      <td>Positive</td>\n",
              "    </tr>\n",
              "    <tr>\n",
              "      <th>4481</th>\n",
              "      <td>لذيذ</td>\n",
              "      <td>Negative</td>\n",
              "    </tr>\n",
              "    <tr>\n",
              "      <th>4807</th>\n",
              "      <td>لذيذ</td>\n",
              "      <td>Neutral</td>\n",
              "    </tr>\n",
              "    <tr>\n",
              "      <th>5256</th>\n",
              "      <td>جيد</td>\n",
              "      <td>Negative</td>\n",
              "    </tr>\n",
              "  </tbody>\n",
              "</table>\n",
              "</div>\n",
              "      <button class=\"colab-df-convert\" onclick=\"convertToInteractive('df-1f4f9c53-eaf4-4e76-bdab-ff1aa2c11842')\"\n",
              "              title=\"Convert this dataframe to an interactive table.\"\n",
              "              style=\"display:none;\">\n",
              "        \n",
              "  <svg xmlns=\"http://www.w3.org/2000/svg\" height=\"24px\"viewBox=\"0 0 24 24\"\n",
              "       width=\"24px\">\n",
              "    <path d=\"M0 0h24v24H0V0z\" fill=\"none\"/>\n",
              "    <path d=\"M18.56 5.44l.94 2.06.94-2.06 2.06-.94-2.06-.94-.94-2.06-.94 2.06-2.06.94zm-11 1L8.5 8.5l.94-2.06 2.06-.94-2.06-.94L8.5 2.5l-.94 2.06-2.06.94zm10 10l.94 2.06.94-2.06 2.06-.94-2.06-.94-.94-2.06-.94 2.06-2.06.94z\"/><path d=\"M17.41 7.96l-1.37-1.37c-.4-.4-.92-.59-1.43-.59-.52 0-1.04.2-1.43.59L10.3 9.45l-7.72 7.72c-.78.78-.78 2.05 0 2.83L4 21.41c.39.39.9.59 1.41.59.51 0 1.02-.2 1.41-.59l7.78-7.78 2.81-2.81c.8-.78.8-2.07 0-2.86zM5.41 20L4 18.59l7.72-7.72 1.47 1.35L5.41 20z\"/>\n",
              "  </svg>\n",
              "      </button>\n",
              "      \n",
              "  <style>\n",
              "    .colab-df-container {\n",
              "      display:flex;\n",
              "      flex-wrap:wrap;\n",
              "      gap: 12px;\n",
              "    }\n",
              "\n",
              "    .colab-df-convert {\n",
              "      background-color: #E8F0FE;\n",
              "      border: none;\n",
              "      border-radius: 50%;\n",
              "      cursor: pointer;\n",
              "      display: none;\n",
              "      fill: #1967D2;\n",
              "      height: 32px;\n",
              "      padding: 0 0 0 0;\n",
              "      width: 32px;\n",
              "    }\n",
              "\n",
              "    .colab-df-convert:hover {\n",
              "      background-color: #E2EBFA;\n",
              "      box-shadow: 0px 1px 2px rgba(60, 64, 67, 0.3), 0px 1px 3px 1px rgba(60, 64, 67, 0.15);\n",
              "      fill: #174EA6;\n",
              "    }\n",
              "\n",
              "    [theme=dark] .colab-df-convert {\n",
              "      background-color: #3B4455;\n",
              "      fill: #D2E3FC;\n",
              "    }\n",
              "\n",
              "    [theme=dark] .colab-df-convert:hover {\n",
              "      background-color: #434B5C;\n",
              "      box-shadow: 0px 1px 3px 1px rgba(0, 0, 0, 0.15);\n",
              "      filter: drop-shadow(0px 1px 2px rgba(0, 0, 0, 0.3));\n",
              "      fill: #FFFFFF;\n",
              "    }\n",
              "  </style>\n",
              "\n",
              "      <script>\n",
              "        const buttonEl =\n",
              "          document.querySelector('#df-1f4f9c53-eaf4-4e76-bdab-ff1aa2c11842 button.colab-df-convert');\n",
              "        buttonEl.style.display =\n",
              "          google.colab.kernel.accessAllowed ? 'block' : 'none';\n",
              "\n",
              "        async function convertToInteractive(key) {\n",
              "          const element = document.querySelector('#df-1f4f9c53-eaf4-4e76-bdab-ff1aa2c11842');\n",
              "          const dataTable =\n",
              "            await google.colab.kernel.invokeFunction('convertToInteractive',\n",
              "                                                     [key], {});\n",
              "          if (!dataTable) return;\n",
              "\n",
              "          const docLinkHtml = 'Like what you see? Visit the ' +\n",
              "            '<a target=\"_blank\" href=https://colab.research.google.com/notebooks/data_table.ipynb>data table notebook</a>'\n",
              "            + ' to learn more about interactive tables.';\n",
              "          element.innerHTML = '';\n",
              "          dataTable['output_type'] = 'display_data';\n",
              "          await google.colab.output.renderOutput(dataTable, element);\n",
              "          const docLink = document.createElement('div');\n",
              "          docLink.innerHTML = docLinkHtml;\n",
              "          element.appendChild(docLink);\n",
              "        }\n",
              "      </script>\n",
              "    </div>\n",
              "  </div>\n",
              "  "
            ]
          },
          "metadata": {},
          "execution_count": 19
        }
      ],
      "source": [
        "# find duplicated rows that have same value in text column\n",
        "data_df[data_df.duplicated(subset='Text')].head()"
      ]
    },
    {
      "cell_type": "code",
      "execution_count": 20,
      "metadata": {
        "id": "5UklNYAwbeFB"
      },
      "outputs": [],
      "source": [
        "#remove duplicate reviews\n",
        "data_df.drop_duplicates(subset='Text',inplace=True)"
      ]
    },
    {
      "cell_type": "code",
      "execution_count": 21,
      "metadata": {
        "colab": {
          "base_uri": "https://localhost:8080/"
        },
        "id": "hQWA7kUA7kvM",
        "outputId": "c1a8346c-c2bf-432e-9a43-2e1e3c9b3b9c"
      },
      "outputs": [
        {
          "output_type": "execute_result",
          "data": {
            "text/plain": [
              "0"
            ]
          },
          "metadata": {},
          "execution_count": 21
        }
      ],
      "source": [
        "#check if duplicates were removed\n",
        "data_df.duplicated(subset='Text').sum()"
      ]
    },
    {
      "cell_type": "markdown",
      "metadata": {
        "id": "UCMjaeRqaTRF"
      },
      "source": [
        "*Issue 2 : Remove Punctuations*"
      ]
    },
    {
      "cell_type": "code",
      "execution_count": 22,
      "metadata": {
        "id": "ClZ1Dxibhjld"
      },
      "outputs": [],
      "source": [
        " # list of punctuation to be removed \n",
        "\n",
        "arabic_punctuations = '''`÷×؛<>_()*&^%][ـ،/:\"؟.,'{}~¦+|!”…“–ـ'''\n",
        "english_punctuations = string.punctuation\n",
        "punctuations_list = arabic_punctuations + english_punctuations\n",
        "\n",
        "#takes the text as an input and removes any punctuation added to it \n",
        "def remove_punctuations(Text):\n",
        "  \n",
        "  translator = str.maketrans('', '', punctuations_list)\n",
        "  text =Text.translate(translator)\n",
        "  text=' '.join(c for c in text.split())\n",
        "  return text\n",
        " \n"
      ]
    },
    {
      "cell_type": "markdown",
      "metadata": {
        "id": "j71ivJigBVYk"
      },
      "source": [
        "*Issue 3 :Diacritical marks, Normalization**"
      ]
    },
    {
      "cell_type": "code",
      "execution_count": 23,
      "metadata": {
        "id": "hJox-ieVoQBZ"
      },
      "outputs": [],
      "source": [
        "# Removal of diacritics and arabic letters normalization\n",
        "def normalize_arabic(Text):\n",
        "    #remove diacritical marks \n",
        "    Text = araby.strip_diacritics(Text)\n",
        "    Text = araby.strip_tashkeel(Text)\n",
        "\n",
        "    #normalize arabic letters\n",
        "    Text = araby.normalize_alef(Text)\n",
        "    Text = araby.normalize_hamza(Text)\n",
        "    Text = araby.normalize_ligature(Text)\n",
        "    Text = re.sub(\"ة\", \"ه\", Text)\n",
        "    Text = re.sub(\"گ\", \"ك\", Text)\n",
        "    return Text"
      ]
    },
    {
      "cell_type": "markdown",
      "metadata": {
        "id": "A5Cm8g2d6-L6"
      },
      "source": [
        "*Issue 4 : Remove StopWords*"
      ]
    },
    {
      "cell_type": "code",
      "execution_count": 24,
      "metadata": {
        "id": "AhZ6eyV5_xge"
      },
      "outputs": [],
      "source": [
        "ar_stops = set(stopwords.words('arabic'))\n",
        "#remove stop_words\n",
        "stop_words = {\"،\",\"\",\"ياعيال\",\"عندهم\",\"اللي\",\"ورحمة\",\"وبركاته\",\"عليكم\",\"السلام\",\"السياسة\",\"آمينَ\",\"آه\",\"آهاً\",\"فعلاً\",\"أ\",\"الساعه\",\"أجل\",\"أجمع\",\"أخ\",\"أخذ\",\"أصبح\",\"اسمهم\",\"أقبل\",\"أقل\",\"أكثر\",\"ألا\",\"أم\",\"أما\",\"أمامك\",\"اساسا\",\"أمسى\",\"أمّا\",\"أن\",\"أنا\",\"أنت\",\"أنتم\",\"أنتما\",\"أنتن\",\"أنتِ\",\"أنشأ\",\"أنّى\",\"أو\",\"أوشك\",\"أولئك\",\"أولئكم\",\"أولاء\",\"أولالك\",\"أوّهْ\",\"أي\",\"أيا\",\"أين\",\"أينما\",\"أيّ\",\"أَنَّ\",\"أََيُّ\",\"أُفٍّ\",\"إذ\",\"إذا\",\"إذاً\",\"إذما\",\"إذن\",\"إلى\",\"إليكم\",\"إليكما\",\"إليكنّ\",\"إليكَ\",\"إلَيْكَ\",\"إلّا\",\"إمّا\",\"إن\",\"إنّما\",\"إي\",\"إياك\",\"إياكم\",\"إياكما\",\"إياكن\",\"إيانا\",\"إياه\",\"إياها\",\"إياهم\",\"إياهما\",\"كلته\",\"والمفترض\",\"إيهٍ\",\"إِنَّ\",\"ا\",\"نخليها\",\"المالك\",\"اجل\",\"المفترض\",\"اخرى\",\"ارفقها\",\"اذا\",\"اربعة\",\"ارتدّ\",\"وراح\",\"اطار\",\"اعادة\",\"اعلنت\",\"اف\",\"اكثر\",\"صراحة\",\"الألاء\",\"الألى\",\"الا\",\"الاخيرة\",\"الان\",\"الاول\",\"الاولى\",\"التى\",\"التي\",\"الثاني\",\"الثانية\",\"بصراحة\",\"الذى\",\"الذي\",\"الذين\",\"السابق\",\"الف\",\"المهمه\",\"اللاتي\",\"للاسئله\",\"يتغدى\",\"يتعشى\",\"برى\",\"خلال\",\"اللواتي\",\"الماضي\",\"المقبل\",\"الوقت\",\"الى\",\"اليوم\",\"اما\",\"امام\",\"امس\",\"ان\",\"انبرى\",\"انقلب\",\"انه\",\"انها\",\"او\",\"اول\",\"اي\",\"العيد\",\"ايام\",\"ايضا\",\"ب\",\"زرناه\",\"ايام\",\"بان\",\"بخٍ\",\"برس\",\"بسبب\",\"بسّ\",\"بشكل\",\"بضع\",\"يعني\",\"بعد\",\"بعض\",\"بك\",\"بكم\",\"لمطعم\",\"بكن\",\"بل\",\"بلى\",\"بما\",\"بماذا\",\"بمن\",\"بن\",\"بنا\",\"به\",\"بها\",\"بي\",\"بيد\",\"بين\",\"بَسْ\",\"بَلْهَ\",\"بِئْسَ\",\"تانِ\",\"تانِك\",\"تبدّل\",\"تجاه\",\"تحوّل\",\"تلقاء\",\"تلك\",\"تلكم\",\"تلكما\",\"تم\",\"تينك\",\"تَيْنِ\",\"تِه\",\"تِي\",\"ثلاثة\",\"ثم\",\"ثمّ\",\"تجربتي\",\"ثُمَّ\",\"جعل\",\"تجربه\",\"جميع\",\"جير\",\"حار\",\"حاشا\",\"حاليا\",\"حاي\",\"حتى\",\"حرى\",\"حسب\",\"حم\",\"حوالى\",\"حول\",\"حيث\",\"حيثما\",\"حين\",\"حيَّ\",\"حَبَّذَا\",\"حَتَّى\",\"حَذارِ\",\"خلا\",\"خلال\",\"دون\",\"دونك\",\"ذا\",\"ذات\",\"ذاك\",\"ذانك\",\"ذانِ\",\"ذلك\",\"ذلكم\",\"ذلكما\",\"مثل\",\"ذو\",\"ذوا\",\"ذواتا\",\"المطاعم\",\"ذَيْنِ\",\"ذِه\",\"ذِي\",\"راح\",\"رجع\",\"بحدود\",\"اتوقع\",\"الصحن\",\"زيارة\",\"سبحان\",\"سرعان\",\"سنة\",\"سنوات\",\"سوف\",\"سوى\",\"سَاءَ\",\"سَاءَمَا\",\"شبه\",\"شخصا\",\"شرع\",\"شَتَّانَ\",\"صار\",\"صباح\",\"صفر\",\"ضمن\",\"طاق\",\"طالما\",\"طفق\",\"طَق\",\"ظلّ\",\"عاد\",\"عام\",\"عاما\",\"عامة\",\"عدا\",\"عدة\",\"عدد\",\"عدم\",\"عسى\",\"عشر\",\"عشرة\",\"علق\",\"على\",\"عليك\",\"عليه\",\"عليها\",\"علًّ\",\"عن\",\"عند\",\"عندما\",\"عوض\",\"عين\",\"ضمن\",\"عَمَّا\",\"غدا\",\"مرحباا\",\"ف\",\"فان\",\"فلان\",\"فو\",\"فى\",\"في\",\"فيم\",\"فيما\",\"فيه\",\"فيها\",\"قال\",\"قام\",\"قبل\",\"قد\",\"قطّ\",\"قلما\",\"قوة\",\"كأنّما\",\"كأين\",\"كأيّ\",\"كأيّن\",\"كاد\",\"كان\",\"كانت\",\"كذا\",\"كذلك\",\"كرب\",\"كل\",\"كلا\",\"كلاهما\",\"كلتا\",\"كلم\",\"كليكما\",\"كليهما\",\"كلّما\",\"كلَّا\",\"كم\",\"كما\",\"كي\",\"كيت\",\"كيف\",\"اطلب\",\"كَأَنَّ\",\"كِخ\",\"لئن\",\"تحياتي\",\"قائمة\",\"لاسيما\",\"تشكيله\",\"لدى\",\"اخذنا\",\"لقاء\",\"لك\",\"لكم\",\"اطلبه\",\"لكن\",\"المسا\",\"لكي\",\"جاي\",\"ببساطه\",\"بالعافية\",\"لما\",\"لمّا\",\"فمان\",\"لنا\",\"له\",\"لها\",\"لو\",\"قلت\",\"لولا\",\"كمان\",\"لي\",\"اخر\",\"والشفاء\",\"بالهناء\",\"لَسْتُم\",\"لَسْتُمَا\",\"لَسْتُنَّ\",\"لَسْتِ\",\"لَسْنَ\",\"لَعَلَّ\",\"ل\",\"لَيْتَ\",\"ل\",\"طلبت\",\"وكمان\",\"بتاريخ\",\"لَيْسُوا\",\"لَِسْنَا\",\"فقط\",\"ماانفك\",\"وسط\",\"مادام\",\"ماذا\",\"مازال\",\"مره\",\"الخلاصه\",\"متى\",\"مثل\",\"موجوده\",\"مساء\",\"الانترنت\",\"مقابل\",\"مكانكم\",\"انا\",\"المطعم\",\"مكانَك\",\"شي\",\"مليون\",\"مما\",\"ممن\",\"من\",\"منذ\",\"منها\",\"مه\",\"مهما\",\"مَنْ\",\"مِن\",\"نحن\",\"نحو\",\"نعم\",\"نفس\",\"نفسه\",\"نهاية\",\"نَخْ\",\"نِعِمّا\",\"نِعْمَ\",\"ها\",\"هاكَ\",\"هاهنا\",\"هبّ\",\"هذا\",\"هذه\",\"هكذا\",\"هل\",\"بكل\",\"هلّا\",\"هم\",\"هما\",\"هن\",\"هنا\",\"هناك\",\"هنالك\",\"هو\",\"هي\",\"هيا\",\"هيت\",\"هيّا\",\"هَؤلاء\",\"هَاتانِ\",\"هَاتَيْنِ\",\"5-\",\"هَاتِي\",\"هَجْ\",\"هذا\",\"هَذانِ\",\"هَذَيْنِ\",\"هَذِه\",\"هَذِي\",\"و\",\"وا\",\"واحد\",\"واضاف\",\"واضافت\",\"واكد\",\"وان\",\"مطاعم\",\"واوضح\",\"مطعم\",\"وفي\",\"وقال\",\"وقالت\",\"وقد\",\"وقف\",\"وكان\",\"وكانت\",\"فطنت\",\"الكريم\",\"ومن\",\"مَن\",\"وهو\",\"وهي\",\"الانترنت\",\"وسوف\",\"والله\",\"يكون\",\"يمكن\",\"يوم\",\"اقوم\",\"بوصف\",\"بصراحه\",\"بالمطعم\",\"ّفصحن\"}\n",
        "def remove_stop_words(Text):\n",
        "    zen = TextBlob(Text)\n",
        "    words = zen.words\n",
        "    return \" \".join([w for w in words if not w in ar_stops and not w in stop_words and len(w) >= 2])"
      ]
    },
    {
      "cell_type": "markdown",
      "metadata": {
        "id": "E0HaXi4cCSJk"
      },
      "source": [
        "*Issue 5 : Foreign words/reviews*‏"
      ]
    },
    {
      "cell_type": "code",
      "execution_count": 25,
      "metadata": {
        "id": "P5xaChVzu30a"
      },
      "outputs": [],
      "source": [
        "  import unicodedata\n",
        "  def strip_accents(Text):\n",
        " return ''.join(Text for Text in unicodedata.normalize('NFD', Text)\n",
        "                  if unicodedata.category(Text) != 'Mn')"
      ]
    },
    {
      "cell_type": "markdown",
      "metadata": {
        "id": "TEmjLaXK7KBD"
      },
      "source": [
        "*Issue 6 : Stemming*"
      ]
    },
    {
      "cell_type": "code",
      "execution_count": 26,
      "metadata": {
        "id": "Lz0P8eh-f6-W"
      },
      "outputs": [],
      "source": [
        "from nltk.stem.isri import ISRIStemmer\n",
        "from nltk.tokenize import word_tokenize\n",
        "\n",
        "\n",
        "st = ISRIStemmer()\n",
        "\n",
        "# Define a function\n",
        "def stemming(word):\n",
        "    wordsfilter=' '\n",
        "    for a in word_tokenize(word):\n",
        "        stem = st.stem(a)\n",
        "        wordsfilter= wordsfilter + ' ' + stem\n",
        "    return(wordsfilter)\n",
        "\n",
        "# Call the function\n",
        "#data_df['Stemming']= data_df[\"Clean Text\"].apply(stemming)"
      ]
    },
    {
      "cell_type": "code",
      "execution_count": 27,
      "metadata": {
        "id": "Cu-ChwpXoQBc"
      },
      "outputs": [],
      "source": [
        "#start processing the tweet\n",
        "def processPost(Text):\n",
        "\n",
        "   # remove punctuations \n",
        "    Text= remove_punctuations(Text)\n",
        "\n",
        "    #renove stop_words\n",
        "    Text= remove_stop_words(Text)\n",
        "    \n",
        "    # remove repeated letters\n",
        "    Text= remove_repeating_char(Text)\n",
        "  \n",
        "    # remove Arabic stop words from the tweets\n",
        "    Text = remove_stop_words(Text)\n",
        "    \n",
        "    #remove foreign words\n",
        "    Text = strip_accents(Text)\n",
        "    Text = re.sub(r'\\s*[A-Za-z]+\\b', ' ' , str(Text)).rstrip()\n",
        "   \n",
        "    # normalize the tweet\n",
        "    Text = normalize_arabic(str(Text))\n",
        "\n",
        "    # stemming: return the word to it root\n",
        "    Text = stemming(Text)\n",
        "    return Text"
      ]
    },
    {
      "cell_type": "code",
      "execution_count": 28,
      "metadata": {
        "id": "T2485Vy0oQBj",
        "scrolled": true
      },
      "outputs": [],
      "source": [
        "# apply the method in all the text and creat another cloumn with the processed text\n",
        "data_df[\"Clean Text\"] = data_df['Text'].apply(lambda x: processPost(x))"
      ]
    },
    {
      "cell_type": "code",
      "execution_count": 29,
      "metadata": {
        "colab": {
          "base_uri": "https://localhost:8080/",
          "height": 528
        },
        "id": "0mDew08XoQBk",
        "outputId": "7799ceda-ced3-430d-f2c0-bca531f930db"
      },
      "outputs": [
        {
          "output_type": "execute_result",
          "data": {
            "text/plain": [
              "                                                                                                                                                                                                                                                                                                                                                                                                                                                                                                                                                      Text  \\\n",
              "3972   افضل مطاعم البيتزا بالرياض                                                                                                                                                                                                                                                                                                                                                                                                                                                                                                                            \n",
              "1171   الجزيرة الخضراء غلاء فاحش \\nكون الموقع جميل على كورنيش جدة لايبرر ارتفاع أسعار المأكولات والمشروبات أسعار غير معقولة.\\n                                                                                                                                                                                                                                                                                                                                                                                                                               \n",
              "7984   أكل المطعم بصفة عامة لذيذ .. ديكوراتهم جداً جميلة ,, اسعارهم معقوله  \\n  انصح و بشدة اللي يحب الاكل الهندي انه يروح للمطعم                                                                                                                                                                                                                                                                                                                                                                                                                            \n",
              "9589   عليهم صوصات رايقه وشغل نضيف وبرجر فايري وساندوشات حلوووووووووه ....                                                                                                                                                                                                                                                                                                                                                                                                                                                                                   \n",
              "5025   الصراحة اعجبني اكثر شيء الفطور مميز جدا وسعره مناسب                                                                                                                                                                                                                                                                                                                                                                                                                                                                                                   \n",
              "4592   صحيح أن جده غير ! \\n فرعهم هناك أفضل بشهادة من اقربائي \\n  \\n فرع الرياض \\n مافيه زياده! \\n عادي ويمكن أقل \\n الجلسه هناك مريحه وممتعه  \\n الديكور رائع \\n اعجبني الفرع المقابل من جرير وفدركرز من ناحية الهدوء في وسط الأسبوع \\n لكن بعض اكلاتهم تقطر زيت .. ما اجده أمر مقرف ! \\n  \\n فرع الرياض أبل بيز لا بأس به                                                                                                                                                                                                                                  \n",
              "8311   سبايس في نظري من أسواء المطاعم الهندية لا من ناحية الأكل ولا من ناحية الخدمة ولا من ناحية النظافة و سبق بلغت عليه الأمانات وجدنا شعر بالآكل و الهندي يقول عادي شعرهـ وحده !! و من زين الترقيع جاب لنا شيف أقرع يقول كيف يجي شعر بالأكل !! مشكلة اللي ما يعترف بغلطته \\n  \\n فيه اللي أفضل منه بكثييير ( مكاني ) جودة الآكل طيبة لكن الخدمه لك عليها و النظافة ماشفنا شي بأكله لكن الطاولات توحي لك انه مستهلك \\n  \\n فيه برضوا ( الريف الهندي ) الأكل جودته ممتازة و الخدمة والنظافة ع أحسن ما يكون بس اسعارهم غويليه شويات مقارنه بمكاني وما شابهه   \n",
              "1591   مطعم رائع واسعار مناسبة مذاق طيب مكان حلو \\n شكرا جزيلا                                                                                                                                                                                                                                                                                                                                                                                                                                                                                               \n",
              "10194  بااااايخ مرره صحيح شكله حلوو \\n بس ذقت الباستا وعع الله يكرم النعمه بس ):                                                                                                                                                                                                                                                                                                                                                                                                                                                                             \n",
              "101    ممتاز \\nبيتزا الإيطالي العظيم.\\nكبيرة في الأسعار.\\nنوعية ممتازة.\\nجيد جدا بيتزا مارجريتا وكرات الأرز.\\nأوصت لأولئك الذين يرغبون في تناول الطعام بشكل جيد وقضاء الحق\\n                                                                                                                                                                                                                                                                                                                                                                                 \n",
              "\n",
              "       Sentiment  \\\n",
              "3972   Positive    \n",
              "1171   Negative    \n",
              "7984   Positive    \n",
              "9589   Positive    \n",
              "5025   Negative    \n",
              "4592   Negative    \n",
              "8311   Negative    \n",
              "1591   Positive    \n",
              "10194  Negative    \n",
              "101    Positive    \n",
              "\n",
              "                                                                                                                                                                                                                                                  Clean Text  \n",
              "3972     فضل يتز ريض                                                                                                                                                                                                                                          \n",
              "1171     جزر خضراء غلء فحش كون وقع جمل كورنيش جده يبر رفع سعر اكل شرب سعر عقل                                                                                                                                                                                 \n",
              "7984     اكل بصف لذذ ديكور جدا جمل سعر عقل نصح بشد يحب اكل هند يرح                                                                                                                                                                                            \n",
              "9589     علي صوص ريق شغل نضف رجر فير دوش حله                                                                                                                                                                                                                  \n",
              "5025     صرح عجب شيء فطر ميز جدا سعر نسب                                                                                                                                                                                                                      \n",
              "4592     صحح جده فرع فضل شهد قرب فرع ريض افه زيد عدي ويم جلس ريح متع ديكور ريع عجب فرع قبل جرر دركرز نحي هدء سبع كلت قطر زيت اجد امر قرف فرع ريض ابل بيز باس                                                                                                  \n",
              "8311     بيس نظر سوء هند نحي اكل نحي خدم نحي نظف سبق بلغ امن وجد شعر اكل هند يقل عدي شعر وحد زين رقع جاب شيف قرع يقل يجي شعر اكل شكل عرف غلط فضل كثر مكا جود اكل طيب خدم نظف اشف بكل طول توح هلك برض ريف هند اكل جود تزه خدم نظف احس سعر غول شوي قرن بمك شبه  \n",
              "1591     ريع سعر نسب ذاق طيب كان حلو شكر جزل                                                                                                                                                                                                                  \n",
              "10194    بيخ صحح شكل حلو ذقت بست وع اله كرم نعم                                                                                                                                                                                                               \n",
              "101      تاز يتز يطل عظم كبر سعر نوع تزه جيد جدا يتز مارجريتا وكر ارز اوص لول رغب نول طعم جيد قضء لحق                                                                                                                                                         "
            ],
            "text/html": [
              "\n",
              "  <div id=\"df-272f8cc2-238f-45be-b1e5-fa0213a5aae8\">\n",
              "    <div class=\"colab-df-container\">\n",
              "      <div>\n",
              "<style scoped>\n",
              "    .dataframe tbody tr th:only-of-type {\n",
              "        vertical-align: middle;\n",
              "    }\n",
              "\n",
              "    .dataframe tbody tr th {\n",
              "        vertical-align: top;\n",
              "    }\n",
              "\n",
              "    .dataframe thead th {\n",
              "        text-align: right;\n",
              "    }\n",
              "</style>\n",
              "<table border=\"1\" class=\"dataframe\">\n",
              "  <thead>\n",
              "    <tr style=\"text-align: right;\">\n",
              "      <th></th>\n",
              "      <th>Text</th>\n",
              "      <th>Sentiment</th>\n",
              "      <th>Clean Text</th>\n",
              "    </tr>\n",
              "  </thead>\n",
              "  <tbody>\n",
              "    <tr>\n",
              "      <th>3972</th>\n",
              "      <td>افضل مطاعم البيتزا بالرياض</td>\n",
              "      <td>Positive</td>\n",
              "      <td>فضل يتز ريض</td>\n",
              "    </tr>\n",
              "    <tr>\n",
              "      <th>1171</th>\n",
              "      <td>الجزيرة الخضراء غلاء فاحش \\nكون الموقع جميل على كورنيش جدة لايبرر ارتفاع أسعار المأكولات والمشروبات أسعار غير معقولة.\\n</td>\n",
              "      <td>Negative</td>\n",
              "      <td>جزر خضراء غلء فحش كون وقع جمل كورنيش جده يبر رفع سعر اكل شرب سعر عقل</td>\n",
              "    </tr>\n",
              "    <tr>\n",
              "      <th>7984</th>\n",
              "      <td>أكل المطعم بصفة عامة لذيذ .. ديكوراتهم جداً جميلة ,, اسعارهم معقوله  \\n  انصح و بشدة اللي يحب الاكل الهندي انه يروح للمطعم</td>\n",
              "      <td>Positive</td>\n",
              "      <td>اكل بصف لذذ ديكور جدا جمل سعر عقل نصح بشد يحب اكل هند يرح</td>\n",
              "    </tr>\n",
              "    <tr>\n",
              "      <th>9589</th>\n",
              "      <td>عليهم صوصات رايقه وشغل نضيف وبرجر فايري وساندوشات حلوووووووووه ....</td>\n",
              "      <td>Positive</td>\n",
              "      <td>علي صوص ريق شغل نضف رجر فير دوش حله</td>\n",
              "    </tr>\n",
              "    <tr>\n",
              "      <th>5025</th>\n",
              "      <td>الصراحة اعجبني اكثر شيء الفطور مميز جدا وسعره مناسب</td>\n",
              "      <td>Negative</td>\n",
              "      <td>صرح عجب شيء فطر ميز جدا سعر نسب</td>\n",
              "    </tr>\n",
              "    <tr>\n",
              "      <th>4592</th>\n",
              "      <td>صحيح أن جده غير ! \\n فرعهم هناك أفضل بشهادة من اقربائي \\n  \\n فرع الرياض \\n مافيه زياده! \\n عادي ويمكن أقل \\n الجلسه هناك مريحه وممتعه  \\n الديكور رائع \\n اعجبني الفرع المقابل من جرير وفدركرز من ناحية الهدوء في وسط الأسبوع \\n لكن بعض اكلاتهم تقطر زيت .. ما اجده أمر مقرف ! \\n  \\n فرع الرياض أبل بيز لا بأس به</td>\n",
              "      <td>Negative</td>\n",
              "      <td>صحح جده فرع فضل شهد قرب فرع ريض افه زيد عدي ويم جلس ريح متع ديكور ريع عجب فرع قبل جرر دركرز نحي هدء سبع كلت قطر زيت اجد امر قرف فرع ريض ابل بيز باس</td>\n",
              "    </tr>\n",
              "    <tr>\n",
              "      <th>8311</th>\n",
              "      <td>سبايس في نظري من أسواء المطاعم الهندية لا من ناحية الأكل ولا من ناحية الخدمة ولا من ناحية النظافة و سبق بلغت عليه الأمانات وجدنا شعر بالآكل و الهندي يقول عادي شعرهـ وحده !! و من زين الترقيع جاب لنا شيف أقرع يقول كيف يجي شعر بالأكل !! مشكلة اللي ما يعترف بغلطته \\n  \\n فيه اللي أفضل منه بكثييير ( مكاني ) جودة الآكل طيبة لكن الخدمه لك عليها و النظافة ماشفنا شي بأكله لكن الطاولات توحي لك انه مستهلك \\n  \\n فيه برضوا ( الريف الهندي ) الأكل جودته ممتازة و الخدمة والنظافة ع أحسن ما يكون بس اسعارهم غويليه شويات مقارنه بمكاني وما شابهه</td>\n",
              "      <td>Negative</td>\n",
              "      <td>بيس نظر سوء هند نحي اكل نحي خدم نحي نظف سبق بلغ امن وجد شعر اكل هند يقل عدي شعر وحد زين رقع جاب شيف قرع يقل يجي شعر اكل شكل عرف غلط فضل كثر مكا جود اكل طيب خدم نظف اشف بكل طول توح هلك برض ريف هند اكل جود تزه خدم نظف احس سعر غول شوي قرن بمك شبه</td>\n",
              "    </tr>\n",
              "    <tr>\n",
              "      <th>1591</th>\n",
              "      <td>مطعم رائع واسعار مناسبة مذاق طيب مكان حلو \\n شكرا جزيلا</td>\n",
              "      <td>Positive</td>\n",
              "      <td>ريع سعر نسب ذاق طيب كان حلو شكر جزل</td>\n",
              "    </tr>\n",
              "    <tr>\n",
              "      <th>10194</th>\n",
              "      <td>بااااايخ مرره صحيح شكله حلوو \\n بس ذقت الباستا وعع الله يكرم النعمه بس ):</td>\n",
              "      <td>Negative</td>\n",
              "      <td>بيخ صحح شكل حلو ذقت بست وع اله كرم نعم</td>\n",
              "    </tr>\n",
              "    <tr>\n",
              "      <th>101</th>\n",
              "      <td>ممتاز \\nبيتزا الإيطالي العظيم.\\nكبيرة في الأسعار.\\nنوعية ممتازة.\\nجيد جدا بيتزا مارجريتا وكرات الأرز.\\nأوصت لأولئك الذين يرغبون في تناول الطعام بشكل جيد وقضاء الحق\\n</td>\n",
              "      <td>Positive</td>\n",
              "      <td>تاز يتز يطل عظم كبر سعر نوع تزه جيد جدا يتز مارجريتا وكر ارز اوص لول رغب نول طعم جيد قضء لحق</td>\n",
              "    </tr>\n",
              "  </tbody>\n",
              "</table>\n",
              "</div>\n",
              "      <button class=\"colab-df-convert\" onclick=\"convertToInteractive('df-272f8cc2-238f-45be-b1e5-fa0213a5aae8')\"\n",
              "              title=\"Convert this dataframe to an interactive table.\"\n",
              "              style=\"display:none;\">\n",
              "        \n",
              "  <svg xmlns=\"http://www.w3.org/2000/svg\" height=\"24px\"viewBox=\"0 0 24 24\"\n",
              "       width=\"24px\">\n",
              "    <path d=\"M0 0h24v24H0V0z\" fill=\"none\"/>\n",
              "    <path d=\"M18.56 5.44l.94 2.06.94-2.06 2.06-.94-2.06-.94-.94-2.06-.94 2.06-2.06.94zm-11 1L8.5 8.5l.94-2.06 2.06-.94-2.06-.94L8.5 2.5l-.94 2.06-2.06.94zm10 10l.94 2.06.94-2.06 2.06-.94-2.06-.94-.94-2.06-.94 2.06-2.06.94z\"/><path d=\"M17.41 7.96l-1.37-1.37c-.4-.4-.92-.59-1.43-.59-.52 0-1.04.2-1.43.59L10.3 9.45l-7.72 7.72c-.78.78-.78 2.05 0 2.83L4 21.41c.39.39.9.59 1.41.59.51 0 1.02-.2 1.41-.59l7.78-7.78 2.81-2.81c.8-.78.8-2.07 0-2.86zM5.41 20L4 18.59l7.72-7.72 1.47 1.35L5.41 20z\"/>\n",
              "  </svg>\n",
              "      </button>\n",
              "      \n",
              "  <style>\n",
              "    .colab-df-container {\n",
              "      display:flex;\n",
              "      flex-wrap:wrap;\n",
              "      gap: 12px;\n",
              "    }\n",
              "\n",
              "    .colab-df-convert {\n",
              "      background-color: #E8F0FE;\n",
              "      border: none;\n",
              "      border-radius: 50%;\n",
              "      cursor: pointer;\n",
              "      display: none;\n",
              "      fill: #1967D2;\n",
              "      height: 32px;\n",
              "      padding: 0 0 0 0;\n",
              "      width: 32px;\n",
              "    }\n",
              "\n",
              "    .colab-df-convert:hover {\n",
              "      background-color: #E2EBFA;\n",
              "      box-shadow: 0px 1px 2px rgba(60, 64, 67, 0.3), 0px 1px 3px 1px rgba(60, 64, 67, 0.15);\n",
              "      fill: #174EA6;\n",
              "    }\n",
              "\n",
              "    [theme=dark] .colab-df-convert {\n",
              "      background-color: #3B4455;\n",
              "      fill: #D2E3FC;\n",
              "    }\n",
              "\n",
              "    [theme=dark] .colab-df-convert:hover {\n",
              "      background-color: #434B5C;\n",
              "      box-shadow: 0px 1px 3px 1px rgba(0, 0, 0, 0.15);\n",
              "      filter: drop-shadow(0px 1px 2px rgba(0, 0, 0, 0.3));\n",
              "      fill: #FFFFFF;\n",
              "    }\n",
              "  </style>\n",
              "\n",
              "      <script>\n",
              "        const buttonEl =\n",
              "          document.querySelector('#df-272f8cc2-238f-45be-b1e5-fa0213a5aae8 button.colab-df-convert');\n",
              "        buttonEl.style.display =\n",
              "          google.colab.kernel.accessAllowed ? 'block' : 'none';\n",
              "\n",
              "        async function convertToInteractive(key) {\n",
              "          const element = document.querySelector('#df-272f8cc2-238f-45be-b1e5-fa0213a5aae8');\n",
              "          const dataTable =\n",
              "            await google.colab.kernel.invokeFunction('convertToInteractive',\n",
              "                                                     [key], {});\n",
              "          if (!dataTable) return;\n",
              "\n",
              "          const docLinkHtml = 'Like what you see? Visit the ' +\n",
              "            '<a target=\"_blank\" href=https://colab.research.google.com/notebooks/data_table.ipynb>data table notebook</a>'\n",
              "            + ' to learn more about interactive tables.';\n",
              "          element.innerHTML = '';\n",
              "          dataTable['output_type'] = 'display_data';\n",
              "          await google.colab.output.renderOutput(dataTable, element);\n",
              "          const docLink = document.createElement('div');\n",
              "          docLink.innerHTML = docLinkHtml;\n",
              "          element.appendChild(docLink);\n",
              "        }\n",
              "      </script>\n",
              "    </div>\n",
              "  </div>\n",
              "  "
            ]
          },
          "metadata": {},
          "execution_count": 29
        }
      ],
      "source": [
        "# check the new column\n",
        "data_df.sample(10)"
      ]
    },
    {
      "cell_type": "code",
      "execution_count": 30,
      "metadata": {
        "id": "YG58Rt1QoQBn"
      },
      "outputs": [],
      "source": [
        "data_df['text length'] = data_df['Clean Text'].apply(len)"
      ]
    },
    {
      "cell_type": "markdown",
      "metadata": {
        "id": "wyMh1P9doQCF"
      },
      "source": [
        "Understand the data\n"
      ]
    },
    {
      "cell_type": "markdown",
      "metadata": {
        "id": "3BwknlRHpfsF"
      },
      "source": [
        "⭕⭕⭕⭕⭕⭕⭕⭕"
      ]
    },
    {
      "cell_type": "code",
      "execution_count": 31,
      "metadata": {
        "id": "ZSj4GJ9toQCG"
      },
      "outputs": [],
      "source": [
        "tokenizer = RegexpTokenizer(r'\\w+')\n",
        "data_df[\"tokens\"] = data_df[\"Clean Text\"].apply(tokenizer.tokenize) "
      ]
    },
    {
      "cell_type": "code",
      "execution_count": 32,
      "metadata": {
        "colab": {
          "base_uri": "https://localhost:8080/",
          "height": 434
        },
        "id": "SlSjM-8MoQCH",
        "outputId": "bcc943c7-176b-4168-a527-4b088c1fcd27"
      },
      "outputs": [
        {
          "output_type": "execute_result",
          "data": {
            "text/plain": [
              "                                                                                                                                                                                                                                                                                                                                 Text  \\\n",
              "10963  صراحة ما شاء الله اول مره اتعشى منه  امس  كانت المناسبة عزومة للامير بدر بن عبدالمحسن                                                                                                                                                                                                                                            \n",
              "10964  فية انواع رز لذيذة وفية عادي \\n  \\n مندي الدجاج مره ناشف \\n اللحم وسط \\n اسعاره مرتفعة \\n شكل الشواية يشهيك تطلب المحل كله                                                                                                                                                                                                       \n",
              "10965  لا بأس به                                                                                                                                                                                                                                                                                                                        \n",
              "10966  جربته 3 مرات  \\n الاكل ممتاز الكميات وفيرة الخدمة جيدة  \\n نظافة المكان يتم تنظيفه قبل دخول زبائن جديدة  \\n وساكرر الزيارة                                                                                                                                                                                                       \n",
              "10967  \"\"\"السلام عليكم ورحمة الله وبركاته \\n  \\n فرع الملك عبدالعزيز 100% \\n فرع خالد بن الوليد 90 % \\n  \\n هذا تقييمي له .. وهو من أفضل المطاعم اللي أكلت فيها كبسة. \\n أتمنى اللي يعرف مطاعم تطبخ بنفس طريقته يتحفنا فيها\"\"\"\\tPositive                                                                                                \n",
              "10968  والله ياعيال اكلت منه / \\n  \\n 1- همبرجر دجاج وكان جيد جدا .. \\n 2- جربت اللحم ونوعا ما اعجبني .. \\n 3- البطاطس بها نكهه ممتازه جدا .. \\n 4-الاسعار جيده مع ارتفاع .. \\n 5- الخدمه جيده جدا ما تطووول .. \\n 6-الموقع الي جيته  فى طريق الملك عبد الله فى مجمع التميمي الجديد \\n  \\n -- \\n  \\n فمان الكريم \\n Mohammed AL Jeaid   \n",
              "10969  المطعم في تراجع مستمر                                                                                                                                                                                                                                                                                                            \n",
              "\n",
              "       Sentiment  \\\n",
              "10963  Positive    \n",
              "10964  Positive    \n",
              "10965  Neutral     \n",
              "10966  Positive    \n",
              "10967  Positive    \n",
              "10968  Neutral     \n",
              "10969  Negative    \n",
              "\n",
              "                                                                                                                                  Clean Text  \\\n",
              "10963    شاء اله تعش نسب عزم امر بدر عبدالمحسن                                                                                                 \n",
              "10964    فيه واع رز لذذ وفه عدي ندي دجج نشف لحم سعر رفع شكل شيه يشه طلب محل كله                                                                \n",
              "10965    باس                                                                                                                                   \n",
              "10966    جرب رات اكل تاز كمي وفر خدم جيد نظف كان يتم نظف دخل زبا جدد سكر زير                                                                   \n",
              "10967    اله فرع ملك عبدالعزيز 10 فرع خلد ولد 90 تقم فضل اكل كبس اتم عرف طبخ نفس طرق تحف                                                       \n",
              "10968    اكل همبرجر دجج جيد جدا جرب لحم ونع عجب ططس نكه تزه جدا 4الاسعار جيد رفع خدم جيد جدا تطل 6الموقع الي جيت طرق ملك عبد اله جمع تمم جدد   \n",
              "10969    رجع سمر                                                                                                                               \n",
              "\n",
              "       text length  \\\n",
              "10963  39            \n",
              "10964  72            \n",
              "10965  5             \n",
              "10966  69            \n",
              "10967  81            \n",
              "10968  133           \n",
              "10969  9             \n",
              "\n",
              "                                                                                                                                                                   tokens  \n",
              "10963  [شاء, اله, تعش, نسب, عزم, امر, بدر, عبدالمحسن]                                                                                                                      \n",
              "10964  [فيه, واع, رز, لذذ, وفه, عدي, ندي, دجج, نشف, لحم, سعر, رفع, شكل, شيه, يشه, طلب, محل, كله]                                                                           \n",
              "10965  [باس]                                                                                                                                                               \n",
              "10966  [جرب, رات, اكل, تاز, كمي, وفر, خدم, جيد, نظف, كان, يتم, نظف, دخل, زبا, جدد, سكر, زير]                                                                               \n",
              "10967  [اله, فرع, ملك, عبدالعزيز, 10, فرع, خلد, ولد, 90, تقم, فضل, اكل, كبس, اتم, عرف, طبخ, نفس, طرق, تحف]                                                                 \n",
              "10968  [اكل, همبرجر, دجج, جيد, جدا, جرب, لحم, ونع, عجب, ططس, نكه, تزه, جدا, 4الاسعار, جيد, رفع, خدم, جيد, جدا, تطل, 6الموقع, الي, جيت, طرق, ملك, عبد, اله, جمع, تمم, جدد]  \n",
              "10969  [رجع, سمر]                                                                                                                                                          "
            ],
            "text/html": [
              "\n",
              "  <div id=\"df-9fd96ca5-1dfb-4eeb-b6d4-1e59e6c19fb4\">\n",
              "    <div class=\"colab-df-container\">\n",
              "      <div>\n",
              "<style scoped>\n",
              "    .dataframe tbody tr th:only-of-type {\n",
              "        vertical-align: middle;\n",
              "    }\n",
              "\n",
              "    .dataframe tbody tr th {\n",
              "        vertical-align: top;\n",
              "    }\n",
              "\n",
              "    .dataframe thead th {\n",
              "        text-align: right;\n",
              "    }\n",
              "</style>\n",
              "<table border=\"1\" class=\"dataframe\">\n",
              "  <thead>\n",
              "    <tr style=\"text-align: right;\">\n",
              "      <th></th>\n",
              "      <th>Text</th>\n",
              "      <th>Sentiment</th>\n",
              "      <th>Clean Text</th>\n",
              "      <th>text length</th>\n",
              "      <th>tokens</th>\n",
              "    </tr>\n",
              "  </thead>\n",
              "  <tbody>\n",
              "    <tr>\n",
              "      <th>10963</th>\n",
              "      <td>صراحة ما شاء الله اول مره اتعشى منه  امس  كانت المناسبة عزومة للامير بدر بن عبدالمحسن</td>\n",
              "      <td>Positive</td>\n",
              "      <td>شاء اله تعش نسب عزم امر بدر عبدالمحسن</td>\n",
              "      <td>39</td>\n",
              "      <td>[شاء, اله, تعش, نسب, عزم, امر, بدر, عبدالمحسن]</td>\n",
              "    </tr>\n",
              "    <tr>\n",
              "      <th>10964</th>\n",
              "      <td>فية انواع رز لذيذة وفية عادي \\n  \\n مندي الدجاج مره ناشف \\n اللحم وسط \\n اسعاره مرتفعة \\n شكل الشواية يشهيك تطلب المحل كله</td>\n",
              "      <td>Positive</td>\n",
              "      <td>فيه واع رز لذذ وفه عدي ندي دجج نشف لحم سعر رفع شكل شيه يشه طلب محل كله</td>\n",
              "      <td>72</td>\n",
              "      <td>[فيه, واع, رز, لذذ, وفه, عدي, ندي, دجج, نشف, لحم, سعر, رفع, شكل, شيه, يشه, طلب, محل, كله]</td>\n",
              "    </tr>\n",
              "    <tr>\n",
              "      <th>10965</th>\n",
              "      <td>لا بأس به</td>\n",
              "      <td>Neutral</td>\n",
              "      <td>باس</td>\n",
              "      <td>5</td>\n",
              "      <td>[باس]</td>\n",
              "    </tr>\n",
              "    <tr>\n",
              "      <th>10966</th>\n",
              "      <td>جربته 3 مرات  \\n الاكل ممتاز الكميات وفيرة الخدمة جيدة  \\n نظافة المكان يتم تنظيفه قبل دخول زبائن جديدة  \\n وساكرر الزيارة</td>\n",
              "      <td>Positive</td>\n",
              "      <td>جرب رات اكل تاز كمي وفر خدم جيد نظف كان يتم نظف دخل زبا جدد سكر زير</td>\n",
              "      <td>69</td>\n",
              "      <td>[جرب, رات, اكل, تاز, كمي, وفر, خدم, جيد, نظف, كان, يتم, نظف, دخل, زبا, جدد, سكر, زير]</td>\n",
              "    </tr>\n",
              "    <tr>\n",
              "      <th>10967</th>\n",
              "      <td>\"\"\"السلام عليكم ورحمة الله وبركاته \\n  \\n فرع الملك عبدالعزيز 100% \\n فرع خالد بن الوليد 90 % \\n  \\n هذا تقييمي له .. وهو من أفضل المطاعم اللي أكلت فيها كبسة. \\n أتمنى اللي يعرف مطاعم تطبخ بنفس طريقته يتحفنا فيها\"\"\"\\tPositive</td>\n",
              "      <td>Positive</td>\n",
              "      <td>اله فرع ملك عبدالعزيز 10 فرع خلد ولد 90 تقم فضل اكل كبس اتم عرف طبخ نفس طرق تحف</td>\n",
              "      <td>81</td>\n",
              "      <td>[اله, فرع, ملك, عبدالعزيز, 10, فرع, خلد, ولد, 90, تقم, فضل, اكل, كبس, اتم, عرف, طبخ, نفس, طرق, تحف]</td>\n",
              "    </tr>\n",
              "    <tr>\n",
              "      <th>10968</th>\n",
              "      <td>والله ياعيال اكلت منه / \\n  \\n 1- همبرجر دجاج وكان جيد جدا .. \\n 2- جربت اللحم ونوعا ما اعجبني .. \\n 3- البطاطس بها نكهه ممتازه جدا .. \\n 4-الاسعار جيده مع ارتفاع .. \\n 5- الخدمه جيده جدا ما تطووول .. \\n 6-الموقع الي جيته  فى طريق الملك عبد الله فى مجمع التميمي الجديد \\n  \\n -- \\n  \\n فمان الكريم \\n Mohammed AL Jeaid</td>\n",
              "      <td>Neutral</td>\n",
              "      <td>اكل همبرجر دجج جيد جدا جرب لحم ونع عجب ططس نكه تزه جدا 4الاسعار جيد رفع خدم جيد جدا تطل 6الموقع الي جيت طرق ملك عبد اله جمع تمم جدد</td>\n",
              "      <td>133</td>\n",
              "      <td>[اكل, همبرجر, دجج, جيد, جدا, جرب, لحم, ونع, عجب, ططس, نكه, تزه, جدا, 4الاسعار, جيد, رفع, خدم, جيد, جدا, تطل, 6الموقع, الي, جيت, طرق, ملك, عبد, اله, جمع, تمم, جدد]</td>\n",
              "    </tr>\n",
              "    <tr>\n",
              "      <th>10969</th>\n",
              "      <td>المطعم في تراجع مستمر</td>\n",
              "      <td>Negative</td>\n",
              "      <td>رجع سمر</td>\n",
              "      <td>9</td>\n",
              "      <td>[رجع, سمر]</td>\n",
              "    </tr>\n",
              "  </tbody>\n",
              "</table>\n",
              "</div>\n",
              "      <button class=\"colab-df-convert\" onclick=\"convertToInteractive('df-9fd96ca5-1dfb-4eeb-b6d4-1e59e6c19fb4')\"\n",
              "              title=\"Convert this dataframe to an interactive table.\"\n",
              "              style=\"display:none;\">\n",
              "        \n",
              "  <svg xmlns=\"http://www.w3.org/2000/svg\" height=\"24px\"viewBox=\"0 0 24 24\"\n",
              "       width=\"24px\">\n",
              "    <path d=\"M0 0h24v24H0V0z\" fill=\"none\"/>\n",
              "    <path d=\"M18.56 5.44l.94 2.06.94-2.06 2.06-.94-2.06-.94-.94-2.06-.94 2.06-2.06.94zm-11 1L8.5 8.5l.94-2.06 2.06-.94-2.06-.94L8.5 2.5l-.94 2.06-2.06.94zm10 10l.94 2.06.94-2.06 2.06-.94-2.06-.94-.94-2.06-.94 2.06-2.06.94z\"/><path d=\"M17.41 7.96l-1.37-1.37c-.4-.4-.92-.59-1.43-.59-.52 0-1.04.2-1.43.59L10.3 9.45l-7.72 7.72c-.78.78-.78 2.05 0 2.83L4 21.41c.39.39.9.59 1.41.59.51 0 1.02-.2 1.41-.59l7.78-7.78 2.81-2.81c.8-.78.8-2.07 0-2.86zM5.41 20L4 18.59l7.72-7.72 1.47 1.35L5.41 20z\"/>\n",
              "  </svg>\n",
              "      </button>\n",
              "      \n",
              "  <style>\n",
              "    .colab-df-container {\n",
              "      display:flex;\n",
              "      flex-wrap:wrap;\n",
              "      gap: 12px;\n",
              "    }\n",
              "\n",
              "    .colab-df-convert {\n",
              "      background-color: #E8F0FE;\n",
              "      border: none;\n",
              "      border-radius: 50%;\n",
              "      cursor: pointer;\n",
              "      display: none;\n",
              "      fill: #1967D2;\n",
              "      height: 32px;\n",
              "      padding: 0 0 0 0;\n",
              "      width: 32px;\n",
              "    }\n",
              "\n",
              "    .colab-df-convert:hover {\n",
              "      background-color: #E2EBFA;\n",
              "      box-shadow: 0px 1px 2px rgba(60, 64, 67, 0.3), 0px 1px 3px 1px rgba(60, 64, 67, 0.15);\n",
              "      fill: #174EA6;\n",
              "    }\n",
              "\n",
              "    [theme=dark] .colab-df-convert {\n",
              "      background-color: #3B4455;\n",
              "      fill: #D2E3FC;\n",
              "    }\n",
              "\n",
              "    [theme=dark] .colab-df-convert:hover {\n",
              "      background-color: #434B5C;\n",
              "      box-shadow: 0px 1px 3px 1px rgba(0, 0, 0, 0.15);\n",
              "      filter: drop-shadow(0px 1px 2px rgba(0, 0, 0, 0.3));\n",
              "      fill: #FFFFFF;\n",
              "    }\n",
              "  </style>\n",
              "\n",
              "      <script>\n",
              "        const buttonEl =\n",
              "          document.querySelector('#df-9fd96ca5-1dfb-4eeb-b6d4-1e59e6c19fb4 button.colab-df-convert');\n",
              "        buttonEl.style.display =\n",
              "          google.colab.kernel.accessAllowed ? 'block' : 'none';\n",
              "\n",
              "        async function convertToInteractive(key) {\n",
              "          const element = document.querySelector('#df-9fd96ca5-1dfb-4eeb-b6d4-1e59e6c19fb4');\n",
              "          const dataTable =\n",
              "            await google.colab.kernel.invokeFunction('convertToInteractive',\n",
              "                                                     [key], {});\n",
              "          if (!dataTable) return;\n",
              "\n",
              "          const docLinkHtml = 'Like what you see? Visit the ' +\n",
              "            '<a target=\"_blank\" href=https://colab.research.google.com/notebooks/data_table.ipynb>data table notebook</a>'\n",
              "            + ' to learn more about interactive tables.';\n",
              "          element.innerHTML = '';\n",
              "          dataTable['output_type'] = 'display_data';\n",
              "          await google.colab.output.renderOutput(dataTable, element);\n",
              "          const docLink = document.createElement('div');\n",
              "          docLink.innerHTML = docLinkHtml;\n",
              "          element.appendChild(docLink);\n",
              "        }\n",
              "      </script>\n",
              "    </div>\n",
              "  </div>\n",
              "  "
            ]
          },
          "metadata": {},
          "execution_count": 32
        }
      ],
      "source": [
        "data_df.tail(7)"
      ]
    },
    {
      "cell_type": "markdown",
      "metadata": {
        "id": "i978MWumt4R0"
      },
      "source": [
        "# **Creating the dataframes**"
      ]
    },
    {
      "cell_type": "code",
      "execution_count": 33,
      "metadata": {
        "id": "euz0kE5Yt_KW"
      },
      "outputs": [],
      "source": [
        "from pandas.core.arrays.categorical import contains\n",
        "\n",
        "\n",
        "#filter sub dataframe from data_df dataframe\n",
        "\n",
        "data_df1=data_df[data_df['Clean Text'].str.contains('نظف')]\n",
        "\n",
        "data_df2=data_df[data_df['Clean Text'].str.contains('نظم')]\n",
        "\n",
        "data_df3=data_df[data_df['Clean Text'].str.contains('رتب')]\n",
        "\n",
        "data_df4=data_df[data_df['Clean Text'].str.contains('وسخ')]\n",
        "\n",
        "#concat the dataframes into a single dataframe clean_df\n",
        "frames = [data_df1,data_df2,data_df3,data_df4]\n",
        "\n",
        "clean_df = pd.concat(frames)"
      ]
    },
    {
      "cell_type": "code",
      "execution_count": 34,
      "metadata": {
        "colab": {
          "base_uri": "https://localhost:8080/",
          "height": 1000
        },
        "id": "ztvvCHiauF9Q",
        "outputId": "7c504f1a-532e-4e25-b9e8-2fc5d07cf36c"
      },
      "outputs": [
        {
          "output_type": "execute_result",
          "data": {
            "text/plain": [
              "                                                                                                                                                                                                                                                                                                                                                                                                                                                            Text  \\\n",
              "14  مطعم متوسط \\nمأكولات هندية والاكل تقريبا جميعه غير طازج ... غير ان المكان نظيف ... وشوربة العدس لذيذه ... اللحوم والاسماك والدجاج كله مجمد ولا طعم له\\n                                                                                                                                                                                                                                                                                                        \n",
              "15  مطعم عادي جدا \\nمطعم عادي ومستواه متوسط ... يقدم الاسماك بطريقتين احدهما الشوي على الفحم بدون بهارات والاخرى طاجن في الفرن ببهارات خفيفة ... لم تعجبني كثيرا طريقة شوي الاسماك حيث لاتوجد خلطة او تتبيلة مميزه خاصة بالمطعم وذات الحال بالنسبه للروبيان والحبار واللوبستر ... مايميزه هو أن الاسماك طازجه فقط ... الخبز لذيذ على الطريقه التركية والمقبلات نوعا ما مقبوله لاكنها ليست بجودة المفبلات اللبنانية ... نظافة المطعم متوسطه والخدمه كذلك متوسطه\\n   \n",
              "16  نكهة الطعام ليست جيدة \\nنكهة الطعام غريبة ، ليست لبنانية ولا سورية ولا فلسطينية . لم يعجبني لانكهة ولارائحة ولا طعم الطعام، غير ذلك الخدمة جيدة والموقع جيد والنظافة جيدة\\n                                                                                                                                                                                                                                                                                    \n",
              "18  عادي \\nخدمه سيئه\\nالاكل عادي والنظافه وسط\\nيتأخر الاكل كثيرا وخصوصا مساء وفي حال تواجد العديد من الزبائن او وقت متاخر\\n                                                                                                                                                                                                                                                                                                                                        \n",
              "22  ٦٠ \\nاللي يوصل ميلان ولا يمر هالمطعم اعتبرة خسران خسران مطعم مرتب اكل نظيف ولذيذ جداً و العاملين محترمين انا صراحة بدون مجاملة اعطي المطعم ٩٩،٩/١٠٠                                                                                                                                                                                                                                                                                                            \n",
              "\n",
              "    Sentiment  \\\n",
              "14  Neutral     \n",
              "15  Neutral     \n",
              "16  Neutral     \n",
              "18  Neutral     \n",
              "22  Positive    \n",
              "\n",
              "                                                                                                                                                                                                         Clean Text  \\\n",
              "14    توسط اكل هند اكل قرب جمع طزج كان نظف شورب عدس لذذ حوم سمك دجج كله جمد طعم                                                                                                                                       \n",
              "15    عدي جدا عدي ستو توسط قدم سمك طرق احد شوي فحم بدن بهر اخر طجن فرن بهر خفف عجب طرق شوي سمك وجد خلط تبل يزه وذت حال نسب لرب حبر ستر مايميز سمك طزج خبز لذذ طرق ركه قبل نوع قبل لكن بجد فبل بنن نظف توسط خدم توسط   \n",
              "16    نكه طعم جيد نكه طعم غرب لبن سور فلسطينيه عجب لنك ولارايحه طعم طعم خدم جيد وقع جيد نظف جيد                                                                                                                       \n",
              "18    عدي خدم سيه اكل عدي نظف تخر اكل خصص حال وجد عدد زبا وقت تخر                                                                                                                                                     \n",
              "22    ٦٠ وصل ميل يمر هالمطعم عبر خسر خسر رتب اكل نظف لذذ جدا عمل حرم بدن جمل اعط ٩١٠                                                                                                                                  \n",
              "\n",
              "    text length  \\\n",
              "14  75            \n",
              "15  207           \n",
              "16  91            \n",
              "18  61            \n",
              "22  80            \n",
              "\n",
              "                                                                                                                                                                                                                                                              tokens  \n",
              "14  [توسط, اكل, هند, اكل, قرب, جمع, طزج, كان, نظف, شورب, عدس, لذذ, حوم, سمك, دجج, كله, جمد, طعم]                                                                                                                                                                      \n",
              "15  [عدي, جدا, عدي, ستو, توسط, قدم, سمك, طرق, احد, شوي, فحم, بدن, بهر, اخر, طجن, فرن, بهر, خفف, عجب, طرق, شوي, سمك, وجد, خلط, تبل, يزه, وذت, حال, نسب, لرب, حبر, ستر, مايميز, سمك, طزج, خبز, لذذ, طرق, ركه, قبل, نوع, قبل, لكن, بجد, فبل, بنن, نظف, توسط, خدم, توسط]  \n",
              "16  [نكه, طعم, جيد, نكه, طعم, غرب, لبن, سور, فلسطينيه, عجب, لنك, ولارايحه, طعم, طعم, خدم, جيد, وقع, جيد, نظف, جيد]                                                                                                                                                    \n",
              "18  [عدي, خدم, سيه, اكل, عدي, نظف, تخر, اكل, خصص, حال, وجد, عدد, زبا, وقت, تخر]                                                                                                                                                                                       \n",
              "22  [٦٠, وصل, ميل, يمر, هالمطعم, عبر, خسر, خسر, رتب, اكل, نظف, لذذ, جدا, عمل, حرم, بدن, جمل, اعط, ٩١٠]                                                                                                                                                                "
            ],
            "text/html": [
              "\n",
              "  <div id=\"df-ce517077-31e8-4af6-aec0-96f284ab734f\">\n",
              "    <div class=\"colab-df-container\">\n",
              "      <div>\n",
              "<style scoped>\n",
              "    .dataframe tbody tr th:only-of-type {\n",
              "        vertical-align: middle;\n",
              "    }\n",
              "\n",
              "    .dataframe tbody tr th {\n",
              "        vertical-align: top;\n",
              "    }\n",
              "\n",
              "    .dataframe thead th {\n",
              "        text-align: right;\n",
              "    }\n",
              "</style>\n",
              "<table border=\"1\" class=\"dataframe\">\n",
              "  <thead>\n",
              "    <tr style=\"text-align: right;\">\n",
              "      <th></th>\n",
              "      <th>Text</th>\n",
              "      <th>Sentiment</th>\n",
              "      <th>Clean Text</th>\n",
              "      <th>text length</th>\n",
              "      <th>tokens</th>\n",
              "    </tr>\n",
              "  </thead>\n",
              "  <tbody>\n",
              "    <tr>\n",
              "      <th>14</th>\n",
              "      <td>مطعم متوسط \\nمأكولات هندية والاكل تقريبا جميعه غير طازج ... غير ان المكان نظيف ... وشوربة العدس لذيذه ... اللحوم والاسماك والدجاج كله مجمد ولا طعم له\\n</td>\n",
              "      <td>Neutral</td>\n",
              "      <td>توسط اكل هند اكل قرب جمع طزج كان نظف شورب عدس لذذ حوم سمك دجج كله جمد طعم</td>\n",
              "      <td>75</td>\n",
              "      <td>[توسط, اكل, هند, اكل, قرب, جمع, طزج, كان, نظف, شورب, عدس, لذذ, حوم, سمك, دجج, كله, جمد, طعم]</td>\n",
              "    </tr>\n",
              "    <tr>\n",
              "      <th>15</th>\n",
              "      <td>مطعم عادي جدا \\nمطعم عادي ومستواه متوسط ... يقدم الاسماك بطريقتين احدهما الشوي على الفحم بدون بهارات والاخرى طاجن في الفرن ببهارات خفيفة ... لم تعجبني كثيرا طريقة شوي الاسماك حيث لاتوجد خلطة او تتبيلة مميزه خاصة بالمطعم وذات الحال بالنسبه للروبيان والحبار واللوبستر ... مايميزه هو أن الاسماك طازجه فقط ... الخبز لذيذ على الطريقه التركية والمقبلات نوعا ما مقبوله لاكنها ليست بجودة المفبلات اللبنانية ... نظافة المطعم متوسطه والخدمه كذلك متوسطه\\n</td>\n",
              "      <td>Neutral</td>\n",
              "      <td>عدي جدا عدي ستو توسط قدم سمك طرق احد شوي فحم بدن بهر اخر طجن فرن بهر خفف عجب طرق شوي سمك وجد خلط تبل يزه وذت حال نسب لرب حبر ستر مايميز سمك طزج خبز لذذ طرق ركه قبل نوع قبل لكن بجد فبل بنن نظف توسط خدم توسط</td>\n",
              "      <td>207</td>\n",
              "      <td>[عدي, جدا, عدي, ستو, توسط, قدم, سمك, طرق, احد, شوي, فحم, بدن, بهر, اخر, طجن, فرن, بهر, خفف, عجب, طرق, شوي, سمك, وجد, خلط, تبل, يزه, وذت, حال, نسب, لرب, حبر, ستر, مايميز, سمك, طزج, خبز, لذذ, طرق, ركه, قبل, نوع, قبل, لكن, بجد, فبل, بنن, نظف, توسط, خدم, توسط]</td>\n",
              "    </tr>\n",
              "    <tr>\n",
              "      <th>16</th>\n",
              "      <td>نكهة الطعام ليست جيدة \\nنكهة الطعام غريبة ، ليست لبنانية ولا سورية ولا فلسطينية . لم يعجبني لانكهة ولارائحة ولا طعم الطعام، غير ذلك الخدمة جيدة والموقع جيد والنظافة جيدة\\n</td>\n",
              "      <td>Neutral</td>\n",
              "      <td>نكه طعم جيد نكه طعم غرب لبن سور فلسطينيه عجب لنك ولارايحه طعم طعم خدم جيد وقع جيد نظف جيد</td>\n",
              "      <td>91</td>\n",
              "      <td>[نكه, طعم, جيد, نكه, طعم, غرب, لبن, سور, فلسطينيه, عجب, لنك, ولارايحه, طعم, طعم, خدم, جيد, وقع, جيد, نظف, جيد]</td>\n",
              "    </tr>\n",
              "    <tr>\n",
              "      <th>18</th>\n",
              "      <td>عادي \\nخدمه سيئه\\nالاكل عادي والنظافه وسط\\nيتأخر الاكل كثيرا وخصوصا مساء وفي حال تواجد العديد من الزبائن او وقت متاخر\\n</td>\n",
              "      <td>Neutral</td>\n",
              "      <td>عدي خدم سيه اكل عدي نظف تخر اكل خصص حال وجد عدد زبا وقت تخر</td>\n",
              "      <td>61</td>\n",
              "      <td>[عدي, خدم, سيه, اكل, عدي, نظف, تخر, اكل, خصص, حال, وجد, عدد, زبا, وقت, تخر]</td>\n",
              "    </tr>\n",
              "    <tr>\n",
              "      <th>22</th>\n",
              "      <td>٦٠ \\nاللي يوصل ميلان ولا يمر هالمطعم اعتبرة خسران خسران مطعم مرتب اكل نظيف ولذيذ جداً و العاملين محترمين انا صراحة بدون مجاملة اعطي المطعم ٩٩،٩/١٠٠</td>\n",
              "      <td>Positive</td>\n",
              "      <td>٦٠ وصل ميل يمر هالمطعم عبر خسر خسر رتب اكل نظف لذذ جدا عمل حرم بدن جمل اعط ٩١٠</td>\n",
              "      <td>80</td>\n",
              "      <td>[٦٠, وصل, ميل, يمر, هالمطعم, عبر, خسر, خسر, رتب, اكل, نظف, لذذ, جدا, عمل, حرم, بدن, جمل, اعط, ٩١٠]</td>\n",
              "    </tr>\n",
              "  </tbody>\n",
              "</table>\n",
              "</div>\n",
              "      <button class=\"colab-df-convert\" onclick=\"convertToInteractive('df-ce517077-31e8-4af6-aec0-96f284ab734f')\"\n",
              "              title=\"Convert this dataframe to an interactive table.\"\n",
              "              style=\"display:none;\">\n",
              "        \n",
              "  <svg xmlns=\"http://www.w3.org/2000/svg\" height=\"24px\"viewBox=\"0 0 24 24\"\n",
              "       width=\"24px\">\n",
              "    <path d=\"M0 0h24v24H0V0z\" fill=\"none\"/>\n",
              "    <path d=\"M18.56 5.44l.94 2.06.94-2.06 2.06-.94-2.06-.94-.94-2.06-.94 2.06-2.06.94zm-11 1L8.5 8.5l.94-2.06 2.06-.94-2.06-.94L8.5 2.5l-.94 2.06-2.06.94zm10 10l.94 2.06.94-2.06 2.06-.94-2.06-.94-.94-2.06-.94 2.06-2.06.94z\"/><path d=\"M17.41 7.96l-1.37-1.37c-.4-.4-.92-.59-1.43-.59-.52 0-1.04.2-1.43.59L10.3 9.45l-7.72 7.72c-.78.78-.78 2.05 0 2.83L4 21.41c.39.39.9.59 1.41.59.51 0 1.02-.2 1.41-.59l7.78-7.78 2.81-2.81c.8-.78.8-2.07 0-2.86zM5.41 20L4 18.59l7.72-7.72 1.47 1.35L5.41 20z\"/>\n",
              "  </svg>\n",
              "      </button>\n",
              "      \n",
              "  <style>\n",
              "    .colab-df-container {\n",
              "      display:flex;\n",
              "      flex-wrap:wrap;\n",
              "      gap: 12px;\n",
              "    }\n",
              "\n",
              "    .colab-df-convert {\n",
              "      background-color: #E8F0FE;\n",
              "      border: none;\n",
              "      border-radius: 50%;\n",
              "      cursor: pointer;\n",
              "      display: none;\n",
              "      fill: #1967D2;\n",
              "      height: 32px;\n",
              "      padding: 0 0 0 0;\n",
              "      width: 32px;\n",
              "    }\n",
              "\n",
              "    .colab-df-convert:hover {\n",
              "      background-color: #E2EBFA;\n",
              "      box-shadow: 0px 1px 2px rgba(60, 64, 67, 0.3), 0px 1px 3px 1px rgba(60, 64, 67, 0.15);\n",
              "      fill: #174EA6;\n",
              "    }\n",
              "\n",
              "    [theme=dark] .colab-df-convert {\n",
              "      background-color: #3B4455;\n",
              "      fill: #D2E3FC;\n",
              "    }\n",
              "\n",
              "    [theme=dark] .colab-df-convert:hover {\n",
              "      background-color: #434B5C;\n",
              "      box-shadow: 0px 1px 3px 1px rgba(0, 0, 0, 0.15);\n",
              "      filter: drop-shadow(0px 1px 2px rgba(0, 0, 0, 0.3));\n",
              "      fill: #FFFFFF;\n",
              "    }\n",
              "  </style>\n",
              "\n",
              "      <script>\n",
              "        const buttonEl =\n",
              "          document.querySelector('#df-ce517077-31e8-4af6-aec0-96f284ab734f button.colab-df-convert');\n",
              "        buttonEl.style.display =\n",
              "          google.colab.kernel.accessAllowed ? 'block' : 'none';\n",
              "\n",
              "        async function convertToInteractive(key) {\n",
              "          const element = document.querySelector('#df-ce517077-31e8-4af6-aec0-96f284ab734f');\n",
              "          const dataTable =\n",
              "            await google.colab.kernel.invokeFunction('convertToInteractive',\n",
              "                                                     [key], {});\n",
              "          if (!dataTable) return;\n",
              "\n",
              "          const docLinkHtml = 'Like what you see? Visit the ' +\n",
              "            '<a target=\"_blank\" href=https://colab.research.google.com/notebooks/data_table.ipynb>data table notebook</a>'\n",
              "            + ' to learn more about interactive tables.';\n",
              "          element.innerHTML = '';\n",
              "          dataTable['output_type'] = 'display_data';\n",
              "          await google.colab.output.renderOutput(dataTable, element);\n",
              "          const docLink = document.createElement('div');\n",
              "          docLink.innerHTML = docLinkHtml;\n",
              "          element.appendChild(docLink);\n",
              "        }\n",
              "      </script>\n",
              "    </div>\n",
              "  </div>\n",
              "  "
            ]
          },
          "metadata": {},
          "execution_count": 34
        }
      ],
      "source": [
        "#checking the df values after concat them\n",
        "clean_df.head()"
      ]
    },
    {
      "cell_type": "code",
      "execution_count": 35,
      "metadata": {
        "colab": {
          "base_uri": "https://localhost:8080/"
        },
        "id": "xdB8DuHGuMK6",
        "outputId": "6aa65c68-71c2-4f81-c59d-acdadc4bac62"
      },
      "outputs": [
        {
          "output_type": "execute_result",
          "data": {
            "text/plain": [
              "1810"
            ]
          },
          "metadata": {},
          "execution_count": 35
        }
      ],
      "source": [
        "len(clean_df)"
      ]
    },
    {
      "cell_type": "markdown",
      "source": [
        "# visualization:Customers opinion sentiment"
      ],
      "metadata": {
        "id": "sT51BBCYdZj9"
      }
    },
    {
      "cell_type": "code",
      "execution_count": 36,
      "metadata": {
        "id": "du0m5c9EvKOv"
      },
      "outputs": [],
      "source": [
        "# count the number of sentiments \n",
        "texts_by_Sentiment_cln = clean_df['Sentiment'].value_counts()"
      ]
    },
    {
      "cell_type": "code",
      "execution_count": 37,
      "metadata": {
        "colab": {
          "base_uri": "https://localhost:8080/",
          "height": 382
        },
        "id": "qB3dv9-0vS2n",
        "outputId": "c7ed2acf-a71a-44e3-c9ca-5b4775173adc"
      },
      "outputs": [
        {
          "output_type": "execute_result",
          "data": {
            "text/plain": [
              "<matplotlib.axes._subplots.AxesSubplot at 0x7fe0fffab7d0>"
            ]
          },
          "metadata": {},
          "execution_count": 37
        },
        {
          "output_type": "display_data",
          "data": {
            "text/plain": [
              "<Figure size 432x288 with 1 Axes>"
            ],
            "image/png": "[encoded data removed]"
          },
          "metadata": {
            "needs_background": "light"
          }
        }
      ],
      "source": [
        "# visualize the results using bar chart\n",
        "fig, ax = plt.subplots()\n",
        "\n",
        "ax.tick_params(axis='x', labelsize=15)\n",
        "ax.tick_params(axis='y', labelsize=10)\n",
        "\n",
        "ax.set_xlabel('Sentiment', fontsize=15)\n",
        "ax.set_ylabel('Number of reviews' , fontsize=15)\n",
        "ax.set_title('Customers Opinion Of The Cleanliness Of Restaurants', fontsize=15, fontweight='bold')\n",
        "\n",
        "texts_by_Sentiment_cln[:4].plot(ax=ax, kind='bar')"
      ]
    },
    {
      "cell_type": "code",
      "execution_count": 38,
      "metadata": {
        "colab": {
          "base_uri": "https://localhost:8080/",
          "height": 466
        },
        "id": "x2yYLpz_vgMJ",
        "outputId": "fd67d1d2-7a06-46fe-9883-cd49c76f0365"
      },
      "outputs": [
        {
          "output_type": "display_data",
          "data": {
            "text/plain": [
              "<Figure size 648x576 with 1 Axes>"
            ],
            "image/png": "[encoded data removed]"
          },
          "metadata": {}
        }
      ],
      "source": [
        "\n",
        "#visualize the results using Pie Chart\n",
        "\n",
        "plt.figure(figsize=[9,8]);\n",
        "Labels=['Positive','Negative','Neutral','Irrelevant']\n",
        "plt.pie(texts_by_Sentiment_cln,labels=Labels,autopct='%1.2f%%',textprops={'fontsize':15,'weight':'bold'})\n",
        "plt.show()"
      ]
    },
    {
      "cell_type": "markdown",
      "metadata": {
        "id": "TGfgTl2aZrcy"
      },
      "source": [
        "# visualization:Most positive words"
      ]
    },
    {
      "cell_type": "code",
      "execution_count": 39,
      "metadata": {
        "id": "-7rPYiewakOZ"
      },
      "outputs": [],
      "source": [
        "# change values to numeric\n",
        "data_df['Sentiment'] = data_df['Sentiment'].map({'Positive ': 0, 'Negative ': 1}) "
      ]
    },
    {
      "cell_type": "code",
      "execution_count": 40,
      "metadata": {
        "colab": {
          "base_uri": "https://localhost:8080/"
        },
        "id": "SUq7TyAelDSq",
        "outputId": "90df40a2-bba9-4300-f7a5-6f5bf1c8e6d1"
      },
      "outputs": [
        {
          "output_type": "execute_result",
          "data": {
            "text/plain": [
              "[('جدا', 3241),\n",
              " ('اكل', 2903),\n",
              " ('طعم', 2749),\n",
              " ('ريع', 2228),\n",
              " ('سعر', 2222),\n",
              " ('لذذ', 2067),\n",
              " ('خدم', 1887),\n",
              " ('جرب', 1746),\n",
              " ('فضل', 1676),\n",
              " ('طلب', 1462),\n",
              " ('كان', 1447),\n",
              " ('جمل', 1376),\n",
              " ('جيد', 1337),\n",
              " ('تاز', 1250),\n",
              " ('قدم', 1249)]"
            ]
          },
          "metadata": {},
          "execution_count": 40
        }
      ],
      "source": [
        "positive_df= data_df[data_df['Sentiment']==0]\n",
        "\n",
        "words_count=Counter(\" \".join(positive_df['Clean Text']).split())\n",
        "words_count.most_common(15)"
      ]
    },
    {
      "cell_type": "code",
      "execution_count": 41,
      "metadata": {
        "id": "hL7zvWuElGu4"
      },
      "outputs": [],
      "source": [
        "#stop words\n",
        "#ar_stops = set(stopwords.words('arabic'))\n",
        "ignore = {\"عدي\",\"سيء\",\"طول\",\"قبل\",\"ريح\",\"سيه\",\"برد\",\"بعد\",\"عند\" ,\"ابد\",\"نظر\",\"كنت\",\"رجر\",\"وحد\",\"علي\",\"يتز\",\"اقل\",\"طبع\",\"كان\",\"اني\",\"مو\",\"شوي\",\"غلي\",\"زير\",\"نسب\",\"جدا\",\"طلب\",\"نسب\"}\n",
        "for word in ignore:\n",
        "  if word in words_count:\n",
        "    del words_count[word]"
      ]
    },
    {
      "cell_type": "code",
      "execution_count": 42,
      "metadata": {
        "colab": {
          "base_uri": "https://localhost:8080/"
        },
        "id": "lcsM2vkvlHjQ",
        "outputId": "81123fbf-2440-4ca2-8053-7be50cb9a2d6"
      },
      "outputs": [
        {
          "output_type": "execute_result",
          "data": {
            "text/plain": [
              "[('اكل', 2903),\n",
              " ('طعم', 2749),\n",
              " ('ريع', 2228),\n",
              " ('سعر', 2222),\n",
              " ('لذذ', 2067),\n",
              " ('خدم', 1887),\n",
              " ('جرب', 1746),\n",
              " ('فضل', 1676),\n",
              " ('جمل', 1376),\n",
              " ('جيد', 1337),\n",
              " ('تاز', 1250),\n",
              " ('قدم', 1249),\n",
              " ('طبق', 1205),\n",
              " ('نظف', 1139),\n",
              " ('وجب', 1098)]"
            ]
          },
          "metadata": {},
          "execution_count": 42
        }
      ],
      "source": [
        "words_count.most_common(15)"
      ]
    },
    {
      "cell_type": "code",
      "execution_count": 43,
      "metadata": {
        "colab": {
          "base_uri": "https://localhost:8080/",
          "height": 54
        },
        "id": "qUXUAog4lJxU",
        "outputId": "04998d50-0a1f-4049-da99-4fae15b73816"
      },
      "outputs": [
        {
          "output_type": "display_data",
          "data": {
            "text/plain": [
              "<Figure size 432x288 with 1 Axes>"
            ],
            "image/png": "[encoded data removed]"
          },
          "metadata": {
            "needs_background": "light"
          }
        }
      ],
      "source": [
        "from matplotlib import colorbar\n",
        "import numpy as np\n",
        "import matplotlib.pyplot as plt\n",
        "import arabic_reshaper\n",
        "from bidi.algorithm import get_display\n",
        "\n",
        "common_positive_words =  words_count.most_common(15)\n",
        "\n",
        "words, counts = zip(*common_positive_words)  \n",
        "index = np.arange(len(common_positive_words))  \n",
        "\n",
        "words = list(words) # convert to a mutable list\n",
        "\n",
        "for i in range(len(words)):\n",
        "    words[i] = get_display(arabic_reshaper.reshape(words[i]))\n",
        "\n",
        "fig, ax = plt.subplots()\n",
        "\n",
        "\n",
        "ax.tick_params(axis='x',labelsize=10)\n",
        "ax.tick_params(axis='y',labelsize=10)\n",
        "ax.set_xlabel('index',fontsize=16,color='gray',fontweight='bold')\n",
        "ax.set_ylabel('counts',fontsize=16, color='gray',fontweight='bold')\n",
        "\n",
        "color=['gray']\n",
        "\n",
        "\n",
        "ax.set_ylabel('Counts')\n",
        "ax.set_xlabel('positive Words')\n",
        "ax.set_xticks(index+0.4/8.)\n",
        "ax.set_xticklabels(words)\n",
        "ax.set_title(\"Most common positive words\",fontsize=16,fontweight='bold', color='gray')\n",
        "\n",
        "bar = ax.bar(index, counts, 0.4,color=color)\n",
        "\n",
        "plt.show()\n",
        "\n",
        "\n"
      ]
    },
    {
      "cell_type": "markdown",
      "metadata": {
        "id": "uc-PjFc8ZuvQ"
      },
      "source": [
        "# visualization:Most negative words"
      ]
    },
    {
      "cell_type": "code",
      "execution_count": 44,
      "metadata": {
        "colab": {
          "base_uri": "https://localhost:8080/"
        },
        "id": "1mOCUam4nV8h",
        "outputId": "08fff20e-e130-43d4-b7e5-c665f96e499d"
      },
      "outputs": [
        {
          "output_type": "execute_result",
          "data": {
            "text/plain": [
              "[('اكل', 1230),\n",
              " ('جدا', 1172),\n",
              " ('طعم', 1095),\n",
              " ('طلب', 991),\n",
              " ('سعر', 885),\n",
              " ('خدم', 638),\n",
              " ('جرب', 620),\n",
              " ('عمل', 490),\n",
              " ('فرع', 482),\n",
              " ('دجج', 451),\n",
              " ('عدي', 444),\n",
              " ('جيد', 421),\n",
              " ('وجب', 408),\n",
              " ('فضل', 398),\n",
              " ('قدم', 385)]"
            ]
          },
          "metadata": {},
          "execution_count": 44
        }
      ],
      "source": [
        "neagtive_df= data_df[data_df['Sentiment']==1]\n",
        "\n",
        "words_count=Counter(\" \".join(neagtive_df['Clean Text']).split())\n",
        "words_count.most_common(15)"
      ]
    },
    {
      "cell_type": "code",
      "execution_count": 45,
      "metadata": {
        "id": "2r6dce1unZn0"
      },
      "outputs": [],
      "source": [
        "#stop words\n",
        "#ar_stops = set(stopwords.words('arabic'))\n",
        "ignore = {\"لذذ\",\"مره\",\"اخر\",\"جلس\",\"كان\",\"وجد\",\"قدم\",\"لسف\",\"دجج\",\"عمل\",\"فضل\",\"كثر\",\"نسب\",\"فرع\",\"جرب\",\"طلب\",\"وجب\",\"جدا\",\"دخل\",\"اله\",\"نصح\",\"قبل\",\"الي\",\"وحد\",\"برد\",\"بعد\",\"عجب\",\"نوع\",\"يتز\",\"عند\",\"ابد\",\"نظر\",\"رجر\",\"جود\",\"كنت\",\"خبز\"}\n",
        "for word in ignore:\n",
        "  if word in words_count:\n",
        "    del words_count[word]\n",
        " "
      ]
    },
    {
      "cell_type": "code",
      "execution_count": 46,
      "metadata": {
        "colab": {
          "base_uri": "https://localhost:8080/"
        },
        "id": "rqMatJxandWI",
        "outputId": "2e3de397-a09c-4b30-bad3-07bb26f20add"
      },
      "outputs": [
        {
          "output_type": "execute_result",
          "data": {
            "text/plain": [
              "[('اكل', 1230),\n",
              " ('طعم', 1095),\n",
              " ('سعر', 885),\n",
              " ('خدم', 638),\n",
              " ('عدي', 444),\n",
              " ('جيد', 421),\n",
              " ('نظف', 381),\n",
              " ('طبق', 357),\n",
              " ('طول', 342),\n",
              " ('سيه', 334),\n",
              " ('لحم', 322),\n",
              " ('شكل', 309),\n",
              " ('سيء', 288),\n",
              " ('ريح', 245),\n",
              " ('اقل', 207)]"
            ]
          },
          "metadata": {},
          "execution_count": 46
        }
      ],
      "source": [
        " words_count.most_common(15)"
      ]
    },
    {
      "cell_type": "code",
      "execution_count": 47,
      "metadata": {
        "colab": {
          "base_uri": "https://localhost:8080/",
          "height": 54
        },
        "id": "4bTxUVp-nfeh",
        "outputId": "2b751c89-becb-4a64-f5c1-a7ee684da3b8"
      },
      "outputs": [
        {
          "output_type": "display_data",
          "data": {
            "text/plain": [
              "<Figure size 432x288 with 1 Axes>"
            ],
            "image/png": "[encoded data removed]"
          },
          "metadata": {
            "needs_background": "light"
          }
        }
      ],
      "source": [
        "from matplotlib import colorbar\n",
        "import numpy as np\n",
        "import matplotlib.pyplot as plt\n",
        "import arabic_reshaper\n",
        "from bidi.algorithm import get_display\n",
        "\n",
        "common_negative_words =  words_count.most_common(15)\n",
        "words, counts = zip(*common_negative_words)  \n",
        "index = np.arange(len(common_negative_words))  \n",
        "\n",
        "words = list(words) # convert to a mutable list\n",
        "\n",
        "for i in range(len(words)):\n",
        "    words[i] = get_display(arabic_reshaper.reshape(words[i]))\n",
        "\n",
        "fig, ax = plt.subplots()\n",
        "ax.tick_params(axis='x',labelsize=10)\n",
        "ax.tick_params(axis='y',labelsize=10)\n",
        "ax.set_xlabel('index',fontsize=16,color='gray',fontweight='bold')\n",
        "ax.set_ylabel('counts',fontsize=16, color='gray',fontweight='bold')\n",
        "\n",
        "color=['gray']\n",
        "ax.set_ylabel('Counts')\n",
        "ax.set_xlabel('Negative Words')\n",
        "ax.set_xticks(index+0.4/8.)\n",
        "ax.set_xticklabels(words)\n",
        "ax.set_title(\"Most common Negative words\",fontsize=16,fontweight='bold', color='gray')\n",
        "\n",
        "bar = ax.bar(index, counts, 0.4,color=color)\n",
        "\n",
        "plt.show()"
      ]
    },
    {
      "cell_type": "markdown",
      "metadata": {
        "id": "3fHtFRtuZ6t6"
      },
      "source": [
        "# **Understand the data before and after Preprocessing**"
      ]
    },
    {
      "cell_type": "markdown",
      "metadata": {
        "id": "DO2Zlw8aaWsp"
      },
      "source": [
        "before Preprocessing:"
      ]
    },
    {
      "cell_type": "code",
      "execution_count": 48,
      "metadata": {
        "id": "C8G71qtXaBIF",
        "colab": {
          "base_uri": "https://localhost:8080/"
        },
        "outputId": "461f7574-f160-4e8f-ed36-498748abc279"
      },
      "outputs": [
        {
          "output_type": "stream",
          "name": "stdout",
          "text": [
            "424449 words total, with a vocabulary size of 56010\n",
            "Max sentence length is 787\n"
          ]
        }
      ],
      "source": [
        "# unCleaned tokens\n",
        "tokenizer = RegexpTokenizer(r'\\w+')\n",
        "data_df[\"unCleaned tokens\"] = data_df[\"Text\"].apply(tokenizer.tokenize) \n",
        "\n",
        "unCleaned_all_words = [word for tokens in data_df[\"unCleaned tokens\"] for word in tokens]\n",
        "unCleaned_sentence_lengths = [len(tokens) for tokens in data_df[\"unCleaned tokens\"]]\n",
        "\n",
        "VOCAB = sorted(list(set(unCleaned_all_words)))\n",
        "\n",
        "print(\"%s words total, with a vocabulary size of %s\" % (len(unCleaned_all_words), len(VOCAB)))\n",
        "print(\"Max sentence length is %s\" % max(unCleaned_sentence_lengths))"
      ]
    },
    {
      "cell_type": "code",
      "execution_count": 49,
      "metadata": {
        "id": "hmEMny2FaELW",
        "colab": {
          "base_uri": "https://localhost:8080/"
        },
        "outputId": "f45d2498-ee90-40fd-8cb2-f8e3231ff988"
      },
      "outputs": [
        {
          "output_type": "execute_result",
          "data": {
            "text/plain": [
              "[('من', 9250),\n",
              " ('في', 7163),\n",
              " ('و', 5647),\n",
              " ('المطعم', 4902),\n",
              " ('جدا', 4618),\n",
              " ('على', 3286),\n",
              " ('مطعم', 2963),\n",
              " ('ما', 2917),\n",
              " ('مع', 2237),\n",
              " ('كان', 1950)]"
            ]
          },
          "metadata": {},
          "execution_count": 49
        }
      ],
      "source": [
        "# count the number of unCleaned words\n",
        "unCleaned_word_counter = Counter(unCleaned_all_words)\n",
        "# show the most common unCleaned words\n",
        "unCleaned_word_counter.most_common(10)"
      ]
    },
    {
      "cell_type": "code",
      "execution_count": 50,
      "metadata": {
        "id": "nJa7OYEjaGZp",
        "colab": {
          "base_uri": "https://localhost:8080/"
        },
        "outputId": "acf6f658-6159-43dd-c496-60f63fb83229"
      },
      "outputs": [
        {
          "output_type": "execute_result",
          "data": {
            "text/plain": [
              "[('إزالتها', 1),\n",
              " ('للأيادي', 1),\n",
              " ('استبدلنا', 1),\n",
              " ('نظاقة', 1),\n",
              " ('للامير', 1),\n",
              " ('يشهيك', 1),\n",
              " ('تنظيفه', 1),\n",
              " ('وساكرر', 1),\n",
              " ('يتحفنا', 1),\n",
              " ('Positive', 1)]"
            ]
          },
          "metadata": {},
          "execution_count": 50
        }
      ],
      "source": [
        "# Display 10 least common unCleaned lines\n",
        "unCleaned_word_counter.most_common()[-10:]"
      ]
    },
    {
      "cell_type": "code",
      "execution_count": 51,
      "metadata": {
        "id": "UF37C3z0aJxN",
        "colab": {
          "base_uri": "https://localhost:8080/",
          "height": 288
        },
        "outputId": "b6d11c6e-0b54-40d3-cfb4-4c4648a41d3f"
      },
      "outputs": [
        {
          "output_type": "execute_result",
          "data": {
            "text/plain": [
              "  unCleaned Word  Count\n",
              "0  من             9250 \n",
              "1  في             7163 \n",
              "2  و              5647 \n",
              "3  المطعم         4902 \n",
              "4  جدا            4618 "
            ],
            "text/html": [
              "\n",
              "  <div id=\"df-f2496124-9812-498c-90d0-5a9e8ebad285\">\n",
              "    <div class=\"colab-df-container\">\n",
              "      <div>\n",
              "<style scoped>\n",
              "    .dataframe tbody tr th:only-of-type {\n",
              "        vertical-align: middle;\n",
              "    }\n",
              "\n",
              "    .dataframe tbody tr th {\n",
              "        vertical-align: top;\n",
              "    }\n",
              "\n",
              "    .dataframe thead th {\n",
              "        text-align: right;\n",
              "    }\n",
              "</style>\n",
              "<table border=\"1\" class=\"dataframe\">\n",
              "  <thead>\n",
              "    <tr style=\"text-align: right;\">\n",
              "      <th></th>\n",
              "      <th>unCleaned Word</th>\n",
              "      <th>Count</th>\n",
              "    </tr>\n",
              "  </thead>\n",
              "  <tbody>\n",
              "    <tr>\n",
              "      <th>0</th>\n",
              "      <td>من</td>\n",
              "      <td>9250</td>\n",
              "    </tr>\n",
              "    <tr>\n",
              "      <th>1</th>\n",
              "      <td>في</td>\n",
              "      <td>7163</td>\n",
              "    </tr>\n",
              "    <tr>\n",
              "      <th>2</th>\n",
              "      <td>و</td>\n",
              "      <td>5647</td>\n",
              "    </tr>\n",
              "    <tr>\n",
              "      <th>3</th>\n",
              "      <td>المطعم</td>\n",
              "      <td>4902</td>\n",
              "    </tr>\n",
              "    <tr>\n",
              "      <th>4</th>\n",
              "      <td>جدا</td>\n",
              "      <td>4618</td>\n",
              "    </tr>\n",
              "  </tbody>\n",
              "</table>\n",
              "</div>\n",
              "      <button class=\"colab-df-convert\" onclick=\"convertToInteractive('df-f2496124-9812-498c-90d0-5a9e8ebad285')\"\n",
              "              title=\"Convert this dataframe to an interactive table.\"\n",
              "              style=\"display:none;\">\n",
              "        \n",
              "  <svg xmlns=\"http://www.w3.org/2000/svg\" height=\"24px\"viewBox=\"0 0 24 24\"\n",
              "       width=\"24px\">\n",
              "    <path d=\"M0 0h24v24H0V0z\" fill=\"none\"/>\n",
              "    <path d=\"M18.56 5.44l.94 2.06.94-2.06 2.06-.94-2.06-.94-.94-2.06-.94 2.06-2.06.94zm-11 1L8.5 8.5l.94-2.06 2.06-.94-2.06-.94L8.5 2.5l-.94 2.06-2.06.94zm10 10l.94 2.06.94-2.06 2.06-.94-2.06-.94-.94-2.06-.94 2.06-2.06.94z\"/><path d=\"M17.41 7.96l-1.37-1.37c-.4-.4-.92-.59-1.43-.59-.52 0-1.04.2-1.43.59L10.3 9.45l-7.72 7.72c-.78.78-.78 2.05 0 2.83L4 21.41c.39.39.9.59 1.41.59.51 0 1.02-.2 1.41-.59l7.78-7.78 2.81-2.81c.8-.78.8-2.07 0-2.86zM5.41 20L4 18.59l7.72-7.72 1.47 1.35L5.41 20z\"/>\n",
              "  </svg>\n",
              "      </button>\n",
              "      \n",
              "  <style>\n",
              "    .colab-df-container {\n",
              "      display:flex;\n",
              "      flex-wrap:wrap;\n",
              "      gap: 12px;\n",
              "    }\n",
              "\n",
              "    .colab-df-convert {\n",
              "      background-color: #E8F0FE;\n",
              "      border: none;\n",
              "      border-radius: 50%;\n",
              "      cursor: pointer;\n",
              "      display: none;\n",
              "      fill: #1967D2;\n",
              "      height: 32px;\n",
              "      padding: 0 0 0 0;\n",
              "      width: 32px;\n",
              "    }\n",
              "\n",
              "    .colab-df-convert:hover {\n",
              "      background-color: #E2EBFA;\n",
              "      box-shadow: 0px 1px 2px rgba(60, 64, 67, 0.3), 0px 1px 3px 1px rgba(60, 64, 67, 0.15);\n",
              "      fill: #174EA6;\n",
              "    }\n",
              "\n",
              "    [theme=dark] .colab-df-convert {\n",
              "      background-color: #3B4455;\n",
              "      fill: #D2E3FC;\n",
              "    }\n",
              "\n",
              "    [theme=dark] .colab-df-convert:hover {\n",
              "      background-color: #434B5C;\n",
              "      box-shadow: 0px 1px 3px 1px rgba(0, 0, 0, 0.15);\n",
              "      filter: drop-shadow(0px 1px 2px rgba(0, 0, 0, 0.3));\n",
              "      fill: #FFFFFF;\n",
              "    }\n",
              "  </style>\n",
              "\n",
              "      <script>\n",
              "        const buttonEl =\n",
              "          document.querySelector('#df-f2496124-9812-498c-90d0-5a9e8ebad285 button.colab-df-convert');\n",
              "        buttonEl.style.display =\n",
              "          google.colab.kernel.accessAllowed ? 'block' : 'none';\n",
              "\n",
              "        async function convertToInteractive(key) {\n",
              "          const element = document.querySelector('#df-f2496124-9812-498c-90d0-5a9e8ebad285');\n",
              "          const dataTable =\n",
              "            await google.colab.kernel.invokeFunction('convertToInteractive',\n",
              "                                                     [key], {});\n",
              "          if (!dataTable) return;\n",
              "\n",
              "          const docLinkHtml = 'Like what you see? Visit the ' +\n",
              "            '<a target=\"_blank\" href=https://colab.research.google.com/notebooks/data_table.ipynb>data table notebook</a>'\n",
              "            + ' to learn more about interactive tables.';\n",
              "          element.innerHTML = '';\n",
              "          dataTable['output_type'] = 'display_data';\n",
              "          await google.colab.output.renderOutput(dataTable, element);\n",
              "          const docLink = document.createElement('div');\n",
              "          docLink.innerHTML = docLinkHtml;\n",
              "          element.appendChild(docLink);\n",
              "        }\n",
              "      </script>\n",
              "    </div>\n",
              "  </div>\n",
              "  "
            ]
          },
          "metadata": {},
          "execution_count": 51
        }
      ],
      "source": [
        "# store the top 20 unCleaned words in a new data frame\n",
        "ulst = unCleaned_word_counter.most_common(20)\n",
        "unCleaned_word_df = pd.DataFrame(ulst, columns = ['unCleaned Word', 'Count'])\n",
        "unCleaned_word_df.head()"
      ]
    },
    {
      "cell_type": "markdown",
      "metadata": {
        "id": "7xhdJKwuaSaF"
      },
      "source": [
        "after Preprocessing:"
      ]
    },
    {
      "cell_type": "code",
      "execution_count": 52,
      "metadata": {
        "id": "PIJJfxSDoQCJ",
        "colab": {
          "base_uri": "https://localhost:8080/"
        },
        "outputId": "911af70d-7407-410b-f1c2-d2e9cb7d4bd4"
      },
      "outputs": [
        {
          "output_type": "stream",
          "name": "stdout",
          "text": [
            "301128 words total, with a vocabulary size of 12624\n",
            "Max sentence length is 600\n"
          ]
        }
      ],
      "source": [
        "all_words = [word for tokens in data_df[\"tokens\"] for word in tokens]\n",
        "sentence_lengths = [len(tokens) for tokens in data_df[\"tokens\"]]\n",
        "\n",
        "VOCAB = sorted(list(set(all_words)))\n",
        "\n",
        "print(\"%s words total, with a vocabulary size of %s\" % (len(all_words), len(VOCAB)))\n",
        "print(\"Max sentence length is %s\" % max(sentence_lengths))"
      ]
    },
    {
      "cell_type": "code",
      "execution_count": 53,
      "metadata": {
        "id": "0VGJv1wqoQCM"
      },
      "outputs": [],
      "source": [
        "# count the number of words\n",
        "word_counter = Counter(all_words)"
      ]
    },
    {
      "cell_type": "code",
      "execution_count": 54,
      "metadata": {
        "id": "swHFOog9oQCN",
        "colab": {
          "base_uri": "https://localhost:8080/"
        },
        "outputId": "c33a5df2-0b57-476c-8e8e-576e2f0b0ee9"
      },
      "outputs": [
        {
          "output_type": "execute_result",
          "data": {
            "text/plain": [
              "[('جدا', 4951),\n",
              " ('اكل', 4576),\n",
              " ('طعم', 4282),\n",
              " ('سعر', 3585),\n",
              " ('خدم', 2848),\n",
              " ('طلب', 2796),\n",
              " ('جرب', 2623),\n",
              " ('ريع', 2522),\n",
              " ('لذذ', 2499),\n",
              " ('فضل', 2285)]"
            ]
          },
          "metadata": {},
          "execution_count": 54
        }
      ],
      "source": [
        "# show the most common words\n",
        "word_counter.most_common(10)"
      ]
    },
    {
      "cell_type": "code",
      "execution_count": 55,
      "metadata": {
        "id": "bw322KvfoQCO",
        "colab": {
          "base_uri": "https://localhost:8080/"
        },
        "outputId": "033a3793-5f9b-48c7-ffcd-2e520d227763"
      },
      "outputs": [
        {
          "output_type": "execute_result",
          "data": {
            "text/plain": [
              "[('64', 1),\n",
              " ('وايتريسز', 1),\n",
              " ('وفردريكرز', 1),\n",
              " ('عرفع', 1),\n",
              " ('هالعوامل', 1),\n",
              " ('ومايمديك', 1),\n",
              " ('سبيلوموزاريلا', 1),\n",
              " ('استروبري', 1),\n",
              " ('رصي', 1),\n",
              " ('حيتاخر', 1)]"
            ]
          },
          "metadata": {},
          "execution_count": 55
        }
      ],
      "source": [
        "# Display 10 least common lines\n",
        "word_counter.most_common()[-10:]"
      ]
    },
    {
      "cell_type": "code",
      "execution_count": 56,
      "metadata": {
        "id": "79RfLBfSoQCP"
      },
      "outputs": [],
      "source": [
        "# store the top 20 words in a new data frame\n",
        "lst = word_counter.most_common(20)\n",
        "word_df = pd.DataFrame(lst, columns = ['Word', 'Count'])"
      ]
    },
    {
      "cell_type": "code",
      "execution_count": 57,
      "metadata": {
        "id": "xCpX8_nOoQCQ",
        "colab": {
          "base_uri": "https://localhost:8080/",
          "height": 270
        },
        "outputId": "65a6ffe1-31a7-4d14-ca59-c538c5fc64b0"
      },
      "outputs": [
        {
          "output_type": "execute_result",
          "data": {
            "text/plain": [
              "  Word  Count\n",
              "0  جدا  4951 \n",
              "1  اكل  4576 \n",
              "2  طعم  4282 \n",
              "3  سعر  3585 \n",
              "4  خدم  2848 "
            ],
            "text/html": [
              "\n",
              "  <div id=\"df-24e96a83-8b62-4ce3-acce-1ad9c7ecb6a9\">\n",
              "    <div class=\"colab-df-container\">\n",
              "      <div>\n",
              "<style scoped>\n",
              "    .dataframe tbody tr th:only-of-type {\n",
              "        vertical-align: middle;\n",
              "    }\n",
              "\n",
              "    .dataframe tbody tr th {\n",
              "        vertical-align: top;\n",
              "    }\n",
              "\n",
              "    .dataframe thead th {\n",
              "        text-align: right;\n",
              "    }\n",
              "</style>\n",
              "<table border=\"1\" class=\"dataframe\">\n",
              "  <thead>\n",
              "    <tr style=\"text-align: right;\">\n",
              "      <th></th>\n",
              "      <th>Word</th>\n",
              "      <th>Count</th>\n",
              "    </tr>\n",
              "  </thead>\n",
              "  <tbody>\n",
              "    <tr>\n",
              "      <th>0</th>\n",
              "      <td>جدا</td>\n",
              "      <td>4951</td>\n",
              "    </tr>\n",
              "    <tr>\n",
              "      <th>1</th>\n",
              "      <td>اكل</td>\n",
              "      <td>4576</td>\n",
              "    </tr>\n",
              "    <tr>\n",
              "      <th>2</th>\n",
              "      <td>طعم</td>\n",
              "      <td>4282</td>\n",
              "    </tr>\n",
              "    <tr>\n",
              "      <th>3</th>\n",
              "      <td>سعر</td>\n",
              "      <td>3585</td>\n",
              "    </tr>\n",
              "    <tr>\n",
              "      <th>4</th>\n",
              "      <td>خدم</td>\n",
              "      <td>2848</td>\n",
              "    </tr>\n",
              "  </tbody>\n",
              "</table>\n",
              "</div>\n",
              "      <button class=\"colab-df-convert\" onclick=\"convertToInteractive('df-24e96a83-8b62-4ce3-acce-1ad9c7ecb6a9')\"\n",
              "              title=\"Convert this dataframe to an interactive table.\"\n",
              "              style=\"display:none;\">\n",
              "        \n",
              "  <svg xmlns=\"http://www.w3.org/2000/svg\" height=\"24px\"viewBox=\"0 0 24 24\"\n",
              "       width=\"24px\">\n",
              "    <path d=\"M0 0h24v24H0V0z\" fill=\"none\"/>\n",
              "    <path d=\"M18.56 5.44l.94 2.06.94-2.06 2.06-.94-2.06-.94-.94-2.06-.94 2.06-2.06.94zm-11 1L8.5 8.5l.94-2.06 2.06-.94-2.06-.94L8.5 2.5l-.94 2.06-2.06.94zm10 10l.94 2.06.94-2.06 2.06-.94-2.06-.94-.94-2.06-.94 2.06-2.06.94z\"/><path d=\"M17.41 7.96l-1.37-1.37c-.4-.4-.92-.59-1.43-.59-.52 0-1.04.2-1.43.59L10.3 9.45l-7.72 7.72c-.78.78-.78 2.05 0 2.83L4 21.41c.39.39.9.59 1.41.59.51 0 1.02-.2 1.41-.59l7.78-7.78 2.81-2.81c.8-.78.8-2.07 0-2.86zM5.41 20L4 18.59l7.72-7.72 1.47 1.35L5.41 20z\"/>\n",
              "  </svg>\n",
              "      </button>\n",
              "      \n",
              "  <style>\n",
              "    .colab-df-container {\n",
              "      display:flex;\n",
              "      flex-wrap:wrap;\n",
              "      gap: 12px;\n",
              "    }\n",
              "\n",
              "    .colab-df-convert {\n",
              "      background-color: #E8F0FE;\n",
              "      border: none;\n",
              "      border-radius: 50%;\n",
              "      cursor: pointer;\n",
              "      display: none;\n",
              "      fill: #1967D2;\n",
              "      height: 32px;\n",
              "      padding: 0 0 0 0;\n",
              "      width: 32px;\n",
              "    }\n",
              "\n",
              "    .colab-df-convert:hover {\n",
              "      background-color: #E2EBFA;\n",
              "      box-shadow: 0px 1px 2px rgba(60, 64, 67, 0.3), 0px 1px 3px 1px rgba(60, 64, 67, 0.15);\n",
              "      fill: #174EA6;\n",
              "    }\n",
              "\n",
              "    [theme=dark] .colab-df-convert {\n",
              "      background-color: #3B4455;\n",
              "      fill: #D2E3FC;\n",
              "    }\n",
              "\n",
              "    [theme=dark] .colab-df-convert:hover {\n",
              "      background-color: #434B5C;\n",
              "      box-shadow: 0px 1px 3px 1px rgba(0, 0, 0, 0.15);\n",
              "      filter: drop-shadow(0px 1px 2px rgba(0, 0, 0, 0.3));\n",
              "      fill: #FFFFFF;\n",
              "    }\n",
              "  </style>\n",
              "\n",
              "      <script>\n",
              "        const buttonEl =\n",
              "          document.querySelector('#df-24e96a83-8b62-4ce3-acce-1ad9c7ecb6a9 button.colab-df-convert');\n",
              "        buttonEl.style.display =\n",
              "          google.colab.kernel.accessAllowed ? 'block' : 'none';\n",
              "\n",
              "        async function convertToInteractive(key) {\n",
              "          const element = document.querySelector('#df-24e96a83-8b62-4ce3-acce-1ad9c7ecb6a9');\n",
              "          const dataTable =\n",
              "            await google.colab.kernel.invokeFunction('convertToInteractive',\n",
              "                                                     [key], {});\n",
              "          if (!dataTable) return;\n",
              "\n",
              "          const docLinkHtml = 'Like what you see? Visit the ' +\n",
              "            '<a target=\"_blank\" href=https://colab.research.google.com/notebooks/data_table.ipynb>data table notebook</a>'\n",
              "            + ' to learn more about interactive tables.';\n",
              "          element.innerHTML = '';\n",
              "          dataTable['output_type'] = 'display_data';\n",
              "          await google.colab.output.renderOutput(dataTable, element);\n",
              "          const docLink = document.createElement('div');\n",
              "          docLink.innerHTML = docLinkHtml;\n",
              "          element.appendChild(docLink);\n",
              "        }\n",
              "      </script>\n",
              "    </div>\n",
              "  </div>\n",
              "  "
            ]
          },
          "metadata": {},
          "execution_count": 57
        }
      ],
      "source": [
        "word_df.head()"
      ]
    },
    {
      "cell_type": "code",
      "execution_count": 58,
      "metadata": {
        "id": "CzJRAud1CsWM",
        "colab": {
          "base_uri": "https://localhost:8080/",
          "height": 1000
        },
        "outputId": "f5086264-411b-497f-9b0d-b3e3ffe5da7d"
      },
      "outputs": [
        {
          "output_type": "execute_result",
          "data": {
            "text/plain": [
              "                                                                                                                                                                                                                                                                                                                                                                                                                                                                                                                                                                                                                                                                                                                                   Text  \\\n",
              "0  Buona scelta gluten-free \\nIl ristorante \"Il Grissino\" è un onesto ristorante la famiglia, senza troppe pretese e, coerentemente, con costi contenuti; caratteristiche che ne fanno un buon locale d'appoggio se si vuole mangiare fuori per comodità ma non si sta cercando l'evento memorabile. Tutte le portate sono più che discrete, il servizio cortese e ragionevolmente rapido. Fra i luoghi che fanno pizza senza glutine a Milano, le loro proposte (basate su farina DS) sono da contarsi fra le migliori. Raccomandabile per una cena tranquilla senza impegno.\\n                                                                                                                                                          \n",
              "1  Da evitare anche quello in via Pier della Francesca! \\nSono stata all'Antica Focacceria in via Pier della Francesca 56 a Milano. Ho comprato arancini,caponata,sfincione. Li ho mangiati con un'amica. Risultato: ci è rimasto tutto sullo stomaco!! Una cosa tremenda!!! Siamo state malissimo! La caponata era immangiabile, veramente scadente. Gli arancini e lo sfincione non sembravano malvagi, ma evidentemente in questo locale non usano prodotti di qualità e non cambiano l'olio di cottura. Ci tengo a sottolineare che nè io nè la mia amica siamo dei tipi delicati, quindi non abbiamo problemi a mangiare fritti e cose del genere. Peccato perchè il locale (che tra l'altro non è a buon mercato) in sè è carino.   \n",
              "2  تناولت العشاء فيه \\nفندق قريب من المطار لكنه عادي في منطقه مزدحمة الطعام عادي اوبن بوفيه لكنه مقبول وكعادة اغلب الفنادق هنا الشيف كيني والاكل يغلب عليه الطابع الكيبني\\n                                                                                                                                                                                                                                                                                                                                                                                                                                                                                                                                                               \n",
              "3  مطعم مختلف عن الجو العام بجوبا \\nمطعم مختلف بسيط غير انيق ولكنه يقدم طعام مختلف يمكن تصنيفه بانه طعام هندي مقبول وهناك بعض الاصناف التي يمكن تناولها ولكن يغلب عليها البهار والحار والنكهه الهنديه الخدمه جيده ولكنه مزدحم وخاصة وقت العشاء\\n                                                                                                                                                                                                                                                                                                                                                                                                                                                                                          \n",
              "4  مطعم لطيف يغلب عليه الطابع اليوناني لان مالكه اظن يوناني ولكن الطعام هندي اغلبه \\nلطيف مزدحم دائما الطعام يتأخر نتيجه للزحام مفضل من الاجانب ولكنه كحال كل مطاعم جوبا مطعم بسيط وغالي جدا\\n                                                                                                                                                                                                                                                                                                                                                                                                                                                                                                                                            \n",
              "\n",
              "   Sentiment  \\\n",
              "0 NaN          \n",
              "1 NaN          \n",
              "2 NaN          \n",
              "3 NaN          \n",
              "4 NaN          \n",
              "\n",
              "                                                                                                                       Clean Text  \\\n",
              "0                                                                                                                                   \n",
              "1    56                                                                                                                             \n",
              "2    نول عشء ندق قرب طار لكن عدي طقه زدحم طعم عدي اوب بوف لكن قبل كعد غلب ندق شيف كين اكل غلب طبع كيب                               \n",
              "3    خلف لجو عام بجب خلف بسط انق ولك قدم طعم خلف صنف بنه طعم هند قبل وهن صنف نول غلب بهر حار نكه هند خدم جيد ولك زدحم وخص وقت عشء   \n",
              "4    لطف غلب طبع يون لان الك اظن يون طعم هند غلب لطف زدحم داي طعم تخر نتج زحم فضل جنب ولك كحل جوب بسط وغل جدا                       \n",
              "\n",
              "   text length  \\\n",
              "0  1             \n",
              "1  4             \n",
              "2  98            \n",
              "3  126           \n",
              "4  106           \n",
              "\n",
              "                                                                                                                                                         tokens  \\\n",
              "0  []                                                                                                                                                             \n",
              "1  [56]                                                                                                                                                           \n",
              "2  [نول, عشء, ندق, قرب, طار, لكن, عدي, طقه, زدحم, طعم, عدي, اوب, بوف, لكن, قبل, كعد, غلب, ندق, شيف, كين, اكل, غلب, طبع, كيب]                                      \n",
              "3  [خلف, لجو, عام, بجب, خلف, بسط, انق, ولك, قدم, طعم, خلف, صنف, بنه, طعم, هند, قبل, وهن, صنف, نول, غلب, بهر, حار, نكه, هند, خدم, جيد, ولك, زدحم, وخص, وقت, عشء]   \n",
              "4  [لطف, غلب, طبع, يون, لان, الك, اظن, يون, طعم, هند, غلب, لطف, زدحم, داي, طعم, تخر, نتج, زحم, فضل, جنب, ولك, كحل, جوب, بسط, وغل, جدا]                            \n",
              "\n",
              "                                                                                                                                                                                                                                                                                                                                                                                                                                                                                                                                                                                                                                                                                                              unCleaned tokens  \n",
              "0  [Buona, scelta, gluten, free, Il, ristorante, Il, Grissino, è, un, onesto, ristorante, la, famiglia, senza, troppe, pretese, e, coerentemente, con, costi, contenuti, caratteristiche, che, ne, fanno, un, buon, locale, d, appoggio, se, si, vuole, mangiare, fuori, per, comodità, ma, non, si, sta, cercando, l, evento, memorabile, Tutte, le, portate, sono, più, che, discrete, il, servizio, cortese, e, ragionevolmente, rapido, Fra, i, luoghi, che, fanno, pizza, senza, glutine, a, Milano, le, loro, proposte, basate, su, farina, DS, sono, da, contarsi, fra, le, migliori, Raccomandabile, per, una, cena, tranquilla, senza, impegno]                                                                        \n",
              "1  [Da, evitare, anche, quello, in, via, Pier, della, Francesca, Sono, stata, all, Antica, Focacceria, in, via, Pier, della, Francesca, 56, a, Milano, Ho, comprato, arancini, caponata, sfincione, Li, ho, mangiati, con, un, amica, Risultato, ci, è, rimasto, tutto, sullo, stomaco, Una, cosa, tremenda, Siamo, state, malissimo, La, caponata, era, immangiabile, veramente, scadente, Gli, arancini, e, lo, sfincione, non, sembravano, malvagi, ma, evidentemente, in, questo, locale, non, usano, prodotti, di, qualità, e, non, cambiano, l, olio, di, cottura, Ci, tengo, a, sottolineare, che, nè, io, nè, la, mia, amica, siamo, dei, tipi, delicati, quindi, non, abbiamo, problemi, a, mangiare, fritti, e, ...]  \n",
              "2  [تناولت, العشاء, فيه, فندق, قريب, من, المطار, لكنه, عادي, في, منطقه, مزدحمة, الطعام, عادي, اوبن, بوفيه, لكنه, مقبول, وكعادة, اغلب, الفنادق, هنا, الشيف, كيني, والاكل, يغلب, عليه, الطابع, الكيبني]                                                                                                                                                                                                                                                                                                                                                                                                                                                                                                                           \n",
              "3  [مطعم, مختلف, عن, الجو, العام, بجوبا, مطعم, مختلف, بسيط, غير, انيق, ولكنه, يقدم, طعام, مختلف, يمكن, تصنيفه, بانه, طعام, هندي, مقبول, وهناك, بعض, الاصناف, التي, يمكن, تناولها, ولكن, يغلب, عليها, البهار, والحار, والنكهه, الهنديه, الخدمه, جيده, ولكنه, مزدحم, وخاصة, وقت, العشاء]                                                                                                                                                                                                                                                                                                                                                                                                                                          \n",
              "4  [مطعم, لطيف, يغلب, عليه, الطابع, اليوناني, لان, مالكه, اظن, يوناني, ولكن, الطعام, هندي, اغلبه, لطيف, مزدحم, دائما, الطعام, يتأخر, نتيجه, للزحام, مفضل, من, الاجانب, ولكنه, كحال, كل, مطاعم, جوبا, مطعم, بسيط, وغالي, جدا]                                                                                                                                                                                                                                                                                                                                                                                                                                                                                                    "
            ],
            "text/html": [
              "\n",
              "  <div id=\"df-157724b5-0fe3-44d4-85cc-a5aa470984b6\">\n",
              "    <div class=\"colab-df-container\">\n",
              "      <div>\n",
              "<style scoped>\n",
              "    .dataframe tbody tr th:only-of-type {\n",
              "        vertical-align: middle;\n",
              "    }\n",
              "\n",
              "    .dataframe tbody tr th {\n",
              "        vertical-align: top;\n",
              "    }\n",
              "\n",
              "    .dataframe thead th {\n",
              "        text-align: right;\n",
              "    }\n",
              "</style>\n",
              "<table border=\"1\" class=\"dataframe\">\n",
              "  <thead>\n",
              "    <tr style=\"text-align: right;\">\n",
              "      <th></th>\n",
              "      <th>Text</th>\n",
              "      <th>Sentiment</th>\n",
              "      <th>Clean Text</th>\n",
              "      <th>text length</th>\n",
              "      <th>tokens</th>\n",
              "      <th>unCleaned tokens</th>\n",
              "    </tr>\n",
              "  </thead>\n",
              "  <tbody>\n",
              "    <tr>\n",
              "      <th>0</th>\n",
              "      <td>Buona scelta gluten-free \\nIl ristorante \"Il Grissino\" è un onesto ristorante la famiglia, senza troppe pretese e, coerentemente, con costi contenuti; caratteristiche che ne fanno un buon locale d'appoggio se si vuole mangiare fuori per comodità ma non si sta cercando l'evento memorabile. Tutte le portate sono più che discrete, il servizio cortese e ragionevolmente rapido. Fra i luoghi che fanno pizza senza glutine a Milano, le loro proposte (basate su farina DS) sono da contarsi fra le migliori. Raccomandabile per una cena tranquilla senza impegno.\\n</td>\n",
              "      <td>NaN</td>\n",
              "      <td></td>\n",
              "      <td>1</td>\n",
              "      <td>[]</td>\n",
              "      <td>[Buona, scelta, gluten, free, Il, ristorante, Il, Grissino, è, un, onesto, ristorante, la, famiglia, senza, troppe, pretese, e, coerentemente, con, costi, contenuti, caratteristiche, che, ne, fanno, un, buon, locale, d, appoggio, se, si, vuole, mangiare, fuori, per, comodità, ma, non, si, sta, cercando, l, evento, memorabile, Tutte, le, portate, sono, più, che, discrete, il, servizio, cortese, e, ragionevolmente, rapido, Fra, i, luoghi, che, fanno, pizza, senza, glutine, a, Milano, le, loro, proposte, basate, su, farina, DS, sono, da, contarsi, fra, le, migliori, Raccomandabile, per, una, cena, tranquilla, senza, impegno]</td>\n",
              "    </tr>\n",
              "    <tr>\n",
              "      <th>1</th>\n",
              "      <td>Da evitare anche quello in via Pier della Francesca! \\nSono stata all'Antica Focacceria in via Pier della Francesca 56 a Milano. Ho comprato arancini,caponata,sfincione. Li ho mangiati con un'amica. Risultato: ci è rimasto tutto sullo stomaco!! Una cosa tremenda!!! Siamo state malissimo! La caponata era immangiabile, veramente scadente. Gli arancini e lo sfincione non sembravano malvagi, ma evidentemente in questo locale non usano prodotti di qualità e non cambiano l'olio di cottura. Ci tengo a sottolineare che nè io nè la mia amica siamo dei tipi delicati, quindi non abbiamo problemi a mangiare fritti e cose del genere. Peccato perchè il locale (che tra l'altro non è a buon mercato) in sè è carino.</td>\n",
              "      <td>NaN</td>\n",
              "      <td>56</td>\n",
              "      <td>4</td>\n",
              "      <td>[56]</td>\n",
              "      <td>[Da, evitare, anche, quello, in, via, Pier, della, Francesca, Sono, stata, all, Antica, Focacceria, in, via, Pier, della, Francesca, 56, a, Milano, Ho, comprato, arancini, caponata, sfincione, Li, ho, mangiati, con, un, amica, Risultato, ci, è, rimasto, tutto, sullo, stomaco, Una, cosa, tremenda, Siamo, state, malissimo, La, caponata, era, immangiabile, veramente, scadente, Gli, arancini, e, lo, sfincione, non, sembravano, malvagi, ma, evidentemente, in, questo, locale, non, usano, prodotti, di, qualità, e, non, cambiano, l, olio, di, cottura, Ci, tengo, a, sottolineare, che, nè, io, nè, la, mia, amica, siamo, dei, tipi, delicati, quindi, non, abbiamo, problemi, a, mangiare, fritti, e, ...]</td>\n",
              "    </tr>\n",
              "    <tr>\n",
              "      <th>2</th>\n",
              "      <td>تناولت العشاء فيه \\nفندق قريب من المطار لكنه عادي في منطقه مزدحمة الطعام عادي اوبن بوفيه لكنه مقبول وكعادة اغلب الفنادق هنا الشيف كيني والاكل يغلب عليه الطابع الكيبني\\n</td>\n",
              "      <td>NaN</td>\n",
              "      <td>نول عشء ندق قرب طار لكن عدي طقه زدحم طعم عدي اوب بوف لكن قبل كعد غلب ندق شيف كين اكل غلب طبع كيب</td>\n",
              "      <td>98</td>\n",
              "      <td>[نول, عشء, ندق, قرب, طار, لكن, عدي, طقه, زدحم, طعم, عدي, اوب, بوف, لكن, قبل, كعد, غلب, ندق, شيف, كين, اكل, غلب, طبع, كيب]</td>\n",
              "      <td>[تناولت, العشاء, فيه, فندق, قريب, من, المطار, لكنه, عادي, في, منطقه, مزدحمة, الطعام, عادي, اوبن, بوفيه, لكنه, مقبول, وكعادة, اغلب, الفنادق, هنا, الشيف, كيني, والاكل, يغلب, عليه, الطابع, الكيبني]</td>\n",
              "    </tr>\n",
              "    <tr>\n",
              "      <th>3</th>\n",
              "      <td>مطعم مختلف عن الجو العام بجوبا \\nمطعم مختلف بسيط غير انيق ولكنه يقدم طعام مختلف يمكن تصنيفه بانه طعام هندي مقبول وهناك بعض الاصناف التي يمكن تناولها ولكن يغلب عليها البهار والحار والنكهه الهنديه الخدمه جيده ولكنه مزدحم وخاصة وقت العشاء\\n</td>\n",
              "      <td>NaN</td>\n",
              "      <td>خلف لجو عام بجب خلف بسط انق ولك قدم طعم خلف صنف بنه طعم هند قبل وهن صنف نول غلب بهر حار نكه هند خدم جيد ولك زدحم وخص وقت عشء</td>\n",
              "      <td>126</td>\n",
              "      <td>[خلف, لجو, عام, بجب, خلف, بسط, انق, ولك, قدم, طعم, خلف, صنف, بنه, طعم, هند, قبل, وهن, صنف, نول, غلب, بهر, حار, نكه, هند, خدم, جيد, ولك, زدحم, وخص, وقت, عشء]</td>\n",
              "      <td>[مطعم, مختلف, عن, الجو, العام, بجوبا, مطعم, مختلف, بسيط, غير, انيق, ولكنه, يقدم, طعام, مختلف, يمكن, تصنيفه, بانه, طعام, هندي, مقبول, وهناك, بعض, الاصناف, التي, يمكن, تناولها, ولكن, يغلب, عليها, البهار, والحار, والنكهه, الهنديه, الخدمه, جيده, ولكنه, مزدحم, وخاصة, وقت, العشاء]</td>\n",
              "    </tr>\n",
              "    <tr>\n",
              "      <th>4</th>\n",
              "      <td>مطعم لطيف يغلب عليه الطابع اليوناني لان مالكه اظن يوناني ولكن الطعام هندي اغلبه \\nلطيف مزدحم دائما الطعام يتأخر نتيجه للزحام مفضل من الاجانب ولكنه كحال كل مطاعم جوبا مطعم بسيط وغالي جدا\\n</td>\n",
              "      <td>NaN</td>\n",
              "      <td>لطف غلب طبع يون لان الك اظن يون طعم هند غلب لطف زدحم داي طعم تخر نتج زحم فضل جنب ولك كحل جوب بسط وغل جدا</td>\n",
              "      <td>106</td>\n",
              "      <td>[لطف, غلب, طبع, يون, لان, الك, اظن, يون, طعم, هند, غلب, لطف, زدحم, داي, طعم, تخر, نتج, زحم, فضل, جنب, ولك, كحل, جوب, بسط, وغل, جدا]</td>\n",
              "      <td>[مطعم, لطيف, يغلب, عليه, الطابع, اليوناني, لان, مالكه, اظن, يوناني, ولكن, الطعام, هندي, اغلبه, لطيف, مزدحم, دائما, الطعام, يتأخر, نتيجه, للزحام, مفضل, من, الاجانب, ولكنه, كحال, كل, مطاعم, جوبا, مطعم, بسيط, وغالي, جدا]</td>\n",
              "    </tr>\n",
              "  </tbody>\n",
              "</table>\n",
              "</div>\n",
              "      <button class=\"colab-df-convert\" onclick=\"convertToInteractive('df-157724b5-0fe3-44d4-85cc-a5aa470984b6')\"\n",
              "              title=\"Convert this dataframe to an interactive table.\"\n",
              "              style=\"display:none;\">\n",
              "        \n",
              "  <svg xmlns=\"http://www.w3.org/2000/svg\" height=\"24px\"viewBox=\"0 0 24 24\"\n",
              "       width=\"24px\">\n",
              "    <path d=\"M0 0h24v24H0V0z\" fill=\"none\"/>\n",
              "    <path d=\"M18.56 5.44l.94 2.06.94-2.06 2.06-.94-2.06-.94-.94-2.06-.94 2.06-2.06.94zm-11 1L8.5 8.5l.94-2.06 2.06-.94-2.06-.94L8.5 2.5l-.94 2.06-2.06.94zm10 10l.94 2.06.94-2.06 2.06-.94-2.06-.94-.94-2.06-.94 2.06-2.06.94z\"/><path d=\"M17.41 7.96l-1.37-1.37c-.4-.4-.92-.59-1.43-.59-.52 0-1.04.2-1.43.59L10.3 9.45l-7.72 7.72c-.78.78-.78 2.05 0 2.83L4 21.41c.39.39.9.59 1.41.59.51 0 1.02-.2 1.41-.59l7.78-7.78 2.81-2.81c.8-.78.8-2.07 0-2.86zM5.41 20L4 18.59l7.72-7.72 1.47 1.35L5.41 20z\"/>\n",
              "  </svg>\n",
              "      </button>\n",
              "      \n",
              "  <style>\n",
              "    .colab-df-container {\n",
              "      display:flex;\n",
              "      flex-wrap:wrap;\n",
              "      gap: 12px;\n",
              "    }\n",
              "\n",
              "    .colab-df-convert {\n",
              "      background-color: #E8F0FE;\n",
              "      border: none;\n",
              "      border-radius: 50%;\n",
              "      cursor: pointer;\n",
              "      display: none;\n",
              "      fill: #1967D2;\n",
              "      height: 32px;\n",
              "      padding: 0 0 0 0;\n",
              "      width: 32px;\n",
              "    }\n",
              "\n",
              "    .colab-df-convert:hover {\n",
              "      background-color: #E2EBFA;\n",
              "      box-shadow: 0px 1px 2px rgba(60, 64, 67, 0.3), 0px 1px 3px 1px rgba(60, 64, 67, 0.15);\n",
              "      fill: #174EA6;\n",
              "    }\n",
              "\n",
              "    [theme=dark] .colab-df-convert {\n",
              "      background-color: #3B4455;\n",
              "      fill: #D2E3FC;\n",
              "    }\n",
              "\n",
              "    [theme=dark] .colab-df-convert:hover {\n",
              "      background-color: #434B5C;\n",
              "      box-shadow: 0px 1px 3px 1px rgba(0, 0, 0, 0.15);\n",
              "      filter: drop-shadow(0px 1px 2px rgba(0, 0, 0, 0.3));\n",
              "      fill: #FFFFFF;\n",
              "    }\n",
              "  </style>\n",
              "\n",
              "      <script>\n",
              "        const buttonEl =\n",
              "          document.querySelector('#df-157724b5-0fe3-44d4-85cc-a5aa470984b6 button.colab-df-convert');\n",
              "        buttonEl.style.display =\n",
              "          google.colab.kernel.accessAllowed ? 'block' : 'none';\n",
              "\n",
              "        async function convertToInteractive(key) {\n",
              "          const element = document.querySelector('#df-157724b5-0fe3-44d4-85cc-a5aa470984b6');\n",
              "          const dataTable =\n",
              "            await google.colab.kernel.invokeFunction('convertToInteractive',\n",
              "                                                     [key], {});\n",
              "          if (!dataTable) return;\n",
              "\n",
              "          const docLinkHtml = 'Like what you see? Visit the ' +\n",
              "            '<a target=\"_blank\" href=https://colab.research.google.com/notebooks/data_table.ipynb>data table notebook</a>'\n",
              "            + ' to learn more about interactive tables.';\n",
              "          element.innerHTML = '';\n",
              "          dataTable['output_type'] = 'display_data';\n",
              "          await google.colab.output.renderOutput(dataTable, element);\n",
              "          const docLink = document.createElement('div');\n",
              "          docLink.innerHTML = docLinkHtml;\n",
              "          element.appendChild(docLink);\n",
              "        }\n",
              "      </script>\n",
              "    </div>\n",
              "  </div>\n",
              "  "
            ]
          },
          "metadata": {},
          "execution_count": 58
        }
      ],
      "source": [
        "data_df.head(5)"
      ]
    },
    {
      "cell_type": "markdown",
      "metadata": {
        "id": "QFgcHh26oQCl"
      },
      "source": [
        "# **ML Classification**"
      ]
    },
    {
      "cell_type": "code",
      "execution_count": 59,
      "metadata": {
        "id": "7C2lXTIBoQCl"
      },
      "outputs": [],
      "source": [
        "\n",
        "from sklearn.feature_extraction.text import TfidfVectorizer\n",
        "from sklearn.model_selection import train_test_split\n",
        "from sklearn import svm\n",
        "from sklearn.linear_model import LogisticRegression #need to be deleted \n",
        "from sklearn.naive_bayes import MultinomialNB\n",
        "from sklearn.model_selection import cross_val_score, cross_val_predict, KFold\n",
        "from sklearn.metrics  import confusion_matrix, classification_report\n",
        "from sklearn import metrics"
      ]
    },
    {
      "cell_type": "code",
      "execution_count": 60,
      "metadata": {
        "id": "9FC-XfK-oQCm"
      },
      "outputs": [],
      "source": [
        "# remove data with NAN Sentiment \n",
        "data_df=data_df[~data_df[\"Sentiment\"].isna()] #i dont think we need it cause we have zero NAN"
      ]
    },
    {
      "cell_type": "code",
      "execution_count": 61,
      "metadata": {
        "id": "bVKdycZFoQCn"
      },
      "outputs": [],
      "source": [
        "# remove the \"Neutral\" class\n",
        "data_df=data_df[data_df['Sentiment'] != 'Neutral ']\n",
        "# remove the \"Irrelevant\" class\n",
        "data_df=data_df[data_df['Sentiment'] != 'Irrelevant']"
      ]
    },
    {
      "cell_type": "markdown",
      "metadata": {
        "id": "uqZIlW1CIgFs"
      },
      "source": [
        "*Descriptive Analytics‏*"
      ]
    },
    {
      "cell_type": "code",
      "execution_count": 62,
      "metadata": {
        "id": "GSfnj-HJZ_TU",
        "colab": {
          "base_uri": "https://localhost:8080/"
        },
        "outputId": "61ea5127-38e8-48e8-cb07-11777d618274"
      },
      "outputs": [
        {
          "output_type": "execute_result",
          "data": {
            "text/plain": [
              "(9682, 6)"
            ]
          },
          "metadata": {},
          "execution_count": 62
        }
      ],
      "source": [
        "data_df.shape"
      ]
    },
    {
      "cell_type": "code",
      "execution_count": 63,
      "metadata": {
        "id": "TgbS1P-faMSD",
        "colab": {
          "base_uri": "https://localhost:8080/"
        },
        "outputId": "080969fa-b90b-43a2-f099-8a621534109d"
      },
      "outputs": [
        {
          "output_type": "execute_result",
          "data": {
            "text/plain": [
              "Index(['Text', 'Sentiment', 'Clean Text', 'text length', 'tokens',\n",
              "       'unCleaned tokens'],\n",
              "      dtype='object')"
            ]
          },
          "metadata": {},
          "execution_count": 63
        }
      ],
      "source": [
        "data_df.columns"
      ]
    },
    {
      "cell_type": "code",
      "execution_count": 64,
      "metadata": {
        "id": "qAPvB85OapN2",
        "colab": {
          "base_uri": "https://localhost:8080/"
        },
        "outputId": "a775c507-61f7-4e01-856e-5ae859f3bd00"
      },
      "outputs": [
        {
          "output_type": "stream",
          "name": "stdout",
          "text": [
            "<class 'pandas.core.frame.DataFrame'>\n",
            "Int64Index: 9682 entries, 22 to 10969\n",
            "Data columns (total 6 columns):\n",
            " #   Column            Non-Null Count  Dtype  \n",
            "---  ------            --------------  -----  \n",
            " 0   Text              9682 non-null   object \n",
            " 1   Sentiment         9682 non-null   float64\n",
            " 2   Clean Text        9682 non-null   object \n",
            " 3   text length       9682 non-null   int64  \n",
            " 4   tokens            9682 non-null   object \n",
            " 5   unCleaned tokens  9682 non-null   object \n",
            "dtypes: float64(1), int64(1), object(4)\n",
            "memory usage: 529.5+ KB\n"
          ]
        }
      ],
      "source": [
        "data_df.info(verbose=True)"
      ]
    },
    {
      "cell_type": "code",
      "execution_count": 65,
      "metadata": {
        "id": "jbRdmbnna8EJ",
        "colab": {
          "base_uri": "https://localhost:8080/",
          "height": 300
        },
        "outputId": "817c86b3-4437-4c31-aa90-9333bcc105b9"
      },
      "outputs": [
        {
          "output_type": "execute_result",
          "data": {
            "text/plain": [
              "       Sentiment  text length\n",
              "count 9682.00000 9682.00000  \n",
              "mean  0.26699    114.51983   \n",
              "std   0.44241    129.44427   \n",
              "min   0.00000    1.00000     \n",
              "25%   0.00000    45.00000    \n",
              "50%   0.00000    81.00000    \n",
              "75%   1.00000    135.00000   \n",
              "max   1.00000    2486.00000  "
            ],
            "text/html": [
              "\n",
              "  <div id=\"df-99aec8ed-02a5-455d-8db9-3f519a88d7b6\">\n",
              "    <div class=\"colab-df-container\">\n",
              "      <div>\n",
              "<style scoped>\n",
              "    .dataframe tbody tr th:only-of-type {\n",
              "        vertical-align: middle;\n",
              "    }\n",
              "\n",
              "    .dataframe tbody tr th {\n",
              "        vertical-align: top;\n",
              "    }\n",
              "\n",
              "    .dataframe thead th {\n",
              "        text-align: right;\n",
              "    }\n",
              "</style>\n",
              "<table border=\"1\" class=\"dataframe\">\n",
              "  <thead>\n",
              "    <tr style=\"text-align: right;\">\n",
              "      <th></th>\n",
              "      <th>Sentiment</th>\n",
              "      <th>text length</th>\n",
              "    </tr>\n",
              "  </thead>\n",
              "  <tbody>\n",
              "    <tr>\n",
              "      <th>count</th>\n",
              "      <td>9682.00000</td>\n",
              "      <td>9682.00000</td>\n",
              "    </tr>\n",
              "    <tr>\n",
              "      <th>mean</th>\n",
              "      <td>0.26699</td>\n",
              "      <td>114.51983</td>\n",
              "    </tr>\n",
              "    <tr>\n",
              "      <th>std</th>\n",
              "      <td>0.44241</td>\n",
              "      <td>129.44427</td>\n",
              "    </tr>\n",
              "    <tr>\n",
              "      <th>min</th>\n",
              "      <td>0.00000</td>\n",
              "      <td>1.00000</td>\n",
              "    </tr>\n",
              "    <tr>\n",
              "      <th>25%</th>\n",
              "      <td>0.00000</td>\n",
              "      <td>45.00000</td>\n",
              "    </tr>\n",
              "    <tr>\n",
              "      <th>50%</th>\n",
              "      <td>0.00000</td>\n",
              "      <td>81.00000</td>\n",
              "    </tr>\n",
              "    <tr>\n",
              "      <th>75%</th>\n",
              "      <td>1.00000</td>\n",
              "      <td>135.00000</td>\n",
              "    </tr>\n",
              "    <tr>\n",
              "      <th>max</th>\n",
              "      <td>1.00000</td>\n",
              "      <td>2486.00000</td>\n",
              "    </tr>\n",
              "  </tbody>\n",
              "</table>\n",
              "</div>\n",
              "      <button class=\"colab-df-convert\" onclick=\"convertToInteractive('df-99aec8ed-02a5-455d-8db9-3f519a88d7b6')\"\n",
              "              title=\"Convert this dataframe to an interactive table.\"\n",
              "              style=\"display:none;\">\n",
              "        \n",
              "  <svg xmlns=\"http://www.w3.org/2000/svg\" height=\"24px\"viewBox=\"0 0 24 24\"\n",
              "       width=\"24px\">\n",
              "    <path d=\"M0 0h24v24H0V0z\" fill=\"none\"/>\n",
              "    <path d=\"M18.56 5.44l.94 2.06.94-2.06 2.06-.94-2.06-.94-.94-2.06-.94 2.06-2.06.94zm-11 1L8.5 8.5l.94-2.06 2.06-.94-2.06-.94L8.5 2.5l-.94 2.06-2.06.94zm10 10l.94 2.06.94-2.06 2.06-.94-2.06-.94-.94-2.06-.94 2.06-2.06.94z\"/><path d=\"M17.41 7.96l-1.37-1.37c-.4-.4-.92-.59-1.43-.59-.52 0-1.04.2-1.43.59L10.3 9.45l-7.72 7.72c-.78.78-.78 2.05 0 2.83L4 21.41c.39.39.9.59 1.41.59.51 0 1.02-.2 1.41-.59l7.78-7.78 2.81-2.81c.8-.78.8-2.07 0-2.86zM5.41 20L4 18.59l7.72-7.72 1.47 1.35L5.41 20z\"/>\n",
              "  </svg>\n",
              "      </button>\n",
              "      \n",
              "  <style>\n",
              "    .colab-df-container {\n",
              "      display:flex;\n",
              "      flex-wrap:wrap;\n",
              "      gap: 12px;\n",
              "    }\n",
              "\n",
              "    .colab-df-convert {\n",
              "      background-color: #E8F0FE;\n",
              "      border: none;\n",
              "      border-radius: 50%;\n",
              "      cursor: pointer;\n",
              "      display: none;\n",
              "      fill: #1967D2;\n",
              "      height: 32px;\n",
              "      padding: 0 0 0 0;\n",
              "      width: 32px;\n",
              "    }\n",
              "\n",
              "    .colab-df-convert:hover {\n",
              "      background-color: #E2EBFA;\n",
              "      box-shadow: 0px 1px 2px rgba(60, 64, 67, 0.3), 0px 1px 3px 1px rgba(60, 64, 67, 0.15);\n",
              "      fill: #174EA6;\n",
              "    }\n",
              "\n",
              "    [theme=dark] .colab-df-convert {\n",
              "      background-color: #3B4455;\n",
              "      fill: #D2E3FC;\n",
              "    }\n",
              "\n",
              "    [theme=dark] .colab-df-convert:hover {\n",
              "      background-color: #434B5C;\n",
              "      box-shadow: 0px 1px 3px 1px rgba(0, 0, 0, 0.15);\n",
              "      filter: drop-shadow(0px 1px 2px rgba(0, 0, 0, 0.3));\n",
              "      fill: #FFFFFF;\n",
              "    }\n",
              "  </style>\n",
              "\n",
              "      <script>\n",
              "        const buttonEl =\n",
              "          document.querySelector('#df-99aec8ed-02a5-455d-8db9-3f519a88d7b6 button.colab-df-convert');\n",
              "        buttonEl.style.display =\n",
              "          google.colab.kernel.accessAllowed ? 'block' : 'none';\n",
              "\n",
              "        async function convertToInteractive(key) {\n",
              "          const element = document.querySelector('#df-99aec8ed-02a5-455d-8db9-3f519a88d7b6');\n",
              "          const dataTable =\n",
              "            await google.colab.kernel.invokeFunction('convertToInteractive',\n",
              "                                                     [key], {});\n",
              "          if (!dataTable) return;\n",
              "\n",
              "          const docLinkHtml = 'Like what you see? Visit the ' +\n",
              "            '<a target=\"_blank\" href=https://colab.research.google.com/notebooks/data_table.ipynb>data table notebook</a>'\n",
              "            + ' to learn more about interactive tables.';\n",
              "          element.innerHTML = '';\n",
              "          dataTable['output_type'] = 'display_data';\n",
              "          await google.colab.output.renderOutput(dataTable, element);\n",
              "          const docLink = document.createElement('div');\n",
              "          docLink.innerHTML = docLinkHtml;\n",
              "          element.appendChild(docLink);\n",
              "        }\n",
              "      </script>\n",
              "    </div>\n",
              "  </div>\n",
              "  "
            ]
          },
          "metadata": {},
          "execution_count": 65
        }
      ],
      "source": [
        "data_df.describe()"
      ]
    },
    {
      "cell_type": "code",
      "execution_count": 66,
      "metadata": {
        "id": "4xKCzjrYShGN",
        "colab": {
          "base_uri": "https://localhost:8080/",
          "height": 174
        },
        "outputId": "4f3b82c7-7080-4c6d-fc92-eca775823d22"
      },
      "outputs": [
        {
          "output_type": "execute_result",
          "data": {
            "text/plain": [
              "                                                                                                                                                       Text  \\\n",
              "count   9682                                                                                                                                                  \n",
              "unique  9682                                                                                                                                                  \n",
              "top     ٦٠ \\nاللي يوصل ميلان ولا يمر هالمطعم اعتبرة خسران خسران مطعم مرتب اكل نظيف ولذيذ جداً و العاملين محترمين انا صراحة بدون مجاملة اعطي المطعم ٩٩،٩/١٠٠   \n",
              "freq    1                                                                                                                                                     \n",
              "\n",
              "       Clean Text tokens unCleaned tokens  \n",
              "count   9682       9682   9682             \n",
              "unique  9604       9603   9673             \n",
              "top                []     []               \n",
              "freq    42         43     4                "
            ],
            "text/html": [
              "\n",
              "  <div id=\"df-4ce64d9a-b230-4cfb-b328-32c4063aaf99\">\n",
              "    <div class=\"colab-df-container\">\n",
              "      <div>\n",
              "<style scoped>\n",
              "    .dataframe tbody tr th:only-of-type {\n",
              "        vertical-align: middle;\n",
              "    }\n",
              "\n",
              "    .dataframe tbody tr th {\n",
              "        vertical-align: top;\n",
              "    }\n",
              "\n",
              "    .dataframe thead th {\n",
              "        text-align: right;\n",
              "    }\n",
              "</style>\n",
              "<table border=\"1\" class=\"dataframe\">\n",
              "  <thead>\n",
              "    <tr style=\"text-align: right;\">\n",
              "      <th></th>\n",
              "      <th>Text</th>\n",
              "      <th>Clean Text</th>\n",
              "      <th>tokens</th>\n",
              "      <th>unCleaned tokens</th>\n",
              "    </tr>\n",
              "  </thead>\n",
              "  <tbody>\n",
              "    <tr>\n",
              "      <th>count</th>\n",
              "      <td>9682</td>\n",
              "      <td>9682</td>\n",
              "      <td>9682</td>\n",
              "      <td>9682</td>\n",
              "    </tr>\n",
              "    <tr>\n",
              "      <th>unique</th>\n",
              "      <td>9682</td>\n",
              "      <td>9604</td>\n",
              "      <td>9603</td>\n",
              "      <td>9673</td>\n",
              "    </tr>\n",
              "    <tr>\n",
              "      <th>top</th>\n",
              "      <td>٦٠ \\nاللي يوصل ميلان ولا يمر هالمطعم اعتبرة خسران خسران مطعم مرتب اكل نظيف ولذيذ جداً و العاملين محترمين انا صراحة بدون مجاملة اعطي المطعم ٩٩،٩/١٠٠</td>\n",
              "      <td></td>\n",
              "      <td>[]</td>\n",
              "      <td>[]</td>\n",
              "    </tr>\n",
              "    <tr>\n",
              "      <th>freq</th>\n",
              "      <td>1</td>\n",
              "      <td>42</td>\n",
              "      <td>43</td>\n",
              "      <td>4</td>\n",
              "    </tr>\n",
              "  </tbody>\n",
              "</table>\n",
              "</div>\n",
              "      <button class=\"colab-df-convert\" onclick=\"convertToInteractive('df-4ce64d9a-b230-4cfb-b328-32c4063aaf99')\"\n",
              "              title=\"Convert this dataframe to an interactive table.\"\n",
              "              style=\"display:none;\">\n",
              "        \n",
              "  <svg xmlns=\"http://www.w3.org/2000/svg\" height=\"24px\"viewBox=\"0 0 24 24\"\n",
              "       width=\"24px\">\n",
              "    <path d=\"M0 0h24v24H0V0z\" fill=\"none\"/>\n",
              "    <path d=\"M18.56 5.44l.94 2.06.94-2.06 2.06-.94-2.06-.94-.94-2.06-.94 2.06-2.06.94zm-11 1L8.5 8.5l.94-2.06 2.06-.94-2.06-.94L8.5 2.5l-.94 2.06-2.06.94zm10 10l.94 2.06.94-2.06 2.06-.94-2.06-.94-.94-2.06-.94 2.06-2.06.94z\"/><path d=\"M17.41 7.96l-1.37-1.37c-.4-.4-.92-.59-1.43-.59-.52 0-1.04.2-1.43.59L10.3 9.45l-7.72 7.72c-.78.78-.78 2.05 0 2.83L4 21.41c.39.39.9.59 1.41.59.51 0 1.02-.2 1.41-.59l7.78-7.78 2.81-2.81c.8-.78.8-2.07 0-2.86zM5.41 20L4 18.59l7.72-7.72 1.47 1.35L5.41 20z\"/>\n",
              "  </svg>\n",
              "      </button>\n",
              "      \n",
              "  <style>\n",
              "    .colab-df-container {\n",
              "      display:flex;\n",
              "      flex-wrap:wrap;\n",
              "      gap: 12px;\n",
              "    }\n",
              "\n",
              "    .colab-df-convert {\n",
              "      background-color: #E8F0FE;\n",
              "      border: none;\n",
              "      border-radius: 50%;\n",
              "      cursor: pointer;\n",
              "      display: none;\n",
              "      fill: #1967D2;\n",
              "      height: 32px;\n",
              "      padding: 0 0 0 0;\n",
              "      width: 32px;\n",
              "    }\n",
              "\n",
              "    .colab-df-convert:hover {\n",
              "      background-color: #E2EBFA;\n",
              "      box-shadow: 0px 1px 2px rgba(60, 64, 67, 0.3), 0px 1px 3px 1px rgba(60, 64, 67, 0.15);\n",
              "      fill: #174EA6;\n",
              "    }\n",
              "\n",
              "    [theme=dark] .colab-df-convert {\n",
              "      background-color: #3B4455;\n",
              "      fill: #D2E3FC;\n",
              "    }\n",
              "\n",
              "    [theme=dark] .colab-df-convert:hover {\n",
              "      background-color: #434B5C;\n",
              "      box-shadow: 0px 1px 3px 1px rgba(0, 0, 0, 0.15);\n",
              "      filter: drop-shadow(0px 1px 2px rgba(0, 0, 0, 0.3));\n",
              "      fill: #FFFFFF;\n",
              "    }\n",
              "  </style>\n",
              "\n",
              "      <script>\n",
              "        const buttonEl =\n",
              "          document.querySelector('#df-4ce64d9a-b230-4cfb-b328-32c4063aaf99 button.colab-df-convert');\n",
              "        buttonEl.style.display =\n",
              "          google.colab.kernel.accessAllowed ? 'block' : 'none';\n",
              "\n",
              "        async function convertToInteractive(key) {\n",
              "          const element = document.querySelector('#df-4ce64d9a-b230-4cfb-b328-32c4063aaf99');\n",
              "          const dataTable =\n",
              "            await google.colab.kernel.invokeFunction('convertToInteractive',\n",
              "                                                     [key], {});\n",
              "          if (!dataTable) return;\n",
              "\n",
              "          const docLinkHtml = 'Like what you see? Visit the ' +\n",
              "            '<a target=\"_blank\" href=https://colab.research.google.com/notebooks/data_table.ipynb>data table notebook</a>'\n",
              "            + ' to learn more about interactive tables.';\n",
              "          element.innerHTML = '';\n",
              "          dataTable['output_type'] = 'display_data';\n",
              "          await google.colab.output.renderOutput(dataTable, element);\n",
              "          const docLink = document.createElement('div');\n",
              "          docLink.innerHTML = docLinkHtml;\n",
              "          element.appendChild(docLink);\n",
              "        }\n",
              "      </script>\n",
              "    </div>\n",
              "  </div>\n",
              "  "
            ]
          },
          "metadata": {},
          "execution_count": 66
        }
      ],
      "source": [
        "data_df.describe(include=['object'])"
      ]
    },
    {
      "cell_type": "code",
      "execution_count": 67,
      "metadata": {
        "id": "mOh4gl7tSwqj",
        "colab": {
          "base_uri": "https://localhost:8080/"
        },
        "outputId": "481a1949-e053-4ca5-9a28-f83ce005fe01"
      },
      "outputs": [
        {
          "output_type": "execute_result",
          "data": {
            "text/plain": [
              "0.00000    7097\n",
              "1.00000    2585\n",
              "Name: Sentiment, dtype: int64"
            ]
          },
          "metadata": {},
          "execution_count": 67
        }
      ],
      "source": [
        "data_df['Sentiment'].value_counts()"
      ]
    },
    {
      "cell_type": "code",
      "execution_count": 68,
      "metadata": {
        "id": "Hb1JQYzVdFnd"
      },
      "outputs": [],
      "source": [
        "from sklearn.feature_extraction.text import TfidfTransformer\n",
        "from sklearn.feature_extraction.text import CountVectorizer\n"
      ]
    },
    {
      "cell_type": "code",
      "execution_count": 69,
      "metadata": {
        "id": "TSbFDvajdOxG",
        "colab": {
          "base_uri": "https://localhost:8080/"
        },
        "outputId": "e70fb814-27c5-48e1-8a26-820161ec2f66"
      },
      "outputs": [
        {
          "output_type": "execute_result",
          "data": {
            "text/plain": [
              "(9682, 11802)"
            ]
          },
          "metadata": {},
          "execution_count": 69
        }
      ],
      "source": [
        "#for instantiate CountVectorizer()\n",
        "countVec= CountVectorizer()\n",
        "#for the result word counts for the words\n",
        "word_count_vector=countVec.fit_transform(data_df[\"Clean Text\"].values.astype('U')) # Stemming not clean text\n",
        "word_count_vector.shape"
      ]
    },
    {
      "cell_type": "code",
      "execution_count": 70,
      "metadata": {
        "id": "lyA1ZWO1d6mi",
        "colab": {
          "base_uri": "https://localhost:8080/"
        },
        "outputId": "2aede389-55c5-4d45-d68b-27484f592f45"
      },
      "outputs": [
        {
          "output_type": "execute_result",
          "data": {
            "text/plain": [
              "TfidfTransformer()"
            ]
          },
          "metadata": {},
          "execution_count": 70
        }
      ],
      "source": [
        "#Transform a count matrix to a normalized tf-idf \n",
        "tfidf_transformer=TfidfTransformer(smooth_idf=True,use_idf=True)\n",
        "#this for the idf values\n",
        "tfidf_transformer.fit(word_count_vector)"
      ]
    },
    {
      "cell_type": "code",
      "execution_count": 71,
      "metadata": {
        "id": "nWTDxcSaejIz",
        "colab": {
          "base_uri": "https://localhost:8080/"
        },
        "outputId": "60cc346c-49d3-4536-ceee-8ec54547848e"
      },
      "outputs": [
        {
          "output_type": "stream",
          "name": "stderr",
          "text": [
            "/usr/local/lib/python3.7/dist-packages/sklearn/utils/deprecation.py:87: FutureWarning: Function get_feature_names is deprecated; get_feature_names is deprecated in 1.0 and will be removed in 1.2. Please use get_feature_names_out instead.\n",
            "  warnings.warn(msg, category=FutureWarning)\n"
          ]
        }
      ],
      "source": [
        "#print idf values\n",
        "df_idf=pd.DataFrame(tfidf_transformer.idf_,index=countVec.get_feature_names(),columns=['weight_of_words'])"
      ]
    },
    {
      "cell_type": "code",
      "execution_count": 72,
      "metadata": {
        "id": "sRI2hREvaZgn",
        "colab": {
          "base_uri": "https://localhost:8080/",
          "height": 520
        },
        "outputId": "690a1dd1-49fc-4ef2-9f56-fab9cb39acaa"
      },
      "outputs": [
        {
          "output_type": "execute_result",
          "data": {
            "text/plain": [
              "     weight_of_words\n",
              "اكل 2.14577         \n",
              "جدا 2.19230         \n",
              "طعم 2.25152         \n",
              "سعر 2.33428         \n",
              "خدم 2.50910         \n",
              "لذذ 2.64550         \n",
              "جرب 2.68592         \n",
              "ريع 2.71706         \n",
              "فضل 2.73857         \n",
              "طلب 2.83405         \n",
              "نظف 2.97920         \n",
              "كان 2.99806         \n",
              "جيد 2.99882         \n",
              "قدم 3.04085         \n",
              "نسب 3.10063         "
            ],
            "text/html": [
              "\n",
              "  <div id=\"df-8eb28645-f572-4be8-86a3-9e5ab0f767e7\">\n",
              "    <div class=\"colab-df-container\">\n",
              "      <div>\n",
              "<style scoped>\n",
              "    .dataframe tbody tr th:only-of-type {\n",
              "        vertical-align: middle;\n",
              "    }\n",
              "\n",
              "    .dataframe tbody tr th {\n",
              "        vertical-align: top;\n",
              "    }\n",
              "\n",
              "    .dataframe thead th {\n",
              "        text-align: right;\n",
              "    }\n",
              "</style>\n",
              "<table border=\"1\" class=\"dataframe\">\n",
              "  <thead>\n",
              "    <tr style=\"text-align: right;\">\n",
              "      <th></th>\n",
              "      <th>weight_of_words</th>\n",
              "    </tr>\n",
              "  </thead>\n",
              "  <tbody>\n",
              "    <tr>\n",
              "      <th>اكل</th>\n",
              "      <td>2.14577</td>\n",
              "    </tr>\n",
              "    <tr>\n",
              "      <th>جدا</th>\n",
              "      <td>2.19230</td>\n",
              "    </tr>\n",
              "    <tr>\n",
              "      <th>طعم</th>\n",
              "      <td>2.25152</td>\n",
              "    </tr>\n",
              "    <tr>\n",
              "      <th>سعر</th>\n",
              "      <td>2.33428</td>\n",
              "    </tr>\n",
              "    <tr>\n",
              "      <th>خدم</th>\n",
              "      <td>2.50910</td>\n",
              "    </tr>\n",
              "    <tr>\n",
              "      <th>لذذ</th>\n",
              "      <td>2.64550</td>\n",
              "    </tr>\n",
              "    <tr>\n",
              "      <th>جرب</th>\n",
              "      <td>2.68592</td>\n",
              "    </tr>\n",
              "    <tr>\n",
              "      <th>ريع</th>\n",
              "      <td>2.71706</td>\n",
              "    </tr>\n",
              "    <tr>\n",
              "      <th>فضل</th>\n",
              "      <td>2.73857</td>\n",
              "    </tr>\n",
              "    <tr>\n",
              "      <th>طلب</th>\n",
              "      <td>2.83405</td>\n",
              "    </tr>\n",
              "    <tr>\n",
              "      <th>نظف</th>\n",
              "      <td>2.97920</td>\n",
              "    </tr>\n",
              "    <tr>\n",
              "      <th>كان</th>\n",
              "      <td>2.99806</td>\n",
              "    </tr>\n",
              "    <tr>\n",
              "      <th>جيد</th>\n",
              "      <td>2.99882</td>\n",
              "    </tr>\n",
              "    <tr>\n",
              "      <th>قدم</th>\n",
              "      <td>3.04085</td>\n",
              "    </tr>\n",
              "    <tr>\n",
              "      <th>نسب</th>\n",
              "      <td>3.10063</td>\n",
              "    </tr>\n",
              "  </tbody>\n",
              "</table>\n",
              "</div>\n",
              "      <button class=\"colab-df-convert\" onclick=\"convertToInteractive('df-8eb28645-f572-4be8-86a3-9e5ab0f767e7')\"\n",
              "              title=\"Convert this dataframe to an interactive table.\"\n",
              "              style=\"display:none;\">\n",
              "        \n",
              "  <svg xmlns=\"http://www.w3.org/2000/svg\" height=\"24px\"viewBox=\"0 0 24 24\"\n",
              "       width=\"24px\">\n",
              "    <path d=\"M0 0h24v24H0V0z\" fill=\"none\"/>\n",
              "    <path d=\"M18.56 5.44l.94 2.06.94-2.06 2.06-.94-2.06-.94-.94-2.06-.94 2.06-2.06.94zm-11 1L8.5 8.5l.94-2.06 2.06-.94-2.06-.94L8.5 2.5l-.94 2.06-2.06.94zm10 10l.94 2.06.94-2.06 2.06-.94-2.06-.94-.94-2.06-.94 2.06-2.06.94z\"/><path d=\"M17.41 7.96l-1.37-1.37c-.4-.4-.92-.59-1.43-.59-.52 0-1.04.2-1.43.59L10.3 9.45l-7.72 7.72c-.78.78-.78 2.05 0 2.83L4 21.41c.39.39.9.59 1.41.59.51 0 1.02-.2 1.41-.59l7.78-7.78 2.81-2.81c.8-.78.8-2.07 0-2.86zM5.41 20L4 18.59l7.72-7.72 1.47 1.35L5.41 20z\"/>\n",
              "  </svg>\n",
              "      </button>\n",
              "      \n",
              "  <style>\n",
              "    .colab-df-container {\n",
              "      display:flex;\n",
              "      flex-wrap:wrap;\n",
              "      gap: 12px;\n",
              "    }\n",
              "\n",
              "    .colab-df-convert {\n",
              "      background-color: #E8F0FE;\n",
              "      border: none;\n",
              "      border-radius: 50%;\n",
              "      cursor: pointer;\n",
              "      display: none;\n",
              "      fill: #1967D2;\n",
              "      height: 32px;\n",
              "      padding: 0 0 0 0;\n",
              "      width: 32px;\n",
              "    }\n",
              "\n",
              "    .colab-df-convert:hover {\n",
              "      background-color: #E2EBFA;\n",
              "      box-shadow: 0px 1px 2px rgba(60, 64, 67, 0.3), 0px 1px 3px 1px rgba(60, 64, 67, 0.15);\n",
              "      fill: #174EA6;\n",
              "    }\n",
              "\n",
              "    [theme=dark] .colab-df-convert {\n",
              "      background-color: #3B4455;\n",
              "      fill: #D2E3FC;\n",
              "    }\n",
              "\n",
              "    [theme=dark] .colab-df-convert:hover {\n",
              "      background-color: #434B5C;\n",
              "      box-shadow: 0px 1px 3px 1px rgba(0, 0, 0, 0.15);\n",
              "      filter: drop-shadow(0px 1px 2px rgba(0, 0, 0, 0.3));\n",
              "      fill: #FFFFFF;\n",
              "    }\n",
              "  </style>\n",
              "\n",
              "      <script>\n",
              "        const buttonEl =\n",
              "          document.querySelector('#df-8eb28645-f572-4be8-86a3-9e5ab0f767e7 button.colab-df-convert');\n",
              "        buttonEl.style.display =\n",
              "          google.colab.kernel.accessAllowed ? 'block' : 'none';\n",
              "\n",
              "        async function convertToInteractive(key) {\n",
              "          const element = document.querySelector('#df-8eb28645-f572-4be8-86a3-9e5ab0f767e7');\n",
              "          const dataTable =\n",
              "            await google.colab.kernel.invokeFunction('convertToInteractive',\n",
              "                                                     [key], {});\n",
              "          if (!dataTable) return;\n",
              "\n",
              "          const docLinkHtml = 'Like what you see? Visit the ' +\n",
              "            '<a target=\"_blank\" href=https://colab.research.google.com/notebooks/data_table.ipynb>data table notebook</a>'\n",
              "            + ' to learn more about interactive tables.';\n",
              "          element.innerHTML = '';\n",
              "          dataTable['output_type'] = 'display_data';\n",
              "          await google.colab.output.renderOutput(dataTable, element);\n",
              "          const docLink = document.createElement('div');\n",
              "          docLink.innerHTML = docLinkHtml;\n",
              "          element.appendChild(docLink);\n",
              "        }\n",
              "      </script>\n",
              "    </div>\n",
              "  </div>\n",
              "  "
            ]
          },
          "metadata": {},
          "execution_count": 72
        }
      ],
      "source": [
        "#the most occurrences words\n",
        "df_idf.sort_values(by=['weight_of_words']).head(15)"
      ]
    },
    {
      "cell_type": "code",
      "execution_count": 73,
      "metadata": {
        "id": "iO2aymWnaZ1F",
        "colab": {
          "base_uri": "https://localhost:8080/",
          "height": 520
        },
        "outputId": "979c0381-78eb-4771-b6ac-45696e0cc678"
      },
      "outputs": [
        {
          "output_type": "execute_result",
          "data": {
            "text/plain": [
              "               weight_of_words\n",
              "بيبسي1مويه    9.48498         \n",
              "فتي           9.48498         \n",
              "بيترتشوكلت    9.48498         \n",
              "بيتزاريفيك    9.48498         \n",
              "بيتزاوالثانيه 9.48498         \n",
              "فجم           9.48498         \n",
              "فجك           9.48498         \n",
              "بيث           9.48498         \n",
              "فجد           9.48498         \n",
              "بيجيبولك      9.48498         \n",
              "بيراميدز      9.48498         \n",
              "بيرثدايز      9.48498         \n",
              "فج            9.48498         \n",
              "فحت           9.48498         \n",
              "ﻳﻨﺎﺳﺐ         9.48498         "
            ],
            "text/html": [
              "\n",
              "  <div id=\"df-9f8d17fd-ea9c-4e82-b188-1353b5378df7\">\n",
              "    <div class=\"colab-df-container\">\n",
              "      <div>\n",
              "<style scoped>\n",
              "    .dataframe tbody tr th:only-of-type {\n",
              "        vertical-align: middle;\n",
              "    }\n",
              "\n",
              "    .dataframe tbody tr th {\n",
              "        vertical-align: top;\n",
              "    }\n",
              "\n",
              "    .dataframe thead th {\n",
              "        text-align: right;\n",
              "    }\n",
              "</style>\n",
              "<table border=\"1\" class=\"dataframe\">\n",
              "  <thead>\n",
              "    <tr style=\"text-align: right;\">\n",
              "      <th></th>\n",
              "      <th>weight_of_words</th>\n",
              "    </tr>\n",
              "  </thead>\n",
              "  <tbody>\n",
              "    <tr>\n",
              "      <th>بيبسي1مويه</th>\n",
              "      <td>9.48498</td>\n",
              "    </tr>\n",
              "    <tr>\n",
              "      <th>فتي</th>\n",
              "      <td>9.48498</td>\n",
              "    </tr>\n",
              "    <tr>\n",
              "      <th>بيترتشوكلت</th>\n",
              "      <td>9.48498</td>\n",
              "    </tr>\n",
              "    <tr>\n",
              "      <th>بيتزاريفيك</th>\n",
              "      <td>9.48498</td>\n",
              "    </tr>\n",
              "    <tr>\n",
              "      <th>بيتزاوالثانيه</th>\n",
              "      <td>9.48498</td>\n",
              "    </tr>\n",
              "    <tr>\n",
              "      <th>فجم</th>\n",
              "      <td>9.48498</td>\n",
              "    </tr>\n",
              "    <tr>\n",
              "      <th>فجك</th>\n",
              "      <td>9.48498</td>\n",
              "    </tr>\n",
              "    <tr>\n",
              "      <th>بيث</th>\n",
              "      <td>9.48498</td>\n",
              "    </tr>\n",
              "    <tr>\n",
              "      <th>فجد</th>\n",
              "      <td>9.48498</td>\n",
              "    </tr>\n",
              "    <tr>\n",
              "      <th>بيجيبولك</th>\n",
              "      <td>9.48498</td>\n",
              "    </tr>\n",
              "    <tr>\n",
              "      <th>بيراميدز</th>\n",
              "      <td>9.48498</td>\n",
              "    </tr>\n",
              "    <tr>\n",
              "      <th>بيرثدايز</th>\n",
              "      <td>9.48498</td>\n",
              "    </tr>\n",
              "    <tr>\n",
              "      <th>فج</th>\n",
              "      <td>9.48498</td>\n",
              "    </tr>\n",
              "    <tr>\n",
              "      <th>فحت</th>\n",
              "      <td>9.48498</td>\n",
              "    </tr>\n",
              "    <tr>\n",
              "      <th>ﻳﻨﺎﺳﺐ</th>\n",
              "      <td>9.48498</td>\n",
              "    </tr>\n",
              "  </tbody>\n",
              "</table>\n",
              "</div>\n",
              "      <button class=\"colab-df-convert\" onclick=\"convertToInteractive('df-9f8d17fd-ea9c-4e82-b188-1353b5378df7')\"\n",
              "              title=\"Convert this dataframe to an interactive table.\"\n",
              "              style=\"display:none;\">\n",
              "        \n",
              "  <svg xmlns=\"http://www.w3.org/2000/svg\" height=\"24px\"viewBox=\"0 0 24 24\"\n",
              "       width=\"24px\">\n",
              "    <path d=\"M0 0h24v24H0V0z\" fill=\"none\"/>\n",
              "    <path d=\"M18.56 5.44l.94 2.06.94-2.06 2.06-.94-2.06-.94-.94-2.06-.94 2.06-2.06.94zm-11 1L8.5 8.5l.94-2.06 2.06-.94-2.06-.94L8.5 2.5l-.94 2.06-2.06.94zm10 10l.94 2.06.94-2.06 2.06-.94-2.06-.94-.94-2.06-.94 2.06-2.06.94z\"/><path d=\"M17.41 7.96l-1.37-1.37c-.4-.4-.92-.59-1.43-.59-.52 0-1.04.2-1.43.59L10.3 9.45l-7.72 7.72c-.78.78-.78 2.05 0 2.83L4 21.41c.39.39.9.59 1.41.59.51 0 1.02-.2 1.41-.59l7.78-7.78 2.81-2.81c.8-.78.8-2.07 0-2.86zM5.41 20L4 18.59l7.72-7.72 1.47 1.35L5.41 20z\"/>\n",
              "  </svg>\n",
              "      </button>\n",
              "      \n",
              "  <style>\n",
              "    .colab-df-container {\n",
              "      display:flex;\n",
              "      flex-wrap:wrap;\n",
              "      gap: 12px;\n",
              "    }\n",
              "\n",
              "    .colab-df-convert {\n",
              "      background-color: #E8F0FE;\n",
              "      border: none;\n",
              "      border-radius: 50%;\n",
              "      cursor: pointer;\n",
              "      display: none;\n",
              "      fill: #1967D2;\n",
              "      height: 32px;\n",
              "      padding: 0 0 0 0;\n",
              "      width: 32px;\n",
              "    }\n",
              "\n",
              "    .colab-df-convert:hover {\n",
              "      background-color: #E2EBFA;\n",
              "      box-shadow: 0px 1px 2px rgba(60, 64, 67, 0.3), 0px 1px 3px 1px rgba(60, 64, 67, 0.15);\n",
              "      fill: #174EA6;\n",
              "    }\n",
              "\n",
              "    [theme=dark] .colab-df-convert {\n",
              "      background-color: #3B4455;\n",
              "      fill: #D2E3FC;\n",
              "    }\n",
              "\n",
              "    [theme=dark] .colab-df-convert:hover {\n",
              "      background-color: #434B5C;\n",
              "      box-shadow: 0px 1px 3px 1px rgba(0, 0, 0, 0.15);\n",
              "      filter: drop-shadow(0px 1px 2px rgba(0, 0, 0, 0.3));\n",
              "      fill: #FFFFFF;\n",
              "    }\n",
              "  </style>\n",
              "\n",
              "      <script>\n",
              "        const buttonEl =\n",
              "          document.querySelector('#df-9f8d17fd-ea9c-4e82-b188-1353b5378df7 button.colab-df-convert');\n",
              "        buttonEl.style.display =\n",
              "          google.colab.kernel.accessAllowed ? 'block' : 'none';\n",
              "\n",
              "        async function convertToInteractive(key) {\n",
              "          const element = document.querySelector('#df-9f8d17fd-ea9c-4e82-b188-1353b5378df7');\n",
              "          const dataTable =\n",
              "            await google.colab.kernel.invokeFunction('convertToInteractive',\n",
              "                                                     [key], {});\n",
              "          if (!dataTable) return;\n",
              "\n",
              "          const docLinkHtml = 'Like what you see? Visit the ' +\n",
              "            '<a target=\"_blank\" href=https://colab.research.google.com/notebooks/data_table.ipynb>data table notebook</a>'\n",
              "            + ' to learn more about interactive tables.';\n",
              "          element.innerHTML = '';\n",
              "          dataTable['output_type'] = 'display_data';\n",
              "          await google.colab.output.renderOutput(dataTable, element);\n",
              "          const docLink = document.createElement('div');\n",
              "          docLink.innerHTML = docLinkHtml;\n",
              "          element.appendChild(docLink);\n",
              "        }\n",
              "      </script>\n",
              "    </div>\n",
              "  </div>\n",
              "  "
            ]
          },
          "metadata": {},
          "execution_count": 73
        }
      ],
      "source": [
        "#the least occurrences words\n",
        "df_idf.sort_values(by=['weight_of_words']).tail(15)"
      ]
    },
    {
      "cell_type": "markdown",
      "metadata": {
        "id": "VINsCLItd5Nu"
      },
      "source": [
        "*Predictive Analytics*‏\n"
      ]
    },
    {
      "cell_type": "code",
      "execution_count": 74,
      "metadata": {
        "id": "p5AmTEGyoQCq"
      },
      "outputs": [],
      "source": [
        "# # change values to numeric\n",
        "# data_df['Sentiment'] = data_df['Sentiment'].map({'Positive ': 0, 'Negative ': 1}) "
      ]
    },
    {
      "cell_type": "code",
      "execution_count": 75,
      "metadata": {
        "id": "8KfR-oejsEfc"
      },
      "outputs": [],
      "source": [
        " # drop all unnecessary columns \n",
        "data_df=data_df.drop(columns=['Text', 'text length' , 'tokens' , 'unCleaned tokens'])"
      ]
    },
    {
      "cell_type": "code",
      "execution_count": 76,
      "metadata": {
        "id": "jFJPihy9oQCr"
      },
      "outputs": [],
      "source": [
        "# identify the data and the labels\n",
        "# the independent variable \n",
        "data= data_df['Clean Text'] #Stemming not clean text\n",
        "# the dependent variable \n",
        "target= data_df['Sentiment']"
      ]
    },
    {
      "cell_type": "code",
      "execution_count": 77,
      "metadata": {
        "id": "Q26R4fRRoQCs",
        "colab": {
          "base_uri": "https://localhost:8080/"
        },
        "outputId": "814e0712-e233-4549-dcb5-1de9f370f02c"
      },
      "outputs": [
        {
          "output_type": "execute_result",
          "data": {
            "text/plain": [
              "(9682, 11802)"
            ]
          },
          "metadata": {},
          "execution_count": 77
        }
      ],
      "source": [
        "# Use TfidfVectorizer for feature extraction (TFIDF to convert textual data to numeric form):\n",
        "tf_vec = TfidfVectorizer()\n",
        "X = tf_vec.fit_transform(data)\n",
        "X.shape"
      ]
    },
    {
      "cell_type": "code",
      "execution_count": 78,
      "metadata": {
        "id": "infv8m6ooQCs"
      },
      "outputs": [],
      "source": [
        "# Training Phase\n",
        "X_train, X_test, y_train, y_test = train_test_split(X, target, test_size=0.30, random_state=0)"
      ]
    },
    {
      "cell_type": "code",
      "execution_count": 79,
      "metadata": {
        "colab": {
          "base_uri": "https://localhost:8080/"
        },
        "id": "mPw2sJV-oQCu",
        "outputId": "300aa336-042a-457a-c93a-e66dd0e6001d"
      },
      "outputs": [
        {
          "output_type": "stream",
          "name": "stdout",
          "text": [
            "(6777, 11802) (2905, 11802) (6777,) (2905,)\n"
          ]
        }
      ],
      "source": [
        "print(X_train.shape,X_test.shape,y_train.shape,y_test.shape)"
      ]
    },
    {
      "cell_type": "markdown",
      "metadata": {
        "id": "rr5L00JACvnv"
      },
      "source": [
        "# Classifier 1: Naive Bayes"
      ]
    },
    {
      "cell_type": "code",
      "execution_count": 80,
      "metadata": {
        "colab": {
          "base_uri": "https://localhost:8080/"
        },
        "id": "gXuoTf8V7GKL",
        "outputId": "7a8943b7-41c2-4894-ea9c-6fa84b16b8dc"
      },
      "outputs": [
        {
          "output_type": "stream",
          "name": "stderr",
          "text": [
            "/usr/local/lib/python3.7/dist-packages/sklearn/utils/validation.py:598: FutureWarning: np.matrix usage is deprecated in 1.0 and will raise a TypeError in 1.2. Please convert to a numpy array with np.asarray. For more information see: https://numpy.org/doc/stable/reference/generated/numpy.matrix.html\n",
            "  FutureWarning,\n"
          ]
        },
        {
          "output_type": "stream",
          "name": "stdout",
          "text": [
            "MultinomialNB accuracy: 0.75\n"
          ]
        },
        {
          "output_type": "stream",
          "name": "stderr",
          "text": [
            "/usr/local/lib/python3.7/dist-packages/sklearn/utils/validation.py:598: FutureWarning: np.matrix usage is deprecated in 1.0 and will raise a TypeError in 1.2. Please convert to a numpy array with np.asarray. For more information see: https://numpy.org/doc/stable/reference/generated/numpy.matrix.html\n",
            "  FutureWarning,\n"
          ]
        }
      ],
      "source": [
        "# create the classifer and fit the training data and lables\n",
        "classifier_nb = MultinomialNB().fit(X_train.todense(),y_train)\n",
        "\n",
        "print(\"MultinomialNB accuracy: %.2f\"%classifier_nb.score(X_test.todense(), y_test))"
      ]
    },
    {
      "cell_type": "code",
      "execution_count": 81,
      "metadata": {
        "colab": {
          "base_uri": "https://localhost:8080/"
        },
        "id": "gg7zNY-62eop",
        "outputId": "c8bcc2f7-0c2e-4354-a1ea-e29337931b2e"
      },
      "outputs": [
        {
          "output_type": "stream",
          "name": "stderr",
          "text": [
            "/usr/local/lib/python3.7/dist-packages/sklearn/utils/validation.py:598: FutureWarning: np.matrix usage is deprecated in 1.0 and will raise a TypeError in 1.2. Please convert to a numpy array with np.asarray. For more information see: https://numpy.org/doc/stable/reference/generated/numpy.matrix.html\n",
            "  FutureWarning,\n",
            "/usr/local/lib/python3.7/dist-packages/sklearn/utils/validation.py:598: FutureWarning: np.matrix usage is deprecated in 1.0 and will raise a TypeError in 1.2. Please convert to a numpy array with np.asarray. For more information see: https://numpy.org/doc/stable/reference/generated/numpy.matrix.html\n",
            "  FutureWarning,\n",
            "/usr/local/lib/python3.7/dist-packages/sklearn/utils/validation.py:598: FutureWarning: np.matrix usage is deprecated in 1.0 and will raise a TypeError in 1.2. Please convert to a numpy array with np.asarray. For more information see: https://numpy.org/doc/stable/reference/generated/numpy.matrix.html\n",
            "  FutureWarning,\n",
            "/usr/local/lib/python3.7/dist-packages/sklearn/utils/validation.py:598: FutureWarning: np.matrix usage is deprecated in 1.0 and will raise a TypeError in 1.2. Please convert to a numpy array with np.asarray. For more information see: https://numpy.org/doc/stable/reference/generated/numpy.matrix.html\n",
            "  FutureWarning,\n",
            "/usr/local/lib/python3.7/dist-packages/sklearn/utils/validation.py:598: FutureWarning: np.matrix usage is deprecated in 1.0 and will raise a TypeError in 1.2. Please convert to a numpy array with np.asarray. For more information see: https://numpy.org/doc/stable/reference/generated/numpy.matrix.html\n",
            "  FutureWarning,\n",
            "/usr/local/lib/python3.7/dist-packages/sklearn/utils/validation.py:598: FutureWarning: np.matrix usage is deprecated in 1.0 and will raise a TypeError in 1.2. Please convert to a numpy array with np.asarray. For more information see: https://numpy.org/doc/stable/reference/generated/numpy.matrix.html\n",
            "  FutureWarning,\n",
            "/usr/local/lib/python3.7/dist-packages/sklearn/utils/validation.py:598: FutureWarning: np.matrix usage is deprecated in 1.0 and will raise a TypeError in 1.2. Please convert to a numpy array with np.asarray. For more information see: https://numpy.org/doc/stable/reference/generated/numpy.matrix.html\n",
            "  FutureWarning,\n",
            "/usr/local/lib/python3.7/dist-packages/sklearn/utils/validation.py:598: FutureWarning: np.matrix usage is deprecated in 1.0 and will raise a TypeError in 1.2. Please convert to a numpy array with np.asarray. For more information see: https://numpy.org/doc/stable/reference/generated/numpy.matrix.html\n",
            "  FutureWarning,\n",
            "/usr/local/lib/python3.7/dist-packages/sklearn/utils/validation.py:598: FutureWarning: np.matrix usage is deprecated in 1.0 and will raise a TypeError in 1.2. Please convert to a numpy array with np.asarray. For more information see: https://numpy.org/doc/stable/reference/generated/numpy.matrix.html\n",
            "  FutureWarning,\n",
            "/usr/local/lib/python3.7/dist-packages/sklearn/utils/validation.py:598: FutureWarning: np.matrix usage is deprecated in 1.0 and will raise a TypeError in 1.2. Please convert to a numpy array with np.asarray. For more information see: https://numpy.org/doc/stable/reference/generated/numpy.matrix.html\n",
            "  FutureWarning,\n",
            "/usr/local/lib/python3.7/dist-packages/sklearn/utils/validation.py:598: FutureWarning: np.matrix usage is deprecated in 1.0 and will raise a TypeError in 1.2. Please convert to a numpy array with np.asarray. For more information see: https://numpy.org/doc/stable/reference/generated/numpy.matrix.html\n",
            "  FutureWarning,\n",
            "/usr/local/lib/python3.7/dist-packages/sklearn/utils/validation.py:598: FutureWarning: np.matrix usage is deprecated in 1.0 and will raise a TypeError in 1.2. Please convert to a numpy array with np.asarray. For more information see: https://numpy.org/doc/stable/reference/generated/numpy.matrix.html\n",
            "  FutureWarning,\n",
            "/usr/local/lib/python3.7/dist-packages/sklearn/utils/validation.py:598: FutureWarning: np.matrix usage is deprecated in 1.0 and will raise a TypeError in 1.2. Please convert to a numpy array with np.asarray. For more information see: https://numpy.org/doc/stable/reference/generated/numpy.matrix.html\n",
            "  FutureWarning,\n",
            "/usr/local/lib/python3.7/dist-packages/sklearn/utils/validation.py:598: FutureWarning: np.matrix usage is deprecated in 1.0 and will raise a TypeError in 1.2. Please convert to a numpy array with np.asarray. For more information see: https://numpy.org/doc/stable/reference/generated/numpy.matrix.html\n",
            "  FutureWarning,\n",
            "/usr/local/lib/python3.7/dist-packages/sklearn/utils/validation.py:598: FutureWarning: np.matrix usage is deprecated in 1.0 and will raise a TypeError in 1.2. Please convert to a numpy array with np.asarray. For more information see: https://numpy.org/doc/stable/reference/generated/numpy.matrix.html\n",
            "  FutureWarning,\n",
            "/usr/local/lib/python3.7/dist-packages/sklearn/utils/validation.py:598: FutureWarning: np.matrix usage is deprecated in 1.0 and will raise a TypeError in 1.2. Please convert to a numpy array with np.asarray. For more information see: https://numpy.org/doc/stable/reference/generated/numpy.matrix.html\n",
            "  FutureWarning,\n",
            "/usr/local/lib/python3.7/dist-packages/sklearn/utils/validation.py:598: FutureWarning: np.matrix usage is deprecated in 1.0 and will raise a TypeError in 1.2. Please convert to a numpy array with np.asarray. For more information see: https://numpy.org/doc/stable/reference/generated/numpy.matrix.html\n",
            "  FutureWarning,\n",
            "/usr/local/lib/python3.7/dist-packages/sklearn/utils/validation.py:598: FutureWarning: np.matrix usage is deprecated in 1.0 and will raise a TypeError in 1.2. Please convert to a numpy array with np.asarray. For more information see: https://numpy.org/doc/stable/reference/generated/numpy.matrix.html\n",
            "  FutureWarning,\n",
            "/usr/local/lib/python3.7/dist-packages/sklearn/utils/validation.py:598: FutureWarning: np.matrix usage is deprecated in 1.0 and will raise a TypeError in 1.2. Please convert to a numpy array with np.asarray. For more information see: https://numpy.org/doc/stable/reference/generated/numpy.matrix.html\n",
            "  FutureWarning,\n",
            "/usr/local/lib/python3.7/dist-packages/sklearn/utils/validation.py:598: FutureWarning: np.matrix usage is deprecated in 1.0 and will raise a TypeError in 1.2. Please convert to a numpy array with np.asarray. For more information see: https://numpy.org/doc/stable/reference/generated/numpy.matrix.html\n",
            "  FutureWarning,\n"
          ]
        }
      ],
      "source": [
        "#do a 10 fold cross-validation \n",
        "results_nb = cross_val_score(classifier_nb, X.todense(),target, cv=10)"
      ]
    },
    {
      "cell_type": "code",
      "execution_count": 82,
      "metadata": {
        "colab": {
          "base_uri": "https://localhost:8080/"
        },
        "id": "2n_Wetwk7LBI",
        "outputId": "6d83c05c-e8f1-4692-ad2e-73122dbd2070"
      },
      "outputs": [
        {
          "output_type": "stream",
          "name": "stdout",
          "text": [
            "\n",
            "10-fold cross-validation:\n",
            "[0.75438596 0.75232198 0.75516529 0.74896694 0.67975207 0.7696281\n",
            " 0.75929752 0.7572314  0.76342975 0.7696281 ]\n"
          ]
        }
      ],
      "source": [
        "\n",
        "print(\"\\n10-fold cross-validation:\")\n",
        "print(results_nb)"
      ]
    },
    {
      "cell_type": "code",
      "execution_count": 83,
      "metadata": {
        "colab": {
          "base_uri": "https://localhost:8080/"
        },
        "id": "q81a62BT7XGC",
        "outputId": "d0c9bdfb-366c-47c7-d8a8-8badd96ced29"
      },
      "outputs": [
        {
          "output_type": "stream",
          "name": "stdout",
          "text": [
            "The average accuracy of the MultinomialNB classifier is : 0.75\n"
          ]
        }
      ],
      "source": [
        "#calcuate the avrage accuracy\n",
        "print(\"The average accuracy of the MultinomialNB classifier is : %.2f\" % np.mean(results_nb))"
      ]
    },
    {
      "cell_type": "code",
      "execution_count": 84,
      "metadata": {
        "colab": {
          "base_uri": "https://localhost:8080/"
        },
        "id": "oVAPnn-h7iWT",
        "outputId": "5cd853f5-e3d1-48e5-88ec-a947ae524950"
      },
      "outputs": [
        {
          "output_type": "stream",
          "name": "stdout",
          "text": [
            "\n",
            "Confusion matrix of the MultinomialNB classifier:\n",
            "[[2117   13]\n",
            " [ 721   54]]\n"
          ]
        },
        {
          "output_type": "stream",
          "name": "stderr",
          "text": [
            "/usr/local/lib/python3.7/dist-packages/sklearn/utils/validation.py:598: FutureWarning: np.matrix usage is deprecated in 1.0 and will raise a TypeError in 1.2. Please convert to a numpy array with np.asarray. For more information see: https://numpy.org/doc/stable/reference/generated/numpy.matrix.html\n",
            "  FutureWarning,\n"
          ]
        }
      ],
      "source": [
        "#print confusion matrix\n",
        "print(\"\\nConfusion matrix of the MultinomialNB classifier:\")\n",
        "predicted_nb = classifier_nb.predict(X_test.todense())\n",
        "print(confusion_matrix(y_test,predicted_nb))"
      ]
    },
    {
      "cell_type": "code",
      "execution_count": 86,
      "metadata": {
        "colab": {
          "base_uri": "https://localhost:8080/"
        },
        "id": "ipISSdl2C40K",
        "outputId": "775ce14e-04e7-4d05-9027-44e0b9228a1f"
      },
      "outputs": [
        {
          "output_type": "stream",
          "name": "stdout",
          "text": [
            "\n",
            "Classification_report of MultinomialNB classifier:\n",
            "              precision    recall  f1-score   support\n",
            "\n",
            "         0.0       0.75      0.99      0.85      2130\n",
            "         1.0       0.81      0.07      0.13       775\n",
            "\n",
            "    accuracy                           0.75      2905\n",
            "   macro avg       0.78      0.53      0.49      2905\n",
            "weighted avg       0.76      0.75      0.66      2905\n",
            "\n",
            "----------------------------------------------------------------------------\n"
          ]
        }
      ],
      "source": [
        "#print Classification report\n",
        "print(\"\\nClassification_report of MultinomialNB classifier:\")\n",
        "print(classification_report(y_test,predicted_nb))\n",
        "print(\"----------------------------------------------------------------------------\")"
      ]
    },
    {
      "cell_type": "code",
      "execution_count": 87,
      "metadata": {
        "id": "hgAz3nRu80jT"
      },
      "outputs": [],
      "source": [
        "# calculate the fpr and tpr for all thresholds of the classification\n",
        "\n",
        "probs = classifier_nb.predict_proba(X_test)\n",
        "preds = probs[:,1]\n",
        "\n",
        "fpr, tpr, threshold = metrics.roc_curve(y_test, preds)\n",
        "roc_auc = metrics.auc(fpr, tpr)"
      ]
    },
    {
      "cell_type": "code",
      "execution_count": 88,
      "metadata": {
        "colab": {
          "base_uri": "https://localhost:8080/",
          "height": 296
        },
        "id": "0lPCfTGH844L",
        "outputId": "049f8764-828e-4e2c-db95-a30f663dd1be"
      },
      "outputs": [
        {
          "output_type": "display_data",
          "data": {
            "text/plain": [
              "<Figure size 432x288 with 1 Axes>"
            ],
            "image/png": "[encoded data removed]"
          },
          "metadata": {
            "needs_background": "light"
          }
        }
      ],
      "source": [
        "# polt AUC\n",
        "plt.title('Receiver Operating Characteristic for Naive Bayes classifier')\n",
        "plt.plot(fpr, tpr, 'b', label = 'AUC = %0.2f' % roc_auc)\n",
        "plt.legend(loc = 'lower right')\n",
        "plt.plot([0, 1], [0, 1],'r--')\n",
        "plt.xlim([0, 1])\n",
        "plt.ylim([0, 1])\n",
        "plt.ylabel('True Positive Rate')\n",
        "plt.xlabel('False Positive Rate')\n",
        "plt.show()"
      ]
    },
    {
      "cell_type": "markdown",
      "metadata": {
        "id": "r1-EUBDzoQCv"
      },
      "source": [
        "# Classifier 2: SVM\n",
        "\n",
        "\n",
        "\n",
        "\n"
      ]
    },
    {
      "cell_type": "code",
      "execution_count": 89,
      "metadata": {
        "colab": {
          "base_uri": "https://localhost:8080/"
        },
        "id": "T0BswQU3Eml1",
        "outputId": "baba5bd9-1ce7-4bf9-cccd-013acd7f7b29"
      },
      "outputs": [
        {
          "output_type": "stream",
          "name": "stdout",
          "text": [
            "SVM accuracy: 0.84\n"
          ]
        }
      ],
      "source": [
        "# create the classifer and fit the training data and lables\n",
        "classifier_svm = svm.SVC(kernel='linear', C=1, probability=True).fit(X_train,y_train)\n",
        "\n",
        "print(\"SVM accuracy: %.2f\"%classifier_svm.score(X_test, y_test))"
      ]
    },
    {
      "cell_type": "code",
      "execution_count": 90,
      "metadata": {
        "colab": {
          "base_uri": "https://localhost:8080/"
        },
        "id": "uA8T6v9oEmaF",
        "outputId": "935241ac-1cee-4e34-cd8c-b630e833088b"
      },
      "outputs": [
        {
          "output_type": "stream",
          "name": "stdout",
          "text": [
            "\n",
            "10-fold cross-validation:\n",
            "[0.89267286 0.88957688 0.82024793 0.73966942 0.58057851 0.86673554\n",
            " 0.88016529 0.87396694 0.86157025 0.8822314 ]\n"
          ]
        }
      ],
      "source": [
        "#do a 10 fold cross-validation \n",
        "results_svm = cross_val_score(classifier_svm, X,target, cv=10)\n",
        "print(\"\\n10-fold cross-validation:\")\n",
        "print(results_svm)"
      ]
    },
    {
      "cell_type": "code",
      "execution_count": 91,
      "metadata": {
        "colab": {
          "base_uri": "https://localhost:8080/"
        },
        "id": "irRobBNqEmRl",
        "outputId": "fe84b5cc-5a17-413a-80bb-5f815030ae8b"
      },
      "outputs": [
        {
          "output_type": "stream",
          "name": "stdout",
          "text": [
            "The average accuracy of the SVM classifier is : 0.83\n"
          ]
        }
      ],
      "source": [
        "print(\"The average accuracy of the SVM classifier is : %.2f\" % np.mean(results_svm))"
      ]
    },
    {
      "cell_type": "code",
      "execution_count": 92,
      "metadata": {
        "colab": {
          "base_uri": "https://localhost:8080/"
        },
        "id": "Z97t1JP1EmE1",
        "outputId": "e38f08e3-f1c1-471b-c9ba-8bf31e2cffc6"
      },
      "outputs": [
        {
          "output_type": "stream",
          "name": "stdout",
          "text": [
            "\n",
            "Confusion matrix of the SVM classifier:\n",
            "[[1989  141]\n",
            " [ 337  438]]\n"
          ]
        }
      ],
      "source": [
        "print(\"\\nConfusion matrix of the SVM classifier:\")\n",
        "predicted_svm = classifier_svm.predict(X_test)\n",
        "print(confusion_matrix(y_test,predicted_svm))"
      ]
    },
    {
      "cell_type": "code",
      "execution_count": 93,
      "metadata": {
        "colab": {
          "base_uri": "https://localhost:8080/"
        },
        "id": "hY7xf9JGElj0",
        "outputId": "bda1954c-de93-44af-8c9f-f92a16590ae2"
      },
      "outputs": [
        {
          "output_type": "stream",
          "name": "stdout",
          "text": [
            "\n",
            "Classification_report of SVM classifier:\n",
            "              precision    recall  f1-score   support\n",
            "\n",
            "         0.0       0.86      0.93      0.89      2130\n",
            "         1.0       0.76      0.57      0.65       775\n",
            "\n",
            "    accuracy                           0.84      2905\n",
            "   macro avg       0.81      0.75      0.77      2905\n",
            "weighted avg       0.83      0.84      0.83      2905\n",
            "\n"
          ]
        }
      ],
      "source": [
        "print(\"\\nClassification_report of SVM classifier:\")\n",
        "print(classification_report(y_test,predicted_svm))"
      ]
    },
    {
      "cell_type": "code",
      "execution_count": 94,
      "metadata": {
        "id": "pojQMQgMzG5c"
      },
      "outputs": [],
      "source": [
        " # classifier = ConfusionMatrixDisplay.from_estimator(classifier_svm, X_test, y_test, display_labels=['negative', 'positive'], cmap=plt.cm.Blues)\n",
        "    # plt.show()"
      ]
    },
    {
      "cell_type": "code",
      "execution_count": 95,
      "metadata": {
        "id": "D5q-Pj1noQCx"
      },
      "outputs": [],
      "source": [
        "# calculate the fpr and tpr for all thresholds of the classification\n",
        "probs = classifier_svm.predict_proba(X_test)\n",
        "preds = probs[:,1]\n",
        "\n",
        "fpr, tpr, threshold = metrics.roc_curve(y_test, preds)\n",
        "roc_auc = metrics.auc(fpr, tpr)"
      ]
    },
    {
      "cell_type": "code",
      "execution_count": 96,
      "metadata": {
        "colab": {
          "base_uri": "https://localhost:8080/",
          "height": 296
        },
        "id": "lBOGalTNoQCy",
        "outputId": "22478f4f-d9bb-4d95-975b-a00388f9f2db"
      },
      "outputs": [
        {
          "output_type": "display_data",
          "data": {
            "text/plain": [
              "<Figure size 432x288 with 1 Axes>"
            ],
            "image/png": "[encoded data removed]"
          },
          "metadata": {
            "needs_background": "light"
          }
        }
      ],
      "source": [
        "# polt the AUC\n",
        "plt.title('Receiver Operating Characteristic SVM classifier')\n",
        "plt.plot(fpr, tpr, 'b', label = 'AUC = %0.2f' % roc_auc)\n",
        "plt.legend(loc = 'lower right')\n",
        "plt.plot([0, 1], [0, 1],'r--')\n",
        "plt.xlim([0, 1])\n",
        "plt.ylim([0, 1])\n",
        "plt.ylabel('True Positive Rate')\n",
        "plt.xlabel('False Positive Rate')\n",
        "plt.show()"
      ]
    },
    {
      "cell_type": "markdown",
      "metadata": {
        "id": "mM5fGr-Bi44a"
      },
      "source": [
        "# **Balancing the dataframe**"
      ]
    },
    {
      "cell_type": "code",
      "execution_count": 97,
      "metadata": {
        "colab": {
          "base_uri": "https://localhost:8080/"
        },
        "id": "33mm3GzM3YRc",
        "outputId": "0420df42-17fe-4522-8912-9202da20e2bd"
      },
      "outputs": [
        {
          "output_type": "execute_result",
          "data": {
            "text/plain": [
              "0.00000    7097\n",
              "1.00000    2585\n",
              "Name: Sentiment, dtype: int64"
            ]
          },
          "metadata": {},
          "execution_count": 97
        }
      ],
      "source": [
        "data_df['Sentiment'].value_counts()"
      ]
    },
    {
      "cell_type": "code",
      "execution_count": 98,
      "metadata": {
        "id": "GnjZ8plbiZP-"
      },
      "outputs": [],
      "source": [
        "#number of positive\n",
        "max_class = len(data_df[data_df['Sentiment']==0]) \n",
        "#number of negative\n",
        "min_class = len(data_df[data_df['Sentiment']==1]) "
      ]
    },
    {
      "cell_type": "code",
      "execution_count": 99,
      "metadata": {
        "id": "5MKcADQ8imuR"
      },
      "outputs": [],
      "source": [
        "positiveRet = data_df[data_df['Sentiment']==0].sample(n = max_class)\n",
        "negativeRet = data_df[data_df['Sentiment']==1].sample(n = min_class)\n",
        "balancedData = positiveRet.append(negativeRet)\n",
        "\n",
        "remain = max_class \n",
        "remain = remain - min_class"
      ]
    },
    {
      "cell_type": "code",
      "execution_count": 100,
      "metadata": {
        "id": "erjSeJJFitpw"
      },
      "outputs": [],
      "source": [
        "#duplicate the negative\n",
        "while remain > 0:\n",
        "  if remain <=  min_class:\n",
        "    negativeRet = data_df[data_df['Sentiment']==1].sample(n = remain)\n",
        "  else:\n",
        "    negativeRet = data_df[data_df['Sentiment']==1].sample(n = min_class)\n",
        "  remain = remain - min_class\n",
        "  balancedData = balancedData.append(negativeRet)"
      ]
    },
    {
      "cell_type": "code",
      "execution_count": 101,
      "metadata": {
        "id": "pK5CDSIeiwUn"
      },
      "outputs": [],
      "source": [
        "balancedData = balancedData.sample(frac=1).reset_index(drop=True)"
      ]
    },
    {
      "cell_type": "code",
      "execution_count": 102,
      "metadata": {
        "colab": {
          "base_uri": "https://localhost:8080/"
        },
        "id": "eGDRp_Dl3m13",
        "outputId": "c5885433-46c9-463e-9d7f-358102e4945c"
      },
      "outputs": [
        {
          "output_type": "execute_result",
          "data": {
            "text/plain": [
              "0.00000    7097\n",
              "1.00000    7097\n",
              "Name: Sentiment, dtype: int64"
            ]
          },
          "metadata": {},
          "execution_count": 102
        }
      ],
      "source": [
        "balancedData['Sentiment'].value_counts()"
      ]
    },
    {
      "cell_type": "code",
      "execution_count": 103,
      "metadata": {
        "colab": {
          "base_uri": "https://localhost:8080/"
        },
        "id": "RkeVvtn33sPx",
        "outputId": "d7464c4a-b673-43b0-a806-4ced59bfae9a"
      },
      "outputs": [
        {
          "output_type": "stream",
          "name": "stdout",
          "text": [
            "<class 'pandas.core.frame.DataFrame'>\n",
            "RangeIndex: 14194 entries, 0 to 14193\n",
            "Data columns (total 2 columns):\n",
            " #   Column      Non-Null Count  Dtype  \n",
            "---  ------      --------------  -----  \n",
            " 0   Sentiment   14194 non-null  float64\n",
            " 1   Clean Text  14194 non-null  object \n",
            "dtypes: float64(1), object(1)\n",
            "memory usage: 221.9+ KB\n"
          ]
        }
      ],
      "source": [
        "balancedData.info(verbose=True)"
      ]
    },
    {
      "cell_type": "code",
      "execution_count": 104,
      "metadata": {
        "colab": {
          "base_uri": "https://localhost:8080/"
        },
        "id": "anpWDFwP3vce",
        "outputId": "ead6a06c-96d5-4b91-d013-94ea1736df34"
      },
      "outputs": [
        {
          "output_type": "execute_result",
          "data": {
            "text/plain": [
              "(14194, 11802)"
            ]
          },
          "metadata": {},
          "execution_count": 104
        }
      ],
      "source": [
        "#for instantiate CountVectorizer()\n",
        "BcountVec= CountVectorizer()\n",
        "#for the result word counts for the words\n",
        "Bword_count_vector=countVec.fit_transform(balancedData[\"Clean Text\"].values.astype('U')) # Stemming not clean text\n",
        "Bword_count_vector.shape"
      ]
    },
    {
      "cell_type": "code",
      "execution_count": 105,
      "metadata": {
        "colab": {
          "base_uri": "https://localhost:8080/"
        },
        "id": "QsgPRsnL3xoD",
        "outputId": "1512131f-3ffa-4f72-d19f-f595709b39b0"
      },
      "outputs": [
        {
          "output_type": "execute_result",
          "data": {
            "text/plain": [
              "TfidfTransformer()"
            ]
          },
          "metadata": {},
          "execution_count": 105
        }
      ],
      "source": [
        "#Transform a count matrix to a normalized tf-idf \n",
        "Btfidf_transformer=TfidfTransformer(smooth_idf=True,use_idf=True)\n",
        "#this for the idf values\n",
        "Btfidf_transformer.fit(Bword_count_vector)"
      ]
    },
    {
      "cell_type": "code",
      "execution_count": 106,
      "metadata": {
        "id": "cJv8xEIP3zqv"
      },
      "outputs": [],
      "source": [
        "# identify the data and the labels\n",
        "# the independent variable \n",
        "Bdata= balancedData['Clean Text'] \n",
        "# the dependent variable \n",
        "Btarget= balancedData['Sentiment']"
      ]
    },
    {
      "cell_type": "code",
      "execution_count": 107,
      "metadata": {
        "colab": {
          "base_uri": "https://localhost:8080/"
        },
        "id": "caWovNpi31Y4",
        "outputId": "110c093c-d719-4f86-b505-d798bd2f57c9"
      },
      "outputs": [
        {
          "output_type": "execute_result",
          "data": {
            "text/plain": [
              "(14194, 11802)"
            ]
          },
          "metadata": {},
          "execution_count": 107
        }
      ],
      "source": [
        "# Use TfidfVectorizer for feature extraction (TFIDF to convert textual data to numeric form):\n",
        "Btf_vec = TfidfVectorizer()\n",
        "X = Btf_vec.fit_transform(Bdata)\n",
        "X.shape"
      ]
    },
    {
      "cell_type": "code",
      "execution_count": 108,
      "metadata": {
        "id": "LtqLEsdU33V-"
      },
      "outputs": [],
      "source": [
        "# Training Phase\n",
        "X_train, X_test, y_train, y_test = train_test_split(X, Btarget, test_size=0.30, random_state=0)"
      ]
    },
    {
      "cell_type": "code",
      "execution_count": 109,
      "metadata": {
        "colab": {
          "base_uri": "https://localhost:8080/"
        },
        "id": "bfVZemus35dm",
        "outputId": "ec7c0135-8ab8-49cd-8e27-253ca316ef70"
      },
      "outputs": [
        {
          "output_type": "stream",
          "name": "stdout",
          "text": [
            "(9935, 11802) (4259, 11802) (9935,) (4259,)\n"
          ]
        }
      ],
      "source": [
        "print(X_train.shape,X_test.shape,y_train.shape,y_test.shape)"
      ]
    },
    {
      "cell_type": "markdown",
      "metadata": {
        "id": "b5Iwh66F8lsC"
      },
      "source": [
        "# Balanced NB"
      ]
    },
    {
      "cell_type": "code",
      "execution_count": 110,
      "metadata": {
        "colab": {
          "base_uri": "https://localhost:8080/"
        },
        "id": "l4W1YrTz3_Ff",
        "outputId": "8c52081b-3709-468d-aa6a-7acec5f702bd"
      },
      "outputs": [
        {
          "output_type": "stream",
          "name": "stderr",
          "text": [
            "/usr/local/lib/python3.7/dist-packages/sklearn/utils/validation.py:598: FutureWarning: np.matrix usage is deprecated in 1.0 and will raise a TypeError in 1.2. Please convert to a numpy array with np.asarray. For more information see: https://numpy.org/doc/stable/reference/generated/numpy.matrix.html\n",
            "  FutureWarning,\n"
          ]
        }
      ],
      "source": [
        "# create the classifer and fit the training data and lables\n",
        "Bclassifier_nb = MultinomialNB().fit(X_train.todense(),y_train)"
      ]
    },
    {
      "cell_type": "code",
      "execution_count": 111,
      "metadata": {
        "id": "If_rEL1y37fy",
        "colab": {
          "base_uri": "https://localhost:8080/"
        },
        "outputId": "aa475d89-dfb8-4330-8460-4fd5d5d62826"
      },
      "outputs": [
        {
          "output_type": "stream",
          "name": "stdout",
          "text": [
            " Balanced MultinomialNB accuracy: 0.83\n"
          ]
        },
        {
          "output_type": "stream",
          "name": "stderr",
          "text": [
            "/usr/local/lib/python3.7/dist-packages/sklearn/utils/validation.py:598: FutureWarning: np.matrix usage is deprecated in 1.0 and will raise a TypeError in 1.2. Please convert to a numpy array with np.asarray. For more information see: https://numpy.org/doc/stable/reference/generated/numpy.matrix.html\n",
            "  FutureWarning,\n"
          ]
        }
      ],
      "source": [
        "print(\" Balanced MultinomialNB accuracy: %.2f\"%Bclassifier_nb.score(X_test.todense(), y_test))"
      ]
    },
    {
      "cell_type": "code",
      "execution_count": 112,
      "metadata": {
        "id": "RC0c3vYr4Frp",
        "colab": {
          "base_uri": "https://localhost:8080/"
        },
        "outputId": "18ce3610-d4d9-4782-9255-d554c4fe8193"
      },
      "outputs": [
        {
          "output_type": "stream",
          "name": "stderr",
          "text": [
            "/usr/local/lib/python3.7/dist-packages/sklearn/utils/validation.py:598: FutureWarning: np.matrix usage is deprecated in 1.0 and will raise a TypeError in 1.2. Please convert to a numpy array with np.asarray. For more information see: https://numpy.org/doc/stable/reference/generated/numpy.matrix.html\n",
            "  FutureWarning,\n",
            "/usr/local/lib/python3.7/dist-packages/sklearn/utils/validation.py:598: FutureWarning: np.matrix usage is deprecated in 1.0 and will raise a TypeError in 1.2. Please convert to a numpy array with np.asarray. For more information see: https://numpy.org/doc/stable/reference/generated/numpy.matrix.html\n",
            "  FutureWarning,\n",
            "/usr/local/lib/python3.7/dist-packages/sklearn/utils/validation.py:598: FutureWarning: np.matrix usage is deprecated in 1.0 and will raise a TypeError in 1.2. Please convert to a numpy array with np.asarray. For more information see: https://numpy.org/doc/stable/reference/generated/numpy.matrix.html\n",
            "  FutureWarning,\n",
            "/usr/local/lib/python3.7/dist-packages/sklearn/utils/validation.py:598: FutureWarning: np.matrix usage is deprecated in 1.0 and will raise a TypeError in 1.2. Please convert to a numpy array with np.asarray. For more information see: https://numpy.org/doc/stable/reference/generated/numpy.matrix.html\n",
            "  FutureWarning,\n",
            "/usr/local/lib/python3.7/dist-packages/sklearn/utils/validation.py:598: FutureWarning: np.matrix usage is deprecated in 1.0 and will raise a TypeError in 1.2. Please convert to a numpy array with np.asarray. For more information see: https://numpy.org/doc/stable/reference/generated/numpy.matrix.html\n",
            "  FutureWarning,\n",
            "/usr/local/lib/python3.7/dist-packages/sklearn/utils/validation.py:598: FutureWarning: np.matrix usage is deprecated in 1.0 and will raise a TypeError in 1.2. Please convert to a numpy array with np.asarray. For more information see: https://numpy.org/doc/stable/reference/generated/numpy.matrix.html\n",
            "  FutureWarning,\n",
            "/usr/local/lib/python3.7/dist-packages/sklearn/utils/validation.py:598: FutureWarning: np.matrix usage is deprecated in 1.0 and will raise a TypeError in 1.2. Please convert to a numpy array with np.asarray. For more information see: https://numpy.org/doc/stable/reference/generated/numpy.matrix.html\n",
            "  FutureWarning,\n",
            "/usr/local/lib/python3.7/dist-packages/sklearn/utils/validation.py:598: FutureWarning: np.matrix usage is deprecated in 1.0 and will raise a TypeError in 1.2. Please convert to a numpy array with np.asarray. For more information see: https://numpy.org/doc/stable/reference/generated/numpy.matrix.html\n",
            "  FutureWarning,\n",
            "/usr/local/lib/python3.7/dist-packages/sklearn/utils/validation.py:598: FutureWarning: np.matrix usage is deprecated in 1.0 and will raise a TypeError in 1.2. Please convert to a numpy array with np.asarray. For more information see: https://numpy.org/doc/stable/reference/generated/numpy.matrix.html\n",
            "  FutureWarning,\n",
            "/usr/local/lib/python3.7/dist-packages/sklearn/utils/validation.py:598: FutureWarning: np.matrix usage is deprecated in 1.0 and will raise a TypeError in 1.2. Please convert to a numpy array with np.asarray. For more information see: https://numpy.org/doc/stable/reference/generated/numpy.matrix.html\n",
            "  FutureWarning,\n",
            "/usr/local/lib/python3.7/dist-packages/sklearn/utils/validation.py:598: FutureWarning: np.matrix usage is deprecated in 1.0 and will raise a TypeError in 1.2. Please convert to a numpy array with np.asarray. For more information see: https://numpy.org/doc/stable/reference/generated/numpy.matrix.html\n",
            "  FutureWarning,\n",
            "/usr/local/lib/python3.7/dist-packages/sklearn/utils/validation.py:598: FutureWarning: np.matrix usage is deprecated in 1.0 and will raise a TypeError in 1.2. Please convert to a numpy array with np.asarray. For more information see: https://numpy.org/doc/stable/reference/generated/numpy.matrix.html\n",
            "  FutureWarning,\n",
            "/usr/local/lib/python3.7/dist-packages/sklearn/utils/validation.py:598: FutureWarning: np.matrix usage is deprecated in 1.0 and will raise a TypeError in 1.2. Please convert to a numpy array with np.asarray. For more information see: https://numpy.org/doc/stable/reference/generated/numpy.matrix.html\n",
            "  FutureWarning,\n",
            "/usr/local/lib/python3.7/dist-packages/sklearn/utils/validation.py:598: FutureWarning: np.matrix usage is deprecated in 1.0 and will raise a TypeError in 1.2. Please convert to a numpy array with np.asarray. For more information see: https://numpy.org/doc/stable/reference/generated/numpy.matrix.html\n",
            "  FutureWarning,\n",
            "/usr/local/lib/python3.7/dist-packages/sklearn/utils/validation.py:598: FutureWarning: np.matrix usage is deprecated in 1.0 and will raise a TypeError in 1.2. Please convert to a numpy array with np.asarray. For more information see: https://numpy.org/doc/stable/reference/generated/numpy.matrix.html\n",
            "  FutureWarning,\n",
            "/usr/local/lib/python3.7/dist-packages/sklearn/utils/validation.py:598: FutureWarning: np.matrix usage is deprecated in 1.0 and will raise a TypeError in 1.2. Please convert to a numpy array with np.asarray. For more information see: https://numpy.org/doc/stable/reference/generated/numpy.matrix.html\n",
            "  FutureWarning,\n",
            "/usr/local/lib/python3.7/dist-packages/sklearn/utils/validation.py:598: FutureWarning: np.matrix usage is deprecated in 1.0 and will raise a TypeError in 1.2. Please convert to a numpy array with np.asarray. For more information see: https://numpy.org/doc/stable/reference/generated/numpy.matrix.html\n",
            "  FutureWarning,\n",
            "/usr/local/lib/python3.7/dist-packages/sklearn/utils/validation.py:598: FutureWarning: np.matrix usage is deprecated in 1.0 and will raise a TypeError in 1.2. Please convert to a numpy array with np.asarray. For more information see: https://numpy.org/doc/stable/reference/generated/numpy.matrix.html\n",
            "  FutureWarning,\n",
            "/usr/local/lib/python3.7/dist-packages/sklearn/utils/validation.py:598: FutureWarning: np.matrix usage is deprecated in 1.0 and will raise a TypeError in 1.2. Please convert to a numpy array with np.asarray. For more information see: https://numpy.org/doc/stable/reference/generated/numpy.matrix.html\n",
            "  FutureWarning,\n"
          ]
        },
        {
          "output_type": "stream",
          "name": "stdout",
          "text": [
            "\n",
            " Balanced 10-fold cross-validation:\n",
            "[0.84295775 0.84577465 0.81197183 0.85211268 0.85482734 0.8111346\n",
            " 0.84566596 0.84214235 0.82875264 0.84989429]\n",
            "The average accuracy of the Balanced MultinomialNB classifier is : 0.84\n"
          ]
        },
        {
          "output_type": "stream",
          "name": "stderr",
          "text": [
            "/usr/local/lib/python3.7/dist-packages/sklearn/utils/validation.py:598: FutureWarning: np.matrix usage is deprecated in 1.0 and will raise a TypeError in 1.2. Please convert to a numpy array with np.asarray. For more information see: https://numpy.org/doc/stable/reference/generated/numpy.matrix.html\n",
            "  FutureWarning,\n"
          ]
        }
      ],
      "source": [
        "#do a 10 fold cross-validation \n",
        "Bresults_nb = cross_val_score(Bclassifier_nb, X.todense(),Btarget, cv=10)\n",
        "print(\"\\n Balanced 10-fold cross-validation:\")\n",
        "print(Bresults_nb)\n",
        "#calcuate the avrage accuracy\n",
        "print(\"The average accuracy of the Balanced MultinomialNB classifier is : %.2f\" % np.mean(Bresults_nb))"
      ]
    },
    {
      "cell_type": "code",
      "execution_count": 113,
      "metadata": {
        "id": "0g61VvM15rl4",
        "colab": {
          "base_uri": "https://localhost:8080/"
        },
        "outputId": "eb0ca020-6a6f-41ad-f25a-8b0930c4d611"
      },
      "outputs": [
        {
          "output_type": "stream",
          "name": "stderr",
          "text": [
            "/usr/local/lib/python3.7/dist-packages/sklearn/utils/validation.py:598: FutureWarning: np.matrix usage is deprecated in 1.0 and will raise a TypeError in 1.2. Please convert to a numpy array with np.asarray. For more information see: https://numpy.org/doc/stable/reference/generated/numpy.matrix.html\n",
            "  FutureWarning,\n"
          ]
        }
      ],
      "source": [
        "Bpredicted_nb = Bclassifier_nb.predict(X_test.todense())"
      ]
    },
    {
      "cell_type": "code",
      "execution_count": 114,
      "metadata": {
        "id": "LKrINUh-4JsJ",
        "colab": {
          "base_uri": "https://localhost:8080/"
        },
        "outputId": "53940a64-3adc-44ad-d331-67afd9e7128f"
      },
      "outputs": [
        {
          "output_type": "stream",
          "name": "stdout",
          "text": [
            "\n",
            "Confusion matrix of the Balanced MultinomialNB classifier:\n",
            "[[1769  380]\n",
            " [ 343 1767]]\n"
          ]
        }
      ],
      "source": [
        "#print confusion matrix\n",
        "print(\"\\nConfusion matrix of the Balanced MultinomialNB classifier:\")\n",
        "print(confusion_matrix(y_test,Bpredicted_nb))"
      ]
    },
    {
      "cell_type": "code",
      "execution_count": 115,
      "metadata": {
        "id": "iRnRTxgp4Ljg",
        "colab": {
          "base_uri": "https://localhost:8080/"
        },
        "outputId": "ddfe99b8-e32b-4c4f-a6ca-807e70652ea8"
      },
      "outputs": [
        {
          "output_type": "stream",
          "name": "stdout",
          "text": [
            "\n",
            "Classification_report of Balanced MultinomialNB classifier:\n",
            "              precision    recall  f1-score   support\n",
            "\n",
            "         0.0       0.84      0.82      0.83      2149\n",
            "         1.0       0.82      0.84      0.83      2110\n",
            "\n",
            "    accuracy                           0.83      4259\n",
            "   macro avg       0.83      0.83      0.83      4259\n",
            "weighted avg       0.83      0.83      0.83      4259\n",
            "\n",
            "----------------------------------------------------------------------------\n"
          ]
        }
      ],
      "source": [
        "#print Classification report\n",
        "print(\"\\nClassification_report of Balanced MultinomialNB classifier:\")\n",
        "print(classification_report(y_test,Bpredicted_nb))\n",
        "print(\"----------------------------------------------------------------------------\")"
      ]
    },
    {
      "cell_type": "code",
      "execution_count": 116,
      "metadata": {
        "id": "U5oAKMOz4NhQ"
      },
      "outputs": [],
      "source": [
        "# calculate the fpr and tpr for all thresholds of the classification\n",
        "\n",
        "Bprobs = Bclassifier_nb.predict_proba(X_test)\n",
        "Bpreds = Bprobs[:,1]\n",
        "\n",
        "fpr, tpr, threshold = metrics.roc_curve(y_test, Bpreds)\n",
        "Broc_auc = metrics.auc(fpr, tpr)"
      ]
    },
    {
      "cell_type": "code",
      "execution_count": 117,
      "metadata": {
        "id": "OMMVA70-4PNP",
        "colab": {
          "base_uri": "https://localhost:8080/",
          "height": 296
        },
        "outputId": "2f516621-022b-4dce-ed40-8ed4d8a7963f"
      },
      "outputs": [
        {
          "output_type": "display_data",
          "data": {
            "text/plain": [
              "<Figure size 432x288 with 1 Axes>"
            ],
            "image/png": "[encoded data removed]"
          },
          "metadata": {
            "needs_background": "light"
          }
        }
      ],
      "source": [
        "# polt AUC\n",
        "plt.title('Receiver Operating Characteristic for Balanced Naive Bayes classifier')\n",
        "plt.plot(fpr, tpr, 'b', label = 'AUC = %0.2f' % Broc_auc)\n",
        "plt.legend(loc = 'lower right')\n",
        "plt.plot([0, 1], [0, 1],'r--')\n",
        "plt.xlim([0, 1])\n",
        "plt.ylim([0, 1])\n",
        "plt.ylabel('True Positive Rate')\n",
        "plt.xlabel('False Positive Rate')\n",
        "plt.show()"
      ]
    },
    {
      "cell_type": "markdown",
      "metadata": {
        "id": "jbqxRXvS9-6Y"
      },
      "source": [
        "# Balanced SVM"
      ]
    },
    {
      "cell_type": "code",
      "execution_count": 118,
      "metadata": {
        "id": "CxlHQgKQ-bDJ",
        "colab": {
          "base_uri": "https://localhost:8080/"
        },
        "outputId": "aed05d81-b2d2-4287-bbf0-cea6b3f1944b"
      },
      "outputs": [
        {
          "output_type": "stream",
          "name": "stdout",
          "text": [
            "SVM accuracy: 0.84\n"
          ]
        }
      ],
      "source": [
        "# create the classifer and fit the training data and lables\n",
        "Bclassifier_svm = svm.SVC(kernel='linear', C=1, probability=True).fit(X_train,y_train)\n",
        "\n",
        "print(\"SVM accuracy: %.2f\"%Bclassifier_svm.score(X_test, y_test))"
      ]
    },
    {
      "cell_type": "code",
      "execution_count": 119,
      "metadata": {
        "id": "cogLjTai-fVc",
        "colab": {
          "base_uri": "https://localhost:8080/"
        },
        "outputId": "438f608e-c6e1-4f3c-b75a-c0616eae1aeb"
      },
      "outputs": [
        {
          "output_type": "stream",
          "name": "stdout",
          "text": [
            "\n",
            "10-fold cross-validation:\n",
            "[0.86338028 0.85774648 0.85422535 0.87042254 0.863284   0.84073291\n",
            " 0.86680761 0.85200846 0.86257928 0.86751233]\n"
          ]
        }
      ],
      "source": [
        "#do a 10 fold cross-validation \n",
        "Bresults_svm = cross_val_score(Bclassifier_svm, X,Btarget, cv=10)\n",
        "\n",
        "print(\"\\n10-fold cross-validation:\")\n",
        "print(Bresults_svm)"
      ]
    },
    {
      "cell_type": "code",
      "execution_count": 120,
      "metadata": {
        "id": "G-oHypsl-iG_",
        "colab": {
          "base_uri": "https://localhost:8080/"
        },
        "outputId": "2acc660a-72e9-465e-879e-b24674a7c896"
      },
      "outputs": [
        {
          "output_type": "stream",
          "name": "stdout",
          "text": [
            "The average accuracy of the SVM classifier is : 0.86\n"
          ]
        }
      ],
      "source": [
        "print(\"The average accuracy of the SVM classifier is : %.2f\" % np.mean(Bresults_svm))"
      ]
    },
    {
      "cell_type": "code",
      "execution_count": 121,
      "metadata": {
        "id": "S-CNBih0-n12",
        "colab": {
          "base_uri": "https://localhost:8080/"
        },
        "outputId": "f3ec4fcb-64e7-4afd-e632-2c195df9e9a7"
      },
      "outputs": [
        {
          "output_type": "stream",
          "name": "stdout",
          "text": [
            "\n",
            "Confusion matrix of the SVM classifier:\n",
            "[[1793  356]\n",
            " [ 325 1785]]\n"
          ]
        }
      ],
      "source": [
        "print(\"\\nConfusion matrix of the SVM classifier:\")\n",
        "Bpredicted_svm = Bclassifier_svm.predict(X_test)\n",
        "print(confusion_matrix(y_test,Bpredicted_svm))"
      ]
    },
    {
      "cell_type": "code",
      "execution_count": 122,
      "metadata": {
        "id": "pVSNia4G-vnC",
        "colab": {
          "base_uri": "https://localhost:8080/"
        },
        "outputId": "fcbaa6d2-ee59-4e85-a978-e3e8b722e4c6"
      },
      "outputs": [
        {
          "output_type": "stream",
          "name": "stdout",
          "text": [
            "\n",
            "Classification_report of SVM classifier:\n",
            "              precision    recall  f1-score   support\n",
            "\n",
            "         0.0       0.85      0.83      0.84      2149\n",
            "         1.0       0.83      0.85      0.84      2110\n",
            "\n",
            "    accuracy                           0.84      4259\n",
            "   macro avg       0.84      0.84      0.84      4259\n",
            "weighted avg       0.84      0.84      0.84      4259\n",
            "\n"
          ]
        }
      ],
      "source": [
        "print(\"\\nClassification_report of SVM classifier:\")\n",
        "print(classification_report(y_test,Bpredicted_svm))"
      ]
    },
    {
      "cell_type": "code",
      "execution_count": 123,
      "metadata": {
        "id": "S9Fj5mmG_Ben"
      },
      "outputs": [],
      "source": [
        "# calculate the fpr and tpr for all thresholds of the classification\n",
        "Bprobs = Bclassifier_svm.predict_proba(X_test)\n",
        "\n",
        "Bpreds = Bprobs[:,1]\n",
        "\n",
        "fpr, tpr, threshold = metrics.roc_curve(y_test, Bpreds)\n",
        "roc_auc = metrics.auc(fpr, tpr)"
      ]
    },
    {
      "cell_type": "code",
      "execution_count": 124,
      "metadata": {
        "id": "ddqIBriW_EzD",
        "colab": {
          "base_uri": "https://localhost:8080/",
          "height": 296
        },
        "outputId": "b080c507-4cc6-4b76-c760-5411fd08fe1b"
      },
      "outputs": [
        {
          "output_type": "display_data",
          "data": {
            "text/plain": [
              "<Figure size 432x288 with 1 Axes>"
            ],
            "image/png": "[encoded data removed]"
          },
          "metadata": {
            "needs_background": "light"
          }
        }
      ],
      "source": [
        "# polt the AUC\n",
        "plt.title('Receiver Operating Characteristic Balanced SVM classifier')\n",
        "plt.plot(fpr, tpr, 'b', label = 'AUC = %0.2f' % roc_auc)\n",
        "plt.legend(loc = 'lower right')\n",
        "plt.plot([0, 1], [0, 1],'r--')\n",
        "plt.xlim([0, 1])\n",
        "plt.ylim([0, 1])\n",
        "plt.ylabel('True Positive Rate')\n",
        "plt.xlabel('False Positive Rate')\n",
        "plt.show()"
      ]
    }
  ],
  "metadata": {
    "colab": {
      "collapsed_sections": [
        "dbkQSOfVoP_s",
        "U2APQqWC1TiZ",
        "6zd3acEGoQA8",
        "i978MWumt4R0",
        "TGfgTl2aZrcy",
        "uc-PjFc8ZuvQ",
        "3fHtFRtuZ6t6",
        "r1-EUBDzoQCv",
        "mM5fGr-Bi44a",
        "b5Iwh66F8lsC",
        "jbqxRXvS9-6Y"
      ],
      "name": "Copy of Copy of ResFullCode.ipynb",
      "provenance": [],
      "toc_visible": true,
      "include_colab_link": true
    },
    "kernelspec": {
      "display_name": "Python 3",
      "language": "python",
      "name": "python3"
    },
    "language_info": {
      "codemirror_mode": {
        "name": "ipython",
        "version": 3
      },
      "file_extension": ".py",
      "mimetype": "text/x-python",
      "name": "python",
      "nbconvert_exporter": "python",
      "pygments_lexer": "ipython3",
      "version": "3.8.3"
    }
  },
  "nbformat": 4,
  "nbformat_minor": 0
}